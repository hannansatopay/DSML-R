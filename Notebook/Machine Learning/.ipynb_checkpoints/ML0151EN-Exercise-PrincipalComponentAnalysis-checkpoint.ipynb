{
 "cells": [
  {
   "cell_type": "markdown",
   "metadata": {},
   "source": [
    "<a href=\"https://www.bigdatauniversity.com\"><img src = \"https://ibm.box.com/shared/static/cw2c7r3o20w9zn8gkecaeyjhgw3xdgbj.png\" width = 400, align = \"center\"></a>\n",
    "\n",
    "<h1 align=center><font size = 5> Principal Component Analysis (PCA) in R </font></h1>"
   ]
  },
  {
   "cell_type": "markdown",
   "metadata": {},
   "source": [
    "### Exercise:\n",
    "\n",
    "In this exercise, we will be using the <font color = \"green\">credit_Fraud.csv</font> data set. This dataset contains various information on the credit history of customers of a financial institution.\n",
    "\n",
    "The objective of this exercise is to use principal component analysis to reduce the number of features of the dataset into a smaller set of linearly uncorrelated features (principal components)."
   ]
  },
  {
   "cell_type": "markdown",
   "metadata": {},
   "source": [
    "#### Load the data"
   ]
  },
  {
   "cell_type": "code",
   "execution_count": 1,
   "metadata": {},
   "outputs": [
    {
     "data": {
      "text/html": [
       "<table>\n",
       "<thead><tr><th scope=col>over_draft</th><th scope=col>credit_usage</th><th scope=col>credit_history</th><th scope=col>purpose</th><th scope=col>current_balance</th><th scope=col>Average_Credit_Balance</th><th scope=col>employment</th><th scope=col>location</th><th scope=col>personal_status</th><th scope=col>other_parties</th><th scope=col>...</th><th scope=col>property_magnitude</th><th scope=col>cc_age</th><th scope=col>other_payment_plans</th><th scope=col>housing</th><th scope=col>existing_credits</th><th scope=col>job</th><th scope=col>num_dependents</th><th scope=col>own_telephone</th><th scope=col>foreign_worker</th><th scope=col>class</th></tr></thead>\n",
       "<tbody>\n",
       "\t<tr><td><span style=white-space:pre-wrap>&lt;0         </span>     </td><td> 6                                                         </td><td>critical/other existing credit                             </td><td><span style=white-space:pre-wrap>radio/tv           </span></td><td>1169                                                       </td><td>no known savings                                           </td><td><span style=white-space:pre-wrap>&gt;=7   </span>          </td><td>4                                                          </td><td><span style=white-space:pre-wrap>male single       </span> </td><td><span style=white-space:pre-wrap>none     </span>          </td><td>...                                                        </td><td><span style=white-space:pre-wrap>real estate      </span>  </td><td>67                                                         </td><td>none                                                       </td><td><span style=white-space:pre-wrap>own     </span>           </td><td>2                                                          </td><td><span style=white-space:pre-wrap>skilled           </span> </td><td>1                                                          </td><td>yes                                                        </td><td>yes                                                        </td><td>good                                                       </td></tr>\n",
       "\t<tr><td><span style=white-space:pre-wrap>0&lt;=X&lt;200   </span>             </td><td>48                                                                    </td><td><span style=white-space:pre-wrap>existing paid                 </span></td><td><span style=white-space:pre-wrap>radio/tv           </span>           </td><td>5951                                                                  </td><td><span style=white-space:pre-wrap>&lt;100            </span>           </td><td>1&lt;=X&lt;4                                                          </td><td>2                                                                     </td><td>female div/dep/mar                                                    </td><td><span style=white-space:pre-wrap>none     </span>                     </td><td>...                                                                   </td><td><span style=white-space:pre-wrap>real estate      </span>             </td><td>22                                                                    </td><td>none                                                                  </td><td><span style=white-space:pre-wrap>own     </span>                      </td><td>1                                                                     </td><td><span style=white-space:pre-wrap>skilled           </span>            </td><td>1                                                                     </td><td>none                                                                  </td><td>yes                                                                   </td><td>bad                                                                   </td></tr>\n",
       "\t<tr><td>no checking                                                </td><td>12                                                         </td><td>critical/other existing credit                             </td><td><span style=white-space:pre-wrap>education          </span></td><td>2096                                                       </td><td><span style=white-space:pre-wrap>&lt;100            </span></td><td>4&lt;=X&lt;7                                               </td><td>2                                                          </td><td><span style=white-space:pre-wrap>male single       </span> </td><td><span style=white-space:pre-wrap>none     </span>          </td><td>...                                                        </td><td><span style=white-space:pre-wrap>real estate      </span>  </td><td>49                                                         </td><td>none                                                       </td><td><span style=white-space:pre-wrap>own     </span>           </td><td>1                                                          </td><td>unskilled resident                                         </td><td>2                                                          </td><td>none                                                       </td><td>yes                                                        </td><td>good                                                       </td></tr>\n",
       "\t<tr><td><span style=white-space:pre-wrap>&lt;0         </span>                </td><td>42                                                                    </td><td><span style=white-space:pre-wrap>existing paid                 </span></td><td>furniture/equipment                                                   </td><td>7882                                                                  </td><td><span style=white-space:pre-wrap>&lt;100            </span>           </td><td>4&lt;=X&lt;7                                                          </td><td>2                                                                     </td><td><span style=white-space:pre-wrap>male single       </span>            </td><td>guarantor                                                             </td><td>...                                                                   </td><td><span style=white-space:pre-wrap>life insurance   </span>             </td><td>45                                                                    </td><td>none                                                                  </td><td>for free                                                              </td><td>1                                                                     </td><td><span style=white-space:pre-wrap>skilled           </span>            </td><td>2                                                                     </td><td>none                                                                  </td><td>yes                                                                   </td><td>good                                                                  </td></tr>\n",
       "\t<tr><td><span style=white-space:pre-wrap>&lt;0         </span>                </td><td>24                                                                    </td><td><span style=white-space:pre-wrap>delayed previously            </span></td><td><span style=white-space:pre-wrap>new car            </span>           </td><td>4870                                                                  </td><td><span style=white-space:pre-wrap>&lt;100            </span>           </td><td>1&lt;=X&lt;4                                                          </td><td>3                                                                     </td><td><span style=white-space:pre-wrap>male single       </span>            </td><td><span style=white-space:pre-wrap>none     </span>                     </td><td>...                                                                   </td><td>no known property                                                     </td><td>53                                                                    </td><td>none                                                                  </td><td>for free                                                              </td><td>2                                                                     </td><td><span style=white-space:pre-wrap>skilled           </span>            </td><td>2                                                                     </td><td>none                                                                  </td><td>yes                                                                   </td><td>bad                                                                   </td></tr>\n",
       "\t<tr><td>no checking                                                           </td><td>36                                                                    </td><td><span style=white-space:pre-wrap>existing paid                 </span></td><td><span style=white-space:pre-wrap>education          </span>           </td><td>9055                                                                  </td><td>no known savings                                                      </td><td>1&lt;=X&lt;4                                                          </td><td>2                                                                     </td><td><span style=white-space:pre-wrap>male single       </span>            </td><td><span style=white-space:pre-wrap>none     </span>                     </td><td>...                                                                   </td><td>no known property                                                     </td><td>35                                                                    </td><td>none                                                                  </td><td>for free                                                              </td><td>1                                                                     </td><td>unskilled resident                                                    </td><td>2                                                                     </td><td>yes                                                                   </td><td>yes                                                                   </td><td>good                                                                  </td></tr>\n",
       "</tbody>\n",
       "</table>\n"
      ],
      "text/latex": [
       "\\begin{tabular}{r|lllllllllllllllllllll}\n",
       " over\\_draft & credit\\_usage & credit\\_history & purpose & current\\_balance & Average\\_Credit\\_Balance & employment & location & personal\\_status & other\\_parties & ... & property\\_magnitude & cc\\_age & other\\_payment\\_plans & housing & existing\\_credits & job & num\\_dependents & own\\_telephone & foreign\\_worker & class\\\\\n",
       "\\hline\n",
       "\t <0                             &  6                             & critical/other existing credit & radio/tv                       & 1169                           & no known savings               & >=7                            & 4                              & male single                    & none                           & ...                            & real estate                    & 67                             & none                           & own                            & 2                              & skilled                        & 1                              & yes                            & yes                            & good                          \\\\\n",
       "\t 0<=X<200                       & 48                             & existing paid                  & radio/tv                       & 5951                           & <100                           & 1<=X<4                         & 2                              & female div/dep/mar             & none                           & ...                            & real estate                    & 22                             & none                           & own                            & 1                              & skilled                        & 1                              & none                           & yes                            & bad                           \\\\\n",
       "\t no checking                    & 12                             & critical/other existing credit & education                      & 2096                           & <100                           & 4<=X<7                         & 2                              & male single                    & none                           & ...                            & real estate                    & 49                             & none                           & own                            & 1                              & unskilled resident             & 2                              & none                           & yes                            & good                          \\\\\n",
       "\t <0                             & 42                             & existing paid                  & furniture/equipment            & 7882                           & <100                           & 4<=X<7                         & 2                              & male single                    & guarantor                      & ...                            & life insurance                 & 45                             & none                           & for free                       & 1                              & skilled                        & 2                              & none                           & yes                            & good                          \\\\\n",
       "\t <0                             & 24                             & delayed previously             & new car                        & 4870                           & <100                           & 1<=X<4                         & 3                              & male single                    & none                           & ...                            & no known property              & 53                             & none                           & for free                       & 2                              & skilled                        & 2                              & none                           & yes                            & bad                           \\\\\n",
       "\t no checking                    & 36                             & existing paid                  & education                      & 9055                           & no known savings               & 1<=X<4                         & 2                              & male single                    & none                           & ...                            & no known property              & 35                             & none                           & for free                       & 1                              & unskilled resident             & 2                              & yes                            & yes                            & good                          \\\\\n",
       "\\end{tabular}\n"
      ],
      "text/markdown": [
       "\n",
       "| over_draft | credit_usage | credit_history | purpose | current_balance | Average_Credit_Balance | employment | location | personal_status | other_parties | ... | property_magnitude | cc_age | other_payment_plans | housing | existing_credits | job | num_dependents | own_telephone | foreign_worker | class |\n",
       "|---|---|---|---|---|---|---|---|---|---|---|---|---|---|---|---|---|---|---|---|---|\n",
       "| <0                             |  6                             | critical/other existing credit | radio/tv                       | 1169                           | no known savings               | >=7                            | 4                              | male single                    | none                           | ...                            | real estate                    | 67                             | none                           | own                            | 2                              | skilled                        | 1                              | yes                            | yes                            | good                           |\n",
       "| 0<=X<200                       | 48                             | existing paid                  | radio/tv                       | 5951                           | <100                           | 1<=X<4                         | 2                              | female div/dep/mar             | none                           | ...                            | real estate                    | 22                             | none                           | own                            | 1                              | skilled                        | 1                              | none                           | yes                            | bad                            |\n",
       "| no checking                    | 12                             | critical/other existing credit | education                      | 2096                           | <100                           | 4<=X<7                         | 2                              | male single                    | none                           | ...                            | real estate                    | 49                             | none                           | own                            | 1                              | unskilled resident             | 2                              | none                           | yes                            | good                           |\n",
       "| <0                             | 42                             | existing paid                  | furniture/equipment            | 7882                           | <100                           | 4<=X<7                         | 2                              | male single                    | guarantor                      | ...                            | life insurance                 | 45                             | none                           | for free                       | 1                              | skilled                        | 2                              | none                           | yes                            | good                           |\n",
       "| <0                             | 24                             | delayed previously             | new car                        | 4870                           | <100                           | 1<=X<4                         | 3                              | male single                    | none                           | ...                            | no known property              | 53                             | none                           | for free                       | 2                              | skilled                        | 2                              | none                           | yes                            | bad                            |\n",
       "| no checking                    | 36                             | existing paid                  | education                      | 9055                           | no known savings               | 1<=X<4                         | 2                              | male single                    | none                           | ...                            | no known property              | 35                             | none                           | for free                       | 1                              | unskilled resident             | 2                              | yes                            | yes                            | good                           |\n",
       "\n"
      ],
      "text/plain": [
       "  over_draft  credit_usage credit_history                 purpose            \n",
       "1 <0           6           critical/other existing credit radio/tv           \n",
       "2 0<=X<200    48           existing paid                  radio/tv           \n",
       "3 no checking 12           critical/other existing credit education          \n",
       "4 <0          42           existing paid                  furniture/equipment\n",
       "5 <0          24           delayed previously             new car            \n",
       "6 no checking 36           existing paid                  education          \n",
       "  current_balance Average_Credit_Balance employment location personal_status   \n",
       "1 1169            no known savings       >=7        4        male single       \n",
       "2 5951            <100                   1<=X<4     2        female div/dep/mar\n",
       "3 2096            <100                   4<=X<7     2        male single       \n",
       "4 7882            <100                   4<=X<7     2        male single       \n",
       "5 4870            <100                   1<=X<4     3        male single       \n",
       "6 9055            no known savings       1<=X<4     2        male single       \n",
       "  other_parties ... property_magnitude cc_age other_payment_plans housing \n",
       "1 none          ... real estate        67     none                own     \n",
       "2 none          ... real estate        22     none                own     \n",
       "3 none          ... real estate        49     none                own     \n",
       "4 guarantor     ... life insurance     45     none                for free\n",
       "5 none          ... no known property  53     none                for free\n",
       "6 none          ... no known property  35     none                for free\n",
       "  existing_credits job                num_dependents own_telephone\n",
       "1 2                skilled            1              yes          \n",
       "2 1                skilled            1              none         \n",
       "3 1                unskilled resident 2              none         \n",
       "4 1                skilled            2              none         \n",
       "5 2                skilled            2              none         \n",
       "6 1                unskilled resident 2              yes          \n",
       "  foreign_worker class\n",
       "1 yes            good \n",
       "2 yes            bad  \n",
       "3 yes            good \n",
       "4 yes            good \n",
       "5 yes            bad  \n",
       "6 yes            good "
      ]
     },
     "metadata": {},
     "output_type": "display_data"
    }
   ],
   "source": [
    "data <- read.csv(\"https://ibm.box.com/shared/static/78g5lc5krkvclwbnxi6zodemlktr9v9r.csv\", header=T)\n",
    "head(data)"
   ]
  },
  {
   "cell_type": "markdown",
   "metadata": {},
   "source": [
    "### Data description\n",
    "Data is provided in its original form using .arff file which is a complete package with meta-data of the data in it; In this data there are 7 numerical variable: **credit_usage, current_balance, cc_age, residence_since, num_dependence, existing_credit, location**"
   ]
  },
  {
   "cell_type": "code",
   "execution_count": 2,
   "metadata": {},
   "outputs": [
    {
     "name": "stdout",
     "output_type": "stream",
     "text": [
      "Numeric columns #  2 5 8 11 13 16 18 \n"
     ]
    }
   ],
   "source": [
    "# get the list of column index that are numeric\n",
    "numvec=c();\n",
    "for( i in 1:ncol(data)){\n",
    "    if ( is.numeric(data[,i])) numvec = append(numvec,i)\n",
    "}\n",
    "cat('Numeric columns # ', numvec, \"\\n\")"
   ]
  },
  {
   "cell_type": "code",
   "execution_count": null,
   "metadata": {},
   "outputs": [],
   "source": [
    "# let subset the numeric variable and plots the box plots to see their distribution approximately\n",
    "datn = data[,numvec]\n",
    "\n",
    "head(datn)"
   ]
  },
  {
   "cell_type": "markdown",
   "metadata": {},
   "source": [
    "** Question 1**\n",
    "\n",
    "Do we need to standardize ( location and scale) ? or do we need any kind of transformation before doing location/scale standardization ?"
   ]
  },
  {
   "cell_type": "code",
   "execution_count": null,
   "metadata": {
    "collapsed": true
   },
   "outputs": [],
   "source": [
    "## Your Answer Code Here ## \n",
    "\n",
    "\n",
    "\n",
    "\n",
    "\n",
    "\n"
   ]
  },
  {
   "cell_type": "markdown",
   "metadata": {},
   "source": [
    "<div align=\"right\">\n",
    "<a href=\"#p1\" class=\"btn btn-default\" data-toggle=\"collapse\">Click here for the solution</a>\n",
    "</div>\n",
    "<div id=\"p1\" class=\"collapse\">\n",
    "```\n",
    "# NOTE: that the distribution of variables are pretty skewed and transformation is needed in order to\n",
    "#       make them comparable to plot, so instead of transforming each variable we transform the y-axis here\n",
    "boxplot(datn,col=\"blue\",pch=20, ylab=\"on original scale\")\n",
    "```\n",
    "</div>"
   ]
  },
  {
   "cell_type": "markdown",
   "metadata": {},
   "source": [
    "**Answer**\n",
    "\n",
    "As you can see from the plot above, one of the variables **current_balance** has larger values and a wider spread compared to the other variables so scaling would be necessary."
   ]
  },
  {
   "cell_type": "markdown",
   "metadata": {},
   "source": [
    "**Question 2**\n",
    "\n",
    "How can we reduce these 7 features into a smaller number of features, such that at least 60 to 70% of the variability is explained by these newly obtained features; thus reducing the size of the data, also known as dimensionality reduction?"
   ]
  },
  {
   "cell_type": "code",
   "execution_count": null,
   "metadata": {
    "collapsed": true
   },
   "outputs": [],
   "source": [
    "## Your Answer Code Here ## \n",
    "\n",
    "\n",
    "\n",
    "\n",
    "\n"
   ]
  },
  {
   "cell_type": "markdown",
   "metadata": {},
   "source": [
    "<div align=\"right\">\n",
    "<a href=\"#p2\" class=\"btn btn-default\" data-toggle=\"collapse\">Click here for the solution</a>\n",
    "</div>\n",
    "<div id=\"p2\" class=\"collapse\">\n",
    "```\n",
    "# Perform a principal component analysis on the data and print the results\n",
    "pcasolutions = prcomp(datn, center=TRUE, scale=TRUE)\n",
    "\n",
    "print(pcasolutions)\n",
    "```\n",
    "</div>"
   ]
  },
  {
   "cell_type": "code",
   "execution_count": null,
   "metadata": {
    "collapsed": true
   },
   "outputs": [],
   "source": [
    " ## check  you answers:\n",
    "options(warn=-1)\n",
    "if ( length(pcasolutions$scale)==1 & !(pcasolutions$scale)) { \n",
    "    cat(\" Scaling of variables is necessary here, ... did you make use of \\\"scale=TRUE\\\" option ? \")\n",
    "}else{\n",
    "    cat(\" passed ....\")\n",
    "}\n",
    "\n",
    "options(warn=0)"
   ]
  },
  {
   "cell_type": "markdown",
   "metadata": {},
   "source": [
    "Create a scree plot and apply the Kaiser-Gutmann cutoff rule"
   ]
  },
  {
   "cell_type": "code",
   "execution_count": null,
   "metadata": {
    "collapsed": true
   },
   "outputs": [],
   "source": [
    "## Your Answer Code Here ## \n",
    "\n",
    "\n",
    "\n",
    "\n",
    "\n"
   ]
  },
  {
   "cell_type": "markdown",
   "metadata": {},
   "source": [
    "<div align=\"right\">\n",
    "<a href=\"#p3\" class=\"btn btn-default\" data-toggle=\"collapse\">Click here for the solution</a>\n",
    "</div>\n",
    "<div id=\"p3\" class=\"collapse\">\n",
    "```\n",
    "#eigen-values : \n",
    "eigenvalues = pcasolutions$sdev**2\n",
    "\n",
    "# cumulative proportion of variance explained by each principal component:\n",
    "prop = cumsum(eigenvalues)/sum(eigenvalues)\n",
    "\n",
    "plot(prop, type=\"b\", ylab=\"proportion of variance explained\", xlab=\"# of principal components\")\n",
    "```\n",
    "</div>"
   ]
  },
  {
   "cell_type": "markdown",
   "metadata": {
    "collapsed": true
   },
   "source": [
    "**Answer 2**\n",
    "\n",
    "The first three principal components explain 60% of the variablity. "
   ]
  },
  {
   "cell_type": "markdown",
   "metadata": {},
   "source": [
    "### Question 3. Complete the following Tasks:\n",
    "##### a.  Look at the scree plot and compare it with the proportion of variance explained plot to see what % of variance is explained. Let \"k\" be the number of principal components you decide to take\n",
    "##### b.  Plot the principal components and check how they align with the variable $class$  (indicating credit score) is spread around by colouring them green for $good$ and blue for $bad$"
   ]
  },
  {
   "cell_type": "code",
   "execution_count": null,
   "metadata": {
    "collapsed": true
   },
   "outputs": [],
   "source": [
    "## Your Answer Code Here ## \n",
    "# a. #\n",
    "\n",
    "\n",
    "\n",
    "\n",
    "\n"
   ]
  },
  {
   "cell_type": "markdown",
   "metadata": {},
   "source": [
    "<div align=\"right\">\n",
    "<a href=\"#p4\" class=\"btn btn-default\" data-toggle=\"collapse\">Click here for the solution</a>\n",
    "</div>\n",
    "<div id=\"p4\" class=\"collapse\">\n",
    "```\n",
    "\n",
    "# taking a look at the first three PCs \n",
    "rotated_data = pcasolutions$x[,1:3]\n",
    "head(rotated_data)\n",
    "```\n",
    "</div>"
   ]
  },
  {
   "cell_type": "markdown",
   "metadata": {},
   "source": [
    "Here we want to look at the weights, aka factor loadings, associated with each of the original dimensions for our selected # of principal components. "
   ]
  },
  {
   "cell_type": "code",
   "execution_count": null,
   "metadata": {
    "collapsed": true
   },
   "outputs": [],
   "source": [
    "## Your Answer Code Here ## \n",
    "# b. # \n",
    "\n",
    "\n",
    "\n"
   ]
  },
  {
   "cell_type": "markdown",
   "metadata": {},
   "source": [
    "<div align=\"right\">\n",
    "<a href=\"#p5\" class=\"btn btn-default\" data-toggle=\"collapse\">Click here for the solution</a>\n",
    "</div>\n",
    "<div id=\"p5\" class=\"collapse\">\n",
    "```\n",
    "# Rotation gives you the factor loadings # \n",
    "eigenvectors = pcasolutions$rotation[,1:3]\n",
    "```\n",
    "</div>"
   ]
  },
  {
   "cell_type": "code",
   "execution_count": null,
   "metadata": {
    "collapsed": true
   },
   "outputs": [],
   "source": [
    "options(warn=-1)\n",
    "if ( all(dim(eigenvectors) == c(ncol(datn),3) )){\n",
    "    if ( round(eigenvectors[1,1],4) == 0.6574 & round(eigenvectors[2,1],4) ==0.7180 )\n",
    "    cat(\"Passed !!\\n\")\n",
    "    \n",
    "}else{\n",
    "    cat(\"NOTE: perhaps you want to go back and check the creation of the PCAs? \\n\")\n",
    "}\n",
    "\n",
    "options(warn=0)"
   ]
  },
  {
   "cell_type": "markdown",
   "metadata": {},
   "source": [
    "#### Plot...\n",
    "Let's plot the transformed data in 2D and 3D to see if we can find segregation of the data.\n",
    "Also, let's look at the correlation between the principal components obtained using numeric data and the categorical variables we had in our data.\n",
    "Note that there are 14 categorical variable you can choose to replace **catcol** in the code below by each of the variables to see if you see any segregation of the colours. If the categorical column is correlated to any of PC then you would see some kind of segregation depending on the magnitude of correlation.\n",
    "Also, feel free to change column name below for **catcol** and see the different plots generated.\n"
   ]
  },
  {
   "cell_type": "code",
   "execution_count": null,
   "metadata": {
    "collapsed": true
   },
   "outputs": [],
   "source": [
    "# some colouring based on other categorical variables;\n",
    "catcol = 'class'\n",
    "colcolumn  = data[,catcol]\n",
    "l1 = levels(colcolumn)\n",
    "colpalatte = c('green','blue', 'cyan')\n",
    "mycol =colpalatte[as.numeric(colcolumn)]\n",
    "head(mycol)"
   ]
  },
  {
   "cell_type": "code",
   "execution_count": null,
   "metadata": {
    "collapsed": true
   },
   "outputs": [],
   "source": [
    "install.packages(\"plot3D\")\n",
    "library(plot3D)\n",
    "\n",
    "plot(rotated_data[,1],rotated_data[,2],pch=20, col=mycol, xlab=\"First PC\", ylab=\"Second PC\",\n",
    "    main=paste('Plot of First 2 PC (colour by :',catcol, \")\"))\n",
    "legend(3.6,4, legend =l1, pch=20, col=colpalatte[1:length(l1)])\n",
    "\n",
    "plot(rotated_data[,2],rotated_data[,3],pch=20, col=mycol, xlab=\"Second PC\", ylab=\"Third PC\",\n",
    "    main=paste('Plot of 2nd and 3rd PC (colour by :',catcol, \")\"))\n",
    "legend(3,3.5, legend =l1, pch=20, col=colpalatte[1:length(l1)])"
   ]
  },
  {
   "cell_type": "code",
   "execution_count": null,
   "metadata": {
    "collapsed": true
   },
   "outputs": [],
   "source": [
    "plot3D::scatter3D(rotated_data[,1],rotated_data[,2],rotated_data[,3] , pch=20, bty='g',phi=0,cex=2,ticktype='detailed',\n",
    "                 colkey=FALSE, col = mycol, xlab=\"First PC\", ylab=\"Second PC\", zlab=\"Third PC\")"
   ]
  },
  {
   "cell_type": "markdown",
   "metadata": {},
   "source": [
    "**Answer 3**\n",
    "The spread of the class is fairly intertwined indicating that principal components don't segregate the response. "
   ]
  },
  {
   "cell_type": "markdown",
   "metadata": {},
   "source": [
    "## Want to learn more?\n",
    "\n",
    "IBM SPSS Modeler is a comprehensive analytics platform that has many machine learning algorithms. It has been designed to bring predictive intelligence to decisions made by individuals, by groups, by systems – by your enterprise as a whole. A free trial is available through this course, available here: [SPSS Modeler for Mac users](https://cocl.us/ML0151EN_SPSSMod_mac) and [SPSS Modeler for Windows users](https://cocl.us/ML0151EN_SPSSMod_win)\n",
    "\n",
    "Also, you can use Data Science Experience to run these notebooks faster with bigger datasets. Data Science Experience is IBM's leading cloud solution for data scientists, built by data scientists. With Jupyter notebooks, RStudio, Apache Spark and popular libraries pre-packaged in the cloud, DSX enables data scientists to collaborate on their projects without having to install anything. Join the fast-growing community of DSX users today with a free account at [Data Science Experience](https://cocl.us/ML0151EN_DSX)"
   ]
  },
  {
   "cell_type": "markdown",
   "metadata": {},
   "source": [
    "### Thank you for completing this exercise!\n",
    "\n",
    "Notebook created by: Jag Rangrej"
   ]
  },
  {
   "cell_type": "markdown",
   "metadata": {},
   "source": [
    "<hr>\n",
    "Copyright &copy; 2017 [IBM Cognitive Class](https://cocl.us/ML0151EN_cclab_cc). This notebook and its source code are released under the terms of the [MIT License](https://cognitiveclass.ai/mit-license/)."
   ]
  }
 ],
 "metadata": {
  "anaconda-cloud": {},
  "kernelspec": {
   "display_name": "R",
   "language": "R",
   "name": "ir"
  },
  "language_info": {
   "codemirror_mode": "r",
   "file_extension": ".r",
   "mimetype": "text/x-r-source",
   "name": "R",
   "pygments_lexer": "r",
   "version": "3.6.1"
  }
 },
 "nbformat": 4,
 "nbformat_minor": 1
}
