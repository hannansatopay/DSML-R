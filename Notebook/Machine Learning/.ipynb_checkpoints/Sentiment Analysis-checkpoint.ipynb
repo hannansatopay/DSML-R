{
 "cells": [
  {
   "cell_type": "code",
   "execution_count": 6,
   "metadata": {},
   "outputs": [],
   "source": [
    "#install.packages(\"qdap\")\n",
    "library(\"qdap\")\n",
    "#install.packages(\"tidytext\")\n",
    "library(tidytext)\n",
    "#install.packages(\"tidyr\")\n",
    "library(\"tidyr\")\n",
    "#install.packages(\"dplyr\")\n",
    "library(dplyr)"
   ]
  },
  {
   "cell_type": "code",
   "execution_count": 9,
   "metadata": {},
   "outputs": [
    {
     "data": {
      "text/html": [
       "<table>\n",
       "<thead><tr><th scope=col>id</th><th scope=col>comments</th></tr></thead>\n",
       "<tbody>\n",
       "\t<tr><td>1                                                                                                                                                                                                                                                                                                                                                                                                                                                                                                                                                    </td><td>My daughter and I had a wonderful stay with Maura. She kept in close touch with us throughout the day as we weren't arriving til later in the evening. The room was charming and the whole apartment was very warm and eclectic. She asked us what time we'd like breakfast and laid out a very nice spread. Right down the street from Jamaica Pond and very close to Center St. as well. All in all, great experience!                                                                                                                             </td></tr>\n",
       "\t<tr><td>2                                                                                                                                                                                                                                                                                                                                                                                                                                                                                                                                                    </td><td>We stay at Elizabeth's place for 3 nights in October 2014.\n",
       "The apartment is really a great place to stay. \n",
       "Lovely decorated and extremely well located. Very close to Back Bay station if you come by train, and close also to the subway and just a nice walk from the city center. \n",
       "\n",
       "I would say that is better that what you appreciate in the pictures\n",
       "Also the bed is very confortable.\n",
       "So really it was an optimal choice for us.                                                                                                        </td></tr>\n",
       "\t<tr><td>3                                                                                                                                                                                                                                                                                                                                                                                                                                                                                                                                                    </td><td>If you're staying in South Boston, this is a terrific place to camp out. The apartment and bedroom are lovely, Ellie is an excellent host, and there is a lot within walking distance in a neighborhood on the rise.                                                                                                                                                                                                                                                                                                                                 </td></tr>\n",
       "\t<tr><td>4                                                                                                                                                                                                                                                                                                                                                                                                                                                                                                                                                    </td><td>Derian and Brian were great and prompt with their communications with us. The room was as described; it was a small nice and clean room with a very comfortable bed and pillows. We shared a bathroom with others in the apartment. Derian had turned on the AC in our room prior to our arrival which we appreciated a lot. He also greeted us kindly when we arrived and showed us around. We arrived late and left early in the morning to catch our flight, so unfortunately, we did not get a chance to meet Brian or to talk much with Derian. </td></tr>\n",
       "\t<tr><td>5                                                                                                                                                                                                                                                                                                                                                                                                                                                                                                                                                    </td><td>John and Dan were gracious hosts and the location and accommodations were very nice......as listed.                                                                                                                                                                                                                                                                                                                                                                                                                                                  </td></tr>\n",
       "\t<tr><td>6                                                                                                                                                                                                                                                                                                                                                                                                                                                                                                                                                    </td><td>The best thing about Sean's place is the location. It's by a T station, there are a number of groceries and restaurants around, etc. It was nice to see all the drawings he made while studying architecture. The building is a bit old so walls are a bit thinner but overall it was a nice place to be.\n",
       "\n",
       "Sean was great in answering phone calls and questions. He was there to meet us when we got to the place.                                                                                                                                </td></tr>\n",
       "</tbody>\n",
       "</table>\n"
      ],
      "text/latex": [
       "\\begin{tabular}{r|ll}\n",
       " id & comments\\\\\n",
       "\\hline\n",
       "\t 1                                                                                                                                                                                                                                                                                                                                                                                                                                                                                                                                                     & My daughter and I had a wonderful stay with Maura. She kept in close touch with us throughout the day as we weren't arriving til later in the evening. The room was charming and the whole apartment was very warm and eclectic. She asked us what time we'd like breakfast and laid out a very nice spread. Right down the street from Jamaica Pond and very close to Center St. as well. All in all, great experience!                                                                                                                             \\\\\n",
       "\t 2                                                                                                                                                                                                                                                                                                                                                                                                                                                                                                                                                     & We stay at Elizabeth's place for 3 nights in October 2014.\n",
       "The apartment is really a great place to stay. \n",
       "Lovely decorated and extremely well located. Very close to Back Bay station if you come by train, and close also to the subway and just a nice walk from the city center. \n",
       "\n",
       "I would say that is better that what you appreciate in the pictures\n",
       "Also the bed is very confortable.\n",
       "So really it was an optimal choice for us.                                                                                                        \\\\\n",
       "\t 3                                                                                                                                                                                                                                                                                                                                                                                                                                                                                                                                                     & If you're staying in South Boston, this is a terrific place to camp out. The apartment and bedroom are lovely, Ellie is an excellent host, and there is a lot within walking distance in a neighborhood on the rise.                                                                                                                                                                                                                                                                                                                                 \\\\\n",
       "\t 4                                                                                                                                                                                                                                                                                                                                                                                                                                                                                                                                                     & Derian and Brian were great and prompt with their communications with us. The room was as described; it was a small nice and clean room with a very comfortable bed and pillows. We shared a bathroom with others in the apartment. Derian had turned on the AC in our room prior to our arrival which we appreciated a lot. He also greeted us kindly when we arrived and showed us around. We arrived late and left early in the morning to catch our flight, so unfortunately, we did not get a chance to meet Brian or to talk much with Derian. \\\\\n",
       "\t 5                                                                                                                                                                                                                                                                                                                                                                                                                                                                                                                                                     & John and Dan were gracious hosts and the location and accommodations were very nice......as listed.                                                                                                                                                                                                                                                                                                                                                                                                                                                  \\\\\n",
       "\t 6                                                                                                                                                                                                                                                                                                                                                                                                                                                                                                                                                     & The best thing about Sean's place is the location. It's by a T station, there are a number of groceries and restaurants around, etc. It was nice to see all the drawings he made while studying architecture. The building is a bit old so walls are a bit thinner but overall it was a nice place to be.\n",
       "\n",
       "Sean was great in answering phone calls and questions. He was there to meet us when we got to the place.                                                                                                                                \\\\\n",
       "\\end{tabular}\n"
      ],
      "text/markdown": [
       "\n",
       "| id | comments |\n",
       "|---|---|\n",
       "| 1                                                                                                                                                                                                                                                                                                                                                                                                                                                                                                                                                     | My daughter and I had a wonderful stay with Maura. She kept in close touch with us throughout the day as we weren't arriving til later in the evening. The room was charming and the whole apartment was very warm and eclectic. She asked us what time we'd like breakfast and laid out a very nice spread. Right down the street from Jamaica Pond and very close to Center St. as well. All in all, great experience!                                                                                                                              |\n",
       "| 2                                                                                                                                                                                                                                                                                                                                                                                                                                                                                                                                                     | We stay at Elizabeth's place for 3 nights in October 2014.\n",
       "The apartment is really a great place to stay. \n",
       "Lovely decorated and extremely well located. Very close to Back Bay station if you come by train, and close also to the subway and just a nice walk from the city center. \n",
       "\n",
       "I would say that is better that what you appreciate in the pictures\n",
       "Also the bed is very confortable.\n",
       "So really it was an optimal choice for us.                                                                                                         |\n",
       "| 3                                                                                                                                                                                                                                                                                                                                                                                                                                                                                                                                                     | If you're staying in South Boston, this is a terrific place to camp out. The apartment and bedroom are lovely, Ellie is an excellent host, and there is a lot within walking distance in a neighborhood on the rise.                                                                                                                                                                                                                                                                                                                                  |\n",
       "| 4                                                                                                                                                                                                                                                                                                                                                                                                                                                                                                                                                     | Derian and Brian were great and prompt with their communications with us. The room was as described; it was a small nice and clean room with a very comfortable bed and pillows. We shared a bathroom with others in the apartment. Derian had turned on the AC in our room prior to our arrival which we appreciated a lot. He also greeted us kindly when we arrived and showed us around. We arrived late and left early in the morning to catch our flight, so unfortunately, we did not get a chance to meet Brian or to talk much with Derian.  |\n",
       "| 5                                                                                                                                                                                                                                                                                                                                                                                                                                                                                                                                                     | John and Dan were gracious hosts and the location and accommodations were very nice......as listed.                                                                                                                                                                                                                                                                                                                                                                                                                                                   |\n",
       "| 6                                                                                                                                                                                                                                                                                                                                                                                                                                                                                                                                                     | The best thing about Sean's place is the location. It's by a T station, there are a number of groceries and restaurants around, etc. It was nice to see all the drawings he made while studying architecture. The building is a bit old so walls are a bit thinner but overall it was a nice place to be.\n",
       "\n",
       "Sean was great in answering phone calls and questions. He was there to meet us when we got to the place.                                                                                                                                 |\n",
       "\n"
      ],
      "text/plain": [
       "  id\n",
       "1 1 \n",
       "2 2 \n",
       "3 3 \n",
       "4 4 \n",
       "5 5 \n",
       "6 6 \n",
       "  comments                                                                                                                                                                                                                                                                                                                                                                                                                                                                                                                                             \n",
       "1 My daughter and I had a wonderful stay with Maura. She kept in close touch with us throughout the day as we weren't arriving til later in the evening. The room was charming and the whole apartment was very warm and eclectic. She asked us what time we'd like breakfast and laid out a very nice spread. Right down the street from Jamaica Pond and very close to Center St. as well. All in all, great experience!                                                                                                                             \n",
       "2 We stay at Elizabeth's place for 3 nights in October 2014.\\nThe apartment is really a great place to stay. \\nLovely decorated and extremely well located. Very close to Back Bay station if you come by train, and close also to the subway and just a nice walk from the city center. \\n\\nI would say that is better that what you appreciate in the pictures\\nAlso the bed is very confortable.\\nSo really it was an optimal choice for us.                                                                                                        \n",
       "3 If you're staying in South Boston, this is a terrific place to camp out. The apartment and bedroom are lovely, Ellie is an excellent host, and there is a lot within walking distance in a neighborhood on the rise.                                                                                                                                                                                                                                                                                                                                 \n",
       "4 Derian and Brian were great and prompt with their communications with us. The room was as described; it was a small nice and clean room with a very comfortable bed and pillows. We shared a bathroom with others in the apartment. Derian had turned on the AC in our room prior to our arrival which we appreciated a lot. He also greeted us kindly when we arrived and showed us around. We arrived late and left early in the morning to catch our flight, so unfortunately, we did not get a chance to meet Brian or to talk much with Derian. \n",
       "5 John and Dan were gracious hosts and the location and accommodations were very nice......as listed.                                                                                                                                                                                                                                                                                                                                                                                                                                                  \n",
       "6 The best thing about Sean's place is the location. It's by a T station, there are a number of groceries and restaurants around, etc. It was nice to see all the drawings he made while studying architecture. The building is a bit old so walls are a bit thinner but overall it was a nice place to be.\\n\\nSean was great in answering phone calls and questions. He was there to meet us when we got to the place.                                                                                                                                "
      ]
     },
     "metadata": {},
     "output_type": "display_data"
    }
   ],
   "source": [
    "bos_reviews<-readRDS(\"bos_reviews.rds\")\n",
    "head(bos_reviews)"
   ]
  },
  {
   "cell_type": "code",
   "execution_count": 23,
   "metadata": {},
   "outputs": [
    {
     "data": {
      "text/html": [
       "<ol class=list-inline>\n",
       "\t<li>1000</li>\n",
       "\t<li>2</li>\n",
       "</ol>\n"
      ],
      "text/latex": [
       "\\begin{enumerate*}\n",
       "\\item 1000\n",
       "\\item 2\n",
       "\\end{enumerate*}\n"
      ],
      "text/markdown": [
       "1. 1000\n",
       "2. 2\n",
       "\n",
       "\n"
      ],
      "text/plain": [
       "[1] 1000    2"
      ]
     },
     "metadata": {},
     "output_type": "display_data"
    }
   ],
   "source": [
    "dim(bos_reviews)"
   ]
  },
  {
   "cell_type": "code",
   "execution_count": 15,
   "metadata": {},
   "outputs": [
    {
     "name": "stderr",
     "output_type": "stream",
     "text": [
      "Warning message in polarity(bos_reviews$comments[1:5]):\n",
      "\"\n",
      "  Some rows contain double punctuation.  Suggested use of `sentSplit` function.\""
     ]
    },
    {
     "data": {
      "text/html": [
       "<table>\n",
       "<thead><tr><th scope=col>all</th><th scope=col>wc</th><th scope=col>polarity</th><th scope=col>pos.words</th><th scope=col>neg.words</th><th scope=col>text.var</th></tr></thead>\n",
       "<tbody>\n",
       "\t<tr><td>all                                                                                                                                                                                                                                                                                                                                                                                                                                                                                                                                                  </td><td> 77                                                                                                                                                                                                                                                                                                                                                                                                                                                                                                                                                  </td><td>1.1851900                                                                                                                                                                                                                                                                                                                                                                                                                                                                                                                                            </td><td>wonderful, charming , warm     , like     , nice     , right    , well     , great                                                                                                                                                                                                                                                                                                                                                                                                                                                                   </td><td>-                                                                                                                                                                                                                                                                                                                                                                                                                                                                                                                                                    </td><td>My daughter and I had a wonderful stay with Maura. She kept in close touch with us throughout the day as we weren't arriving til later in the evening. The room was charming and the whole apartment was very warm and eclectic. She asked us what time we'd like breakfast and laid out a very nice spread. Right down the street from Jamaica Pond and very close to Center St. as well. All in all, great experience!                                                                                                                             </td></tr>\n",
       "\t<tr><td>all                                                                                                                                                                                                                                                                                                                                                                                                                                                                                                                                                  </td><td> 78                                                                                                                                                                                                                                                                                                                                                                                                                                                                                                                                                  </td><td>1.2455047                                                                                                                                                                                                                                                                                                                                                                                                                                                                                                                                            </td><td>great     , lovely    , well      , nice      , better    , appreciate, optimal                                                                                                                                                                                                                                                                                                                                                                                                                                                                      </td><td>-                                                                                                                                                                                                                                                                                                                                                                                                                                                                                                                                                    </td><td>We stay at Elizabeth's place for 3 nights in October 2014.\n",
       "The apartment is really a great place to stay. \n",
       "Lovely decorated and extremely well located. Very close to Back Bay station if you come by train, and close also to the subway and just a nice walk from the city center. \n",
       "\n",
       "I would say that is better that what you appreciate in the pictures\n",
       "Also the bed is very confortable.\n",
       "So really it was an optimal choice for us.                                                                                                        </td></tr>\n",
       "\t<tr><td>all                                                                                                                                                                                                                                                                                                                                                                                                                                                                                                                                                  </td><td> 39                                                                                                                                                                                                                                                                                                                                                                                                                                                                                                                                                  </td><td>0.4803845                                                                                                                                                                                                                                                                                                                                                                                                                                                                                                                                            </td><td>terrific , lovely   , excellent                                                                                                                                                                                                                                                                                                                                                                                                                                                                                                                      </td><td>-                                                                                                                                                                                                                                                                                                                                                                                                                                                                                                                                                    </td><td>If you're staying in South Boston, this is a terrific place to camp out. The apartment and bedroom are lovely, Ellie is an excellent host, and there is a lot within walking distance in a neighborhood on the rise.                                                                                                                                                                                                                                                                                                                                 </td></tr>\n",
       "\t<tr><td>all                                                                                                                                                                                                                                                                                                                                                                                                                                                                                                                                                  </td><td>101                                                                                                                                                                                                                                                                                                                                                                                                                                                                                                                                                  </td><td>0.7562283                                                                                                                                                                                                                                                                                                                                                                                                                                                                                                                                            </td><td>great      , prompt     , nice       , clean      , comfortable, appreciated, kindly                                                                                                                                                                                                                                                                                                                                                                                                                                                                 </td><td>unfortunately                                                                                                                                                                                                                                                                                                                                                                                                                                                                                                                                        </td><td>Derian and Brian were great and prompt with their communications with us. The room was as described; it was a small nice and clean room with a very comfortable bed and pillows. We shared a bathroom with others in the apartment. Derian had turned on the AC in our room prior to our arrival which we appreciated a lot. He also greeted us kindly when we arrived and showed us around. We arrived late and left early in the morning to catch our flight, so unfortunately, we did not get a chance to meet Brian or to talk much with Derian. </td></tr>\n",
       "\t<tr><td>all                                                                                                                                                                                                                                                                                                                                                                                                                                                                                                                                                  </td><td> 16                                                                                                                                                                                                                                                                                                                                                                                                                                                                                                                                                  </td><td>0.2500000                                                                                                                                                                                                                                                                                                                                                                                                                                                                                                                                            </td><td>gracious                                                                                                                                                                                                                                                                                                                                                                                                                                                                                                                                             </td><td>-                                                                                                                                                                                                                                                                                                                                                                                                                                                                                                                                                    </td><td>John and Dan were gracious hosts and the location and accommodations were very nice......as listed.                                                                                                                                                                                                                                                                                                                                                                                                                                                  </td></tr>\n",
       "</tbody>\n",
       "</table>\n"
      ],
      "text/latex": [
       "\\begin{tabular}{r|llllll}\n",
       " all & wc & polarity & pos.words & neg.words & text.var\\\\\n",
       "\\hline\n",
       "\t all                                                                                                                                                                                                                                                                                                                                                                                                                                                                                                                                                   &  77                                                                                                                                                                                                                                                                                                                                                                                                                                                                                                                                                   & 1.1851900                                                                                                                                                                                                                                                                                                                                                                                                                                                                                                                                             & wonderful, charming , warm     , like     , nice     , right    , well     , great                                                                                                                                                                                                                                                                                                                                                                                                                                                                    & -                                                                                                                                                                                                                                                                                                                                                                                                                                                                                                                                                     & My daughter and I had a wonderful stay with Maura. She kept in close touch with us throughout the day as we weren't arriving til later in the evening. The room was charming and the whole apartment was very warm and eclectic. She asked us what time we'd like breakfast and laid out a very nice spread. Right down the street from Jamaica Pond and very close to Center St. as well. All in all, great experience!                                                                                                                             \\\\\n",
       "\t all                                                                                                                                                                                                                                                                                                                                                                                                                                                                                                                                                   &  78                                                                                                                                                                                                                                                                                                                                                                                                                                                                                                                                                   & 1.2455047                                                                                                                                                                                                                                                                                                                                                                                                                                                                                                                                             & great     , lovely    , well      , nice      , better    , appreciate, optimal                                                                                                                                                                                                                                                                                                                                                                                                                                                                       & -                                                                                                                                                                                                                                                                                                                                                                                                                                                                                                                                                     & We stay at Elizabeth's place for 3 nights in October 2014.\n",
       "The apartment is really a great place to stay. \n",
       "Lovely decorated and extremely well located. Very close to Back Bay station if you come by train, and close also to the subway and just a nice walk from the city center. \n",
       "\n",
       "I would say that is better that what you appreciate in the pictures\n",
       "Also the bed is very confortable.\n",
       "So really it was an optimal choice for us.                                                                                                        \\\\\n",
       "\t all                                                                                                                                                                                                                                                                                                                                                                                                                                                                                                                                                   &  39                                                                                                                                                                                                                                                                                                                                                                                                                                                                                                                                                   & 0.4803845                                                                                                                                                                                                                                                                                                                                                                                                                                                                                                                                             & terrific , lovely   , excellent                                                                                                                                                                                                                                                                                                                                                                                                                                                                                                                       & -                                                                                                                                                                                                                                                                                                                                                                                                                                                                                                                                                     & If you're staying in South Boston, this is a terrific place to camp out. The apartment and bedroom are lovely, Ellie is an excellent host, and there is a lot within walking distance in a neighborhood on the rise.                                                                                                                                                                                                                                                                                                                                 \\\\\n",
       "\t all                                                                                                                                                                                                                                                                                                                                                                                                                                                                                                                                                   & 101                                                                                                                                                                                                                                                                                                                                                                                                                                                                                                                                                   & 0.7562283                                                                                                                                                                                                                                                                                                                                                                                                                                                                                                                                             & great      , prompt     , nice       , clean      , comfortable, appreciated, kindly                                                                                                                                                                                                                                                                                                                                                                                                                                                                  & unfortunately                                                                                                                                                                                                                                                                                                                                                                                                                                                                                                                                         & Derian and Brian were great and prompt with their communications with us. The room was as described; it was a small nice and clean room with a very comfortable bed and pillows. We shared a bathroom with others in the apartment. Derian had turned on the AC in our room prior to our arrival which we appreciated a lot. He also greeted us kindly when we arrived and showed us around. We arrived late and left early in the morning to catch our flight, so unfortunately, we did not get a chance to meet Brian or to talk much with Derian. \\\\\n",
       "\t all                                                                                                                                                                                                                                                                                                                                                                                                                                                                                                                                                   &  16                                                                                                                                                                                                                                                                                                                                                                                                                                                                                                                                                   & 0.2500000                                                                                                                                                                                                                                                                                                                                                                                                                                                                                                                                             & gracious                                                                                                                                                                                                                                                                                                                                                                                                                                                                                                                                              & -                                                                                                                                                                                                                                                                                                                                                                                                                                                                                                                                                     & John and Dan were gracious hosts and the location and accommodations were very nice......as listed.                                                                                                                                                                                                                                                                                                                                                                                                                                                  \\\\\n",
       "\\end{tabular}\n"
      ],
      "text/markdown": [
       "\n",
       "| all | wc | polarity | pos.words | neg.words | text.var |\n",
       "|---|---|---|---|---|---|\n",
       "| all                                                                                                                                                                                                                                                                                                                                                                                                                                                                                                                                                   |  77                                                                                                                                                                                                                                                                                                                                                                                                                                                                                                                                                   | 1.1851900                                                                                                                                                                                                                                                                                                                                                                                                                                                                                                                                             | wonderful, charming , warm     , like     , nice     , right    , well     , great                                                                                                                                                                                                                                                                                                                                                                                                                                                                    | -                                                                                                                                                                                                                                                                                                                                                                                                                                                                                                                                                     | My daughter and I had a wonderful stay with Maura. She kept in close touch with us throughout the day as we weren't arriving til later in the evening. The room was charming and the whole apartment was very warm and eclectic. She asked us what time we'd like breakfast and laid out a very nice spread. Right down the street from Jamaica Pond and very close to Center St. as well. All in all, great experience!                                                                                                                              |\n",
       "| all                                                                                                                                                                                                                                                                                                                                                                                                                                                                                                                                                   |  78                                                                                                                                                                                                                                                                                                                                                                                                                                                                                                                                                   | 1.2455047                                                                                                                                                                                                                                                                                                                                                                                                                                                                                                                                             | great     , lovely    , well      , nice      , better    , appreciate, optimal                                                                                                                                                                                                                                                                                                                                                                                                                                                                       | -                                                                                                                                                                                                                                                                                                                                                                                                                                                                                                                                                     | We stay at Elizabeth's place for 3 nights in October 2014.\n",
       "The apartment is really a great place to stay. \n",
       "Lovely decorated and extremely well located. Very close to Back Bay station if you come by train, and close also to the subway and just a nice walk from the city center. \n",
       "\n",
       "I would say that is better that what you appreciate in the pictures\n",
       "Also the bed is very confortable.\n",
       "So really it was an optimal choice for us.                                                                                                         |\n",
       "| all                                                                                                                                                                                                                                                                                                                                                                                                                                                                                                                                                   |  39                                                                                                                                                                                                                                                                                                                                                                                                                                                                                                                                                   | 0.4803845                                                                                                                                                                                                                                                                                                                                                                                                                                                                                                                                             | terrific , lovely   , excellent                                                                                                                                                                                                                                                                                                                                                                                                                                                                                                                       | -                                                                                                                                                                                                                                                                                                                                                                                                                                                                                                                                                     | If you're staying in South Boston, this is a terrific place to camp out. The apartment and bedroom are lovely, Ellie is an excellent host, and there is a lot within walking distance in a neighborhood on the rise.                                                                                                                                                                                                                                                                                                                                  |\n",
       "| all                                                                                                                                                                                                                                                                                                                                                                                                                                                                                                                                                   | 101                                                                                                                                                                                                                                                                                                                                                                                                                                                                                                                                                   | 0.7562283                                                                                                                                                                                                                                                                                                                                                                                                                                                                                                                                             | great      , prompt     , nice       , clean      , comfortable, appreciated, kindly                                                                                                                                                                                                                                                                                                                                                                                                                                                                  | unfortunately                                                                                                                                                                                                                                                                                                                                                                                                                                                                                                                                         | Derian and Brian were great and prompt with their communications with us. The room was as described; it was a small nice and clean room with a very comfortable bed and pillows. We shared a bathroom with others in the apartment. Derian had turned on the AC in our room prior to our arrival which we appreciated a lot. He also greeted us kindly when we arrived and showed us around. We arrived late and left early in the morning to catch our flight, so unfortunately, we did not get a chance to meet Brian or to talk much with Derian.  |\n",
       "| all                                                                                                                                                                                                                                                                                                                                                                                                                                                                                                                                                   |  16                                                                                                                                                                                                                                                                                                                                                                                                                                                                                                                                                   | 0.2500000                                                                                                                                                                                                                                                                                                                                                                                                                                                                                                                                             | gracious                                                                                                                                                                                                                                                                                                                                                                                                                                                                                                                                              | -                                                                                                                                                                                                                                                                                                                                                                                                                                                                                                                                                     | John and Dan were gracious hosts and the location and accommodations were very nice......as listed.                                                                                                                                                                                                                                                                                                                                                                                                                                                   |\n",
       "\n"
      ],
      "text/plain": [
       "  all wc  polarity \n",
       "1 all  77 1.1851900\n",
       "2 all  78 1.2455047\n",
       "3 all  39 0.4803845\n",
       "4 all 101 0.7562283\n",
       "5 all  16 0.2500000\n",
       "  pos.words                                                                                \n",
       "1 wonderful, charming , warm     , like     , nice     , right    , well     , great       \n",
       "2 great     , lovely    , well      , nice      , better    , appreciate, optimal          \n",
       "3 terrific , lovely   , excellent                                                          \n",
       "4 great      , prompt     , nice       , clean      , comfortable, appreciated, kindly     \n",
       "5 gracious                                                                                 \n",
       "  neg.words    \n",
       "1 -            \n",
       "2 -            \n",
       "3 -            \n",
       "4 unfortunately\n",
       "5 -            \n",
       "  text.var                                                                                                                                                                                                                                                                                                                                                                                                                                                                                                                                             \n",
       "1 My daughter and I had a wonderful stay with Maura. She kept in close touch with us throughout the day as we weren't arriving til later in the evening. The room was charming and the whole apartment was very warm and eclectic. She asked us what time we'd like breakfast and laid out a very nice spread. Right down the street from Jamaica Pond and very close to Center St. as well. All in all, great experience!                                                                                                                             \n",
       "2 We stay at Elizabeth's place for 3 nights in October 2014.\\nThe apartment is really a great place to stay. \\nLovely decorated and extremely well located. Very close to Back Bay station if you come by train, and close also to the subway and just a nice walk from the city center. \\n\\nI would say that is better that what you appreciate in the pictures\\nAlso the bed is very confortable.\\nSo really it was an optimal choice for us.                                                                                                        \n",
       "3 If you're staying in South Boston, this is a terrific place to camp out. The apartment and bedroom are lovely, Ellie is an excellent host, and there is a lot within walking distance in a neighborhood on the rise.                                                                                                                                                                                                                                                                                                                                 \n",
       "4 Derian and Brian were great and prompt with their communications with us. The room was as described; it was a small nice and clean room with a very comfortable bed and pillows. We shared a bathroom with others in the apartment. Derian had turned on the AC in our room prior to our arrival which we appreciated a lot. He also greeted us kindly when we arrived and showed us around. We arrived late and left early in the morning to catch our flight, so unfortunately, we did not get a chance to meet Brian or to talk much with Derian. \n",
       "5 John and Dan were gracious hosts and the location and accommodations were very nice......as listed.                                                                                                                                                                                                                                                                                                                                                                                                                                                  "
      ]
     },
     "metadata": {},
     "output_type": "display_data"
    }
   ],
   "source": [
    "# Apply polarity to first 5 reviews\n",
    "practice_pol <- polarity(bos_reviews$comments[1:5])\n",
    "\n",
    "# Review the object\n",
    "practice_pol$all"
   ]
  },
  {
   "cell_type": "code",
   "execution_count": 26,
   "metadata": {},
   "outputs": [
    {
     "data": {
      "text/html": [
       "<table>\n",
       "<thead><tr><th scope=col>id</th><th scope=col>word</th><th scope=col>original_word_order</th></tr></thead>\n",
       "<tbody>\n",
       "\t<tr><td>1       </td><td>my      </td><td>1       </td></tr>\n",
       "\t<tr><td>1       </td><td>daughter</td><td>2       </td></tr>\n",
       "\t<tr><td>1       </td><td>and     </td><td>3       </td></tr>\n",
       "\t<tr><td>1       </td><td>i       </td><td>4       </td></tr>\n",
       "\t<tr><td>1       </td><td>had     </td><td>5       </td></tr>\n",
       "\t<tr><td>1       </td><td>a       </td><td>6       </td></tr>\n",
       "</tbody>\n",
       "</table>\n"
      ],
      "text/latex": [
       "\\begin{tabular}{r|lll}\n",
       " id & word & original\\_word\\_order\\\\\n",
       "\\hline\n",
       "\t 1        & my       & 1       \\\\\n",
       "\t 1        & daughter & 2       \\\\\n",
       "\t 1        & and      & 3       \\\\\n",
       "\t 1        & i        & 4       \\\\\n",
       "\t 1        & had      & 5       \\\\\n",
       "\t 1        & a        & 6       \\\\\n",
       "\\end{tabular}\n"
      ],
      "text/markdown": [
       "\n",
       "| id | word | original_word_order |\n",
       "|---|---|---|\n",
       "| 1        | my       | 1        |\n",
       "| 1        | daughter | 2        |\n",
       "| 1        | and      | 3        |\n",
       "| 1        | i        | 4        |\n",
       "| 1        | had      | 5        |\n",
       "| 1        | a        | 6        |\n",
       "\n"
      ],
      "text/plain": [
       "  id word     original_word_order\n",
       "1 1  my       1                  \n",
       "2 1  daughter 2                  \n",
       "3 1  and      3                  \n",
       "4 1  i        4                  \n",
       "5 1  had      5                  \n",
       "6 1  a        6                  "
      ]
     },
     "metadata": {},
     "output_type": "display_data"
    }
   ],
   "source": [
    "tidy_reviews <- bos_reviews %>% unnest_tokens(word, comments)\n",
    "tidy_reviews <- tidy_reviews %>% group_by(id) %>% mutate(original_word_order = seq_along(word))  \n",
    "head(tidy_reviews)"
   ]
  },
  {
   "cell_type": "code",
   "execution_count": 22,
   "metadata": {},
   "outputs": [],
   "source": [
    "data(\"stop_words\")"
   ]
  },
  {
   "cell_type": "code",
   "execution_count": 24,
   "metadata": {},
   "outputs": [
    {
     "name": "stderr",
     "output_type": "stream",
     "text": [
      "Joining, by = \"word\""
     ]
    }
   ],
   "source": [
    "tidy_reviews_without_stopwords <- tidy_reviews %>% anti_join(stop_words) "
   ]
  },
  {
   "cell_type": "code",
   "execution_count": 25,
   "metadata": {},
   "outputs": [
    {
     "data": {
      "text/html": [
       "<table>\n",
       "<thead><tr><th scope=col>id</th><th scope=col>word</th><th scope=col>original_word_order</th></tr></thead>\n",
       "<tbody>\n",
       "\t<tr><td>1        </td><td>daughter </td><td> 2       </td></tr>\n",
       "\t<tr><td>1        </td><td>wonderful</td><td> 7       </td></tr>\n",
       "\t<tr><td>1        </td><td>stay     </td><td> 8       </td></tr>\n",
       "\t<tr><td>1        </td><td>maura    </td><td>10       </td></tr>\n",
       "\t<tr><td>1        </td><td>close    </td><td>14       </td></tr>\n",
       "\t<tr><td>1        </td><td>touch    </td><td>15       </td></tr>\n",
       "</tbody>\n",
       "</table>\n"
      ],
      "text/latex": [
       "\\begin{tabular}{r|lll}\n",
       " id & word & original\\_word\\_order\\\\\n",
       "\\hline\n",
       "\t 1         & daughter  &  2       \\\\\n",
       "\t 1         & wonderful &  7       \\\\\n",
       "\t 1         & stay      &  8       \\\\\n",
       "\t 1         & maura     & 10       \\\\\n",
       "\t 1         & close     & 14       \\\\\n",
       "\t 1         & touch     & 15       \\\\\n",
       "\\end{tabular}\n"
      ],
      "text/markdown": [
       "\n",
       "| id | word | original_word_order |\n",
       "|---|---|---|\n",
       "| 1         | daughter  |  2        |\n",
       "| 1         | wonderful |  7        |\n",
       "| 1         | stay      |  8        |\n",
       "| 1         | maura     | 10        |\n",
       "| 1         | close     | 14        |\n",
       "| 1         | touch     | 15        |\n",
       "\n"
      ],
      "text/plain": [
       "  id word      original_word_order\n",
       "1 1  daughter   2                 \n",
       "2 1  wonderful  7                 \n",
       "3 1  stay       8                 \n",
       "4 1  maura     10                 \n",
       "5 1  close     14                 \n",
       "6 1  touch     15                 "
      ]
     },
     "metadata": {},
     "output_type": "display_data"
    }
   ],
   "source": [
    "head(tidy_reviews_without_stopwords)"
   ]
  },
  {
   "cell_type": "code",
   "execution_count": 27,
   "metadata": {},
   "outputs": [],
   "source": [
    "bing <- get_sentiments(lexicon = \"bing\")"
   ]
  },
  {
   "cell_type": "code",
   "execution_count": 28,
   "metadata": {},
   "outputs": [
    {
     "name": "stderr",
     "output_type": "stream",
     "text": [
      "Joining, by = \"word\""
     ]
    }
   ],
   "source": [
    "pos_neg <- tidy_reviews_without_stopwords %>% inner_join(bing) %>% count(sentiment) %>% spread(sentiment, n, fill = 0) %>% mutate(polarity = positive - negative)"
   ]
  },
  {
   "cell_type": "code",
   "execution_count": 32,
   "metadata": {},
   "outputs": [
    {
     "name": "stderr",
     "output_type": "stream",
     "text": [
      "Joining, by = \"word\""
     ]
    },
    {
     "data": {
      "text/html": [
       "<table>\n",
       "<thead><tr><th scope=col>id</th><th scope=col>word</th><th scope=col>original_word_order</th><th scope=col>sentiment</th></tr></thead>\n",
       "<tbody>\n",
       "\t<tr><td>1        </td><td>wonderful</td><td> 7       </td><td>positive </td></tr>\n",
       "\t<tr><td>1        </td><td>charming </td><td>33       </td><td>positive </td></tr>\n",
       "\t<tr><td>1        </td><td>warm     </td><td>40       </td><td>positive </td></tr>\n",
       "\t<tr><td>1        </td><td>nice     </td><td>56       </td><td>positive </td></tr>\n",
       "\t<tr><td>2        </td><td>lovely   </td><td>21       </td><td>positive </td></tr>\n",
       "\t<tr><td>2        </td><td>nice     </td><td>47       </td><td>positive </td></tr>\n",
       "</tbody>\n",
       "</table>\n"
      ],
      "text/latex": [
       "\\begin{tabular}{r|llll}\n",
       " id & word & original\\_word\\_order & sentiment\\\\\n",
       "\\hline\n",
       "\t 1         & wonderful &  7        & positive \\\\\n",
       "\t 1         & charming  & 33        & positive \\\\\n",
       "\t 1         & warm      & 40        & positive \\\\\n",
       "\t 1         & nice      & 56        & positive \\\\\n",
       "\t 2         & lovely    & 21        & positive \\\\\n",
       "\t 2         & nice      & 47        & positive \\\\\n",
       "\\end{tabular}\n"
      ],
      "text/markdown": [
       "\n",
       "| id | word | original_word_order | sentiment |\n",
       "|---|---|---|---|\n",
       "| 1         | wonderful |  7        | positive  |\n",
       "| 1         | charming  | 33        | positive  |\n",
       "| 1         | warm      | 40        | positive  |\n",
       "| 1         | nice      | 56        | positive  |\n",
       "| 2         | lovely    | 21        | positive  |\n",
       "| 2         | nice      | 47        | positive  |\n",
       "\n"
      ],
      "text/plain": [
       "  id word      original_word_order sentiment\n",
       "1 1  wonderful  7                  positive \n",
       "2 1  charming  33                  positive \n",
       "3 1  warm      40                  positive \n",
       "4 1  nice      56                  positive \n",
       "5 2  lovely    21                  positive \n",
       "6 2  nice      47                  positive "
      ]
     },
     "metadata": {},
     "output_type": "display_data"
    }
   ],
   "source": [
    "head(tidy_reviews_without_stopwords %>% inner_join(bing))"
   ]
  },
  {
   "cell_type": "code",
   "execution_count": 33,
   "metadata": {},
   "outputs": [
    {
     "name": "stderr",
     "output_type": "stream",
     "text": [
      "Joining, by = \"word\""
     ]
    },
    {
     "data": {
      "text/html": [
       "<table>\n",
       "<thead><tr><th scope=col>id</th><th scope=col>sentiment</th><th scope=col>n</th></tr></thead>\n",
       "<tbody>\n",
       "\t<tr><td>1       </td><td>positive</td><td>4       </td></tr>\n",
       "\t<tr><td>2       </td><td>positive</td><td>3       </td></tr>\n",
       "\t<tr><td>3       </td><td>positive</td><td>3       </td></tr>\n",
       "\t<tr><td>4       </td><td>positive</td><td>6       </td></tr>\n",
       "\t<tr><td>5       </td><td>positive</td><td>2       </td></tr>\n",
       "\t<tr><td>6       </td><td>positive</td><td>3       </td></tr>\n",
       "</tbody>\n",
       "</table>\n"
      ],
      "text/latex": [
       "\\begin{tabular}{r|lll}\n",
       " id & sentiment & n\\\\\n",
       "\\hline\n",
       "\t 1        & positive & 4       \\\\\n",
       "\t 2        & positive & 3       \\\\\n",
       "\t 3        & positive & 3       \\\\\n",
       "\t 4        & positive & 6       \\\\\n",
       "\t 5        & positive & 2       \\\\\n",
       "\t 6        & positive & 3       \\\\\n",
       "\\end{tabular}\n"
      ],
      "text/markdown": [
       "\n",
       "| id | sentiment | n |\n",
       "|---|---|---|\n",
       "| 1        | positive | 4        |\n",
       "| 2        | positive | 3        |\n",
       "| 3        | positive | 3        |\n",
       "| 4        | positive | 6        |\n",
       "| 5        | positive | 2        |\n",
       "| 6        | positive | 3        |\n",
       "\n"
      ],
      "text/plain": [
       "  id sentiment n\n",
       "1 1  positive  4\n",
       "2 2  positive  3\n",
       "3 3  positive  3\n",
       "4 4  positive  6\n",
       "5 5  positive  2\n",
       "6 6  positive  3"
      ]
     },
     "metadata": {},
     "output_type": "display_data"
    }
   ],
   "source": [
    "head(tidy_reviews_without_stopwords %>% inner_join(bing) %>% count(sentiment))"
   ]
  },
  {
   "cell_type": "code",
   "execution_count": 34,
   "metadata": {},
   "outputs": [
    {
     "name": "stderr",
     "output_type": "stream",
     "text": [
      "Joining, by = \"word\""
     ]
    },
    {
     "data": {
      "text/html": [
       "<table>\n",
       "<thead><tr><th scope=col>id</th><th scope=col>negative</th><th scope=col>positive</th></tr></thead>\n",
       "<tbody>\n",
       "\t<tr><td>1</td><td>0</td><td>4</td></tr>\n",
       "\t<tr><td>2</td><td>0</td><td>3</td></tr>\n",
       "\t<tr><td>3</td><td>0</td><td>3</td></tr>\n",
       "\t<tr><td>4</td><td>0</td><td>6</td></tr>\n",
       "\t<tr><td>5</td><td>0</td><td>2</td></tr>\n",
       "\t<tr><td>6</td><td>0</td><td>3</td></tr>\n",
       "</tbody>\n",
       "</table>\n"
      ],
      "text/latex": [
       "\\begin{tabular}{r|lll}\n",
       " id & negative & positive\\\\\n",
       "\\hline\n",
       "\t 1 & 0 & 4\\\\\n",
       "\t 2 & 0 & 3\\\\\n",
       "\t 3 & 0 & 3\\\\\n",
       "\t 4 & 0 & 6\\\\\n",
       "\t 5 & 0 & 2\\\\\n",
       "\t 6 & 0 & 3\\\\\n",
       "\\end{tabular}\n"
      ],
      "text/markdown": [
       "\n",
       "| id | negative | positive |\n",
       "|---|---|---|\n",
       "| 1 | 0 | 4 |\n",
       "| 2 | 0 | 3 |\n",
       "| 3 | 0 | 3 |\n",
       "| 4 | 0 | 6 |\n",
       "| 5 | 0 | 2 |\n",
       "| 6 | 0 | 3 |\n",
       "\n"
      ],
      "text/plain": [
       "  id negative positive\n",
       "1 1  0        4       \n",
       "2 2  0        3       \n",
       "3 3  0        3       \n",
       "4 4  0        6       \n",
       "5 5  0        2       \n",
       "6 6  0        3       "
      ]
     },
     "metadata": {},
     "output_type": "display_data"
    }
   ],
   "source": [
    "head(tidy_reviews_without_stopwords %>% inner_join(bing) %>% count(sentiment) %>% spread(sentiment, n, fill = 0))"
   ]
  },
  {
   "cell_type": "code",
   "execution_count": 35,
   "metadata": {},
   "outputs": [
    {
     "name": "stderr",
     "output_type": "stream",
     "text": [
      "Joining, by = \"word\""
     ]
    },
    {
     "data": {
      "text/html": [
       "<table>\n",
       "<thead><tr><th scope=col>id</th><th scope=col>negative</th><th scope=col>positive</th><th scope=col>polarity</th></tr></thead>\n",
       "<tbody>\n",
       "\t<tr><td>1</td><td>0</td><td>4</td><td>4</td></tr>\n",
       "\t<tr><td>2</td><td>0</td><td>3</td><td>3</td></tr>\n",
       "\t<tr><td>3</td><td>0</td><td>3</td><td>3</td></tr>\n",
       "\t<tr><td>4</td><td>0</td><td>6</td><td>6</td></tr>\n",
       "\t<tr><td>5</td><td>0</td><td>2</td><td>2</td></tr>\n",
       "\t<tr><td>6</td><td>0</td><td>3</td><td>3</td></tr>\n",
       "</tbody>\n",
       "</table>\n"
      ],
      "text/latex": [
       "\\begin{tabular}{r|llll}\n",
       " id & negative & positive & polarity\\\\\n",
       "\\hline\n",
       "\t 1 & 0 & 4 & 4\\\\\n",
       "\t 2 & 0 & 3 & 3\\\\\n",
       "\t 3 & 0 & 3 & 3\\\\\n",
       "\t 4 & 0 & 6 & 6\\\\\n",
       "\t 5 & 0 & 2 & 2\\\\\n",
       "\t 6 & 0 & 3 & 3\\\\\n",
       "\\end{tabular}\n"
      ],
      "text/markdown": [
       "\n",
       "| id | negative | positive | polarity |\n",
       "|---|---|---|---|\n",
       "| 1 | 0 | 4 | 4 |\n",
       "| 2 | 0 | 3 | 3 |\n",
       "| 3 | 0 | 3 | 3 |\n",
       "| 4 | 0 | 6 | 6 |\n",
       "| 5 | 0 | 2 | 2 |\n",
       "| 6 | 0 | 3 | 3 |\n",
       "\n"
      ],
      "text/plain": [
       "  id negative positive polarity\n",
       "1 1  0        4        4       \n",
       "2 2  0        3        3       \n",
       "3 3  0        3        3       \n",
       "4 4  0        6        6       \n",
       "5 5  0        2        2       \n",
       "6 6  0        3        3       "
      ]
     },
     "metadata": {},
     "output_type": "display_data"
    }
   ],
   "source": [
    "head(tidy_reviews_without_stopwords %>% inner_join(bing) %>% count(sentiment) %>% spread(sentiment, n, fill = 0) %>% mutate(polarity = positive - negative))"
   ]
  }
 ],
 "metadata": {
  "kernelspec": {
   "display_name": "R",
   "language": "R",
   "name": "ir"
  },
  "language_info": {
   "codemirror_mode": "r",
   "file_extension": ".r",
   "mimetype": "text/x-r-source",
   "name": "R",
   "pygments_lexer": "r",
   "version": "3.6.1"
  }
 },
 "nbformat": 4,
 "nbformat_minor": 2
}
