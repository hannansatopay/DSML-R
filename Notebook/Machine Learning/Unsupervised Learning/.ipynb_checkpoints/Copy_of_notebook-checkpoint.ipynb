{
 "cells": [
  {
   "cell_type": "markdown",
   "metadata": {
    "colab_type": "text",
    "dc": {
     "key": "4"
    },
    "deletable": false,
    "editable": false,
    "id": "IBmjqT7WFjRW",
    "run_control": {
     "frozen": true
    },
    "tags": [
     "context"
    ]
   },
   "source": [
    "## 1. A preliminary look at the Bustabit data\n",
    "<p>The similarities and differences in the behaviors of different people have long been of interest, particularly in psychology and other social science fields. Understanding human behavior in particular contexts can help us to make informed decisions. Consider a game of poker - understanding why players raise, call, and fold in various situations can provide a distinct advantage competitively.</p>\n",
    "<p>Along these lines, we are going to focus on the behavior on <strong>online gamblers</strong> from a platform called <a href=\"https://www.bustabit.com\" target=\"_blank\">Bustabit</a>. There are a few basic rules for playing a game of Bustabit:</p>\n",
    "<ol>\n",
    "<li>You bet a certain amount of money (in Bits, which is 1 / 1,000,000th of a Bitcoin) and you win if you cash out before the game <strong>busts</strong>.</li>\n",
    "<li>Your win is calculated by the multiplier value at the moment you cashed out. For example, if you bet 100 and the value was 2.50x at the time you cashed out, you win 250. In addition, a percentage <code>Bonus</code> per game is multiplied with your bet and summed to give your final <code>Profit</code> in a winning game. Assuming a <code>Bonus</code> of 1%, your <code>Profit</code> for this round would be <code>(100 x 2.5) + (100 x .01) - 100 = 151</code></li>\n",
    "<li>The multiplier increases as time goes on, but if you wait too long to cash out, you may bust and lose your money.</li>\n",
    "<li>Lastly, the house maintains slight advantages because in 1 out of every 100 games, everyone playing busts.</li>\n",
    "</ol>\n",
    "<p>Below we see an example of a winning game:</p>\n",
    "<p><img src=\"https://assets.datacamp.com/production/project_643/img/bustabit_win.gif\" alt=\"\"></p>\n",
    "<p>And a losing game, for comparison:</p>\n",
    "<p><img src=\"https://assets.datacamp.com/production/project_643/img/bustabit_loss.gif\" alt=\"\"></p>\n",
    "<p>Our goal will be to define relevant <strong>groups</strong> or <strong>clusters</strong> of Bustabit users to identify what patterns and behaviors of gambling persist. Can we describe a particular group as risk-averse? Is there a set of gamblers that have a strategy that seems to be more successful in the long term?</p>\n",
    "<p>The data you will be working with includes over 40000 games of Bustabit by a bit over 4000 different players, for a total of 50000 rows (one game played by one player). The data includes the following variables:</p>\n",
    "<ol>\n",
    "<li><strong>Id</strong> - Unique identifier for a particular row (game result for one player)</li>\n",
    "<li><strong>GameID</strong> - Unique identifier for a particular game</li>\n",
    "<li><strong>Username</strong> - Unique identifier for a particular player</li>\n",
    "<li><strong>Bet</strong> - The number of Bits (1 / 1,000,000th of a Bitcoin) bet by the player in this game</li>\n",
    "<li><strong>CashedOut</strong> - The multiplier at which this particular player cashed out</li>\n",
    "<li><strong>Bonus</strong> - The bonus award (in percent) awarded to this player for the game</li>\n",
    "<li><strong>Profit</strong> - The amount this player won in the game, calculated as (Bet * CashedOut) + (Bet * Bonus) - Bet</li>\n",
    "<li><strong>BustedAt</strong> - The multiplier value at which this game busted</li>\n",
    "<li><strong>PlayDate</strong> - The date and time at which this game took place</li>\n",
    "</ol>\n",
    "<p>Let's begin by doing an exploratory dive into the Bustabit data!</p>"
   ]
  },
  {
   "cell_type": "code",
   "execution_count": 0,
   "metadata": {
    "colab": {},
    "colab_type": "code",
    "dc": {
     "key": "4"
    },
    "id": "UmbCawVIFjRc",
    "outputId": "2afe3a64-e6b8-4025-c19c-b8a2d81d6156",
    "tags": [
     "sample_code"
    ]
   },
   "outputs": [
    {
     "name": "stderr",
     "output_type": "stream",
     "text": [
      "-- Attaching packages --------------------------------------- tidyverse 1.2.1 --\n",
      "<U+221A> ggplot2 3.0.0     <U+221A> purrr   0.2.5\n",
      "<U+221A> tibble  1.4.2     <U+221A> dplyr   0.7.6\n",
      "<U+221A> tidyr   0.8.1     <U+221A> stringr 1.3.1\n",
      "<U+221A> readr   1.1.1     <U+221A> forcats 0.3.0\n",
      "-- Conflicts ------------------------------------------ tidyverse_conflicts() --\n",
      "x dplyr::filter() masks stats::filter()\n",
      "x dplyr::lag()    masks stats::lag()\n",
      "Parsed with column specification:\n",
      "cols(\n",
      "  Id = col_integer(),\n",
      "  GameID = col_integer(),\n",
      "  Username = col_character(),\n",
      "  Bet = col_integer(),\n",
      "  CashedOut = col_double(),\n",
      "  Bonus = col_double(),\n",
      "  Profit = col_double(),\n",
      "  BustedAt = col_double(),\n",
      "  PlayDate = col_datetime(format = \"\")\n",
      ")\n"
     ]
    },
    {
     "data": {
      "text/html": [
       "<table>\n",
       "<thead><tr><th scope=col>Id</th><th scope=col>GameID</th><th scope=col>Username</th><th scope=col>Bet</th><th scope=col>CashedOut</th><th scope=col>Bonus</th><th scope=col>Profit</th><th scope=col>BustedAt</th><th scope=col>PlayDate</th></tr></thead>\n",
       "<tbody>\n",
       "\t<tr><td>14196549           </td><td>3366002            </td><td>papai              </td><td> 5                 </td><td>1.20               </td><td>0.0                </td><td> 1.00              </td><td>8.24               </td><td>2016-11-20 19:44:19</td></tr>\n",
       "\t<tr><td>10676217           </td><td>3343882            </td><td>znay22             </td><td> 3                 </td><td>  NA               </td><td> NA                </td><td>   NA              </td><td>1.40               </td><td>2016-11-14 14:21:50</td></tr>\n",
       "\t<tr><td>15577107           </td><td>3374646            </td><td>rrrrrrrr           </td><td> 4                 </td><td>1.33               </td><td>3.0                </td><td> 1.44              </td><td>3.15               </td><td>2016-11-23 06:39:15</td></tr>\n",
       "\t<tr><td>25732127           </td><td>3429241            </td><td>sanya1206          </td><td>10                 </td><td>  NA               </td><td> NA                </td><td>   NA              </td><td>1.63               </td><td>2016-12-08 18:13:55</td></tr>\n",
       "\t<tr><td>17995432           </td><td>3389174            </td><td>ADM                </td><td>50                 </td><td>1.50               </td><td>1.4                </td><td>25.70              </td><td>2.29               </td><td>2016-11-27 08:14:48</td></tr>\n",
       "</tbody>\n",
       "</table>\n"
      ],
      "text/latex": [
       "\\begin{tabular}{r|lllllllll}\n",
       " Id & GameID & Username & Bet & CashedOut & Bonus & Profit & BustedAt & PlayDate\\\\\n",
       "\\hline\n",
       "\t 14196549            & 3366002             & papai               &  5                  & 1.20                & 0.0                 &  1.00               & 8.24                & 2016-11-20 19:44:19\\\\\n",
       "\t 10676217            & 3343882             & znay22              &  3                  &   NA                &  NA                 &    NA               & 1.40                & 2016-11-14 14:21:50\\\\\n",
       "\t 15577107            & 3374646             & rrrrrrrr            &  4                  & 1.33                & 3.0                 &  1.44               & 3.15                & 2016-11-23 06:39:15\\\\\n",
       "\t 25732127            & 3429241             & sanya1206           & 10                  &   NA                &  NA                 &    NA               & 1.63                & 2016-12-08 18:13:55\\\\\n",
       "\t 17995432            & 3389174             & ADM                 & 50                  & 1.50                & 1.4                 & 25.70               & 2.29                & 2016-11-27 08:14:48\\\\\n",
       "\\end{tabular}\n"
      ],
      "text/markdown": [
       "\n",
       "Id | GameID | Username | Bet | CashedOut | Bonus | Profit | BustedAt | PlayDate | \n",
       "|---|---|---|---|---|\n",
       "| 14196549            | 3366002             | papai               |  5                  | 1.20                | 0.0                 |  1.00               | 8.24                | 2016-11-20 19:44:19 | \n",
       "| 10676217            | 3343882             | znay22              |  3                  |   NA                |  NA                 |    NA               | 1.40                | 2016-11-14 14:21:50 | \n",
       "| 15577107            | 3374646             | rrrrrrrr            |  4                  | 1.33                | 3.0                 |  1.44               | 3.15                | 2016-11-23 06:39:15 | \n",
       "| 25732127            | 3429241             | sanya1206           | 10                  |   NA                |  NA                 |    NA               | 1.63                | 2016-12-08 18:13:55 | \n",
       "| 17995432            | 3389174             | ADM                 | 50                  | 1.50                | 1.4                 | 25.70               | 2.29                | 2016-11-27 08:14:48 | \n",
       "\n",
       "\n"
      ],
      "text/plain": [
       "  Id       GameID  Username  Bet CashedOut Bonus Profit BustedAt\n",
       "1 14196549 3366002 papai      5  1.20      0.0    1.00  8.24    \n",
       "2 10676217 3343882 znay22     3    NA       NA      NA  1.40    \n",
       "3 15577107 3374646 rrrrrrrr   4  1.33      3.0    1.44  3.15    \n",
       "4 25732127 3429241 sanya1206 10    NA       NA      NA  1.63    \n",
       "5 17995432 3389174 ADM       50  1.50      1.4   25.70  2.29    \n",
       "  PlayDate           \n",
       "1 2016-11-20 19:44:19\n",
       "2 2016-11-14 14:21:50\n",
       "3 2016-11-23 06:39:15\n",
       "4 2016-12-08 18:13:55\n",
       "5 2016-11-27 08:14:48"
      ]
     },
     "metadata": {
      "tags": []
     },
     "output_type": "display_data"
    },
    {
     "data": {
      "text/html": [
       "<table>\n",
       "<thead><tr><th scope=col>Id</th><th scope=col>GameID</th><th scope=col>Username</th><th scope=col>Bet</th><th scope=col>CashedOut</th><th scope=col>Bonus</th><th scope=col>Profit</th><th scope=col>BustedAt</th><th scope=col>PlayDate</th></tr></thead>\n",
       "<tbody>\n",
       "\t<tr><td>19029273           </td><td>3395044            </td><td>Shadowshot         </td><td>130                </td><td>2                  </td><td>2.77               </td><td>133.6              </td><td>251025.1           </td><td>2016-11-29 00:03:05</td></tr>\n",
       "</tbody>\n",
       "</table>\n"
      ],
      "text/latex": [
       "\\begin{tabular}{r|lllllllll}\n",
       " Id & GameID & Username & Bet & CashedOut & Bonus & Profit & BustedAt & PlayDate\\\\\n",
       "\\hline\n",
       "\t 19029273            & 3395044             & Shadowshot          & 130                 & 2                   & 2.77                & 133.6               & 251025.1            & 2016-11-29 00:03:05\\\\\n",
       "\\end{tabular}\n"
      ],
      "text/markdown": [
       "\n",
       "Id | GameID | Username | Bet | CashedOut | Bonus | Profit | BustedAt | PlayDate | \n",
       "|---|\n",
       "| 19029273            | 3395044             | Shadowshot          | 130                 | 2                   | 2.77                | 133.6               | 251025.1            | 2016-11-29 00:03:05 | \n",
       "\n",
       "\n"
      ],
      "text/plain": [
       "  Id       GameID  Username   Bet CashedOut Bonus Profit BustedAt\n",
       "1 19029273 3395044 Shadowshot 130 2         2.77  133.6  251025.1\n",
       "  PlayDate           \n",
       "1 2016-11-29 00:03:05"
      ]
     },
     "metadata": {
      "tags": []
     },
     "output_type": "display_data"
    }
   ],
   "source": [
    "# Load the tidyverse\n",
    "library(tidyverse)\n",
    "\n",
    "# Read in the bustabit gambling data \n",
    "bustabit <- read_csv(\"datasets/bustabit.csv\")\n",
    "\n",
    "# Look at the first five rows of the data\n",
    "head(bustabit, 5)"
   ]
  },
  {
   "cell_type": "code",
   "execution_count": 0,
   "metadata": {
    "colab": {},
    "colab_type": "code",
    "id": "QZz4jB-eFs_X"
   },
   "outputs": [],
   "source": [
    "# Find the highest multiplier (BustedAt value) achieved in a game\n",
    "bustabit %>%\n",
    "    arrange(desc(BustedAt)) %>%\n",
    "    slice(1)"
   ]
  },
  {
   "cell_type": "markdown",
   "metadata": {
    "colab_type": "text",
    "dc": {
     "key": "11"
    },
    "deletable": false,
    "editable": false,
    "id": "ihYfDS9EFjRj",
    "run_control": {
     "frozen": true
    },
    "tags": [
     "context"
    ]
   },
   "source": [
    "## 2. Deriving relevant features for clustering\n",
    "<p>The Bustabit data provides us with many features to work with, but to better quantify player behavior, we need to derive some more variables. Currently, we have a <code>Profit</code> column which tells us the amount won in that game, but no indication of how much was lost if the player busted, and no indicator variable quantifying whether the game itself was a win or loss overall. Hence, we will derive or modify the following variables:</p>\n",
    "<ol>\n",
    "<li><strong>CashedOut</strong> - If the value for <code>CashedOut</code> is <code>NA</code>, we will set it to be 0.01 greater than the <code>BustedAt</code> value to signify that the user failed to cash out before busting</li>\n",
    "<li><strong>Profit</strong> - If the value for <code>Profit</code> is <code>NA</code>, we will set it to be zero to indicate no profit for the player in that game</li>\n",
    "<li><strong>Losses</strong> - If the new value for <code>Profit</code> is zero, we will set this to be the amount the player lost in that game, otherwise we will set it to zero. This value should always be <em>zero or negative</em></li>\n",
    "<li><strong>GameWon</strong> - If the user made a profit in this game, the value should be 1, and 0 otherwise</li>\n",
    "<li><strong>GameLost</strong> If the user had a loss in this game, the value should be 1, and 0 otherwise</li>\n",
    "</ol>"
   ]
  },
  {
   "cell_type": "code",
   "execution_count": 0,
   "metadata": {
    "colab": {},
    "colab_type": "code",
    "dc": {
     "key": "11"
    },
    "id": "2Vh0A7F5FjRk",
    "outputId": "2b0ba95f-315b-4b1f-d344-3fae4315a1d4",
    "tags": [
     "sample_code"
    ]
   },
   "outputs": [
    {
     "data": {
      "text/html": [
       "<table>\n",
       "<thead><tr><th scope=col>Id</th><th scope=col>GameID</th><th scope=col>Username</th><th scope=col>Bet</th><th scope=col>CashedOut</th><th scope=col>Bonus</th><th scope=col>Profit</th><th scope=col>BustedAt</th><th scope=col>PlayDate</th><th scope=col>Losses</th><th scope=col>GameWon</th><th scope=col>GameLost</th></tr></thead>\n",
       "<tbody>\n",
       "\t<tr><td>14196549           </td><td>3366002            </td><td>papai              </td><td> 5                 </td><td>1.20               </td><td>0.0                </td><td> 1.00              </td><td>8.24               </td><td>2016-11-20 19:44:19</td><td>  0                </td><td>1                  </td><td>0                  </td></tr>\n",
       "\t<tr><td>10676217           </td><td>3343882            </td><td>znay22             </td><td> 3                 </td><td>1.41               </td><td> NA                </td><td> 0.00              </td><td>1.40               </td><td>2016-11-14 14:21:50</td><td> -3                </td><td>0                  </td><td>1                  </td></tr>\n",
       "\t<tr><td>15577107           </td><td>3374646            </td><td>rrrrrrrr           </td><td> 4                 </td><td>1.33               </td><td>3.0                </td><td> 1.44              </td><td>3.15               </td><td>2016-11-23 06:39:15</td><td>  0                </td><td>1                  </td><td>0                  </td></tr>\n",
       "\t<tr><td>25732127           </td><td>3429241            </td><td>sanya1206          </td><td>10                 </td><td>1.64               </td><td> NA                </td><td> 0.00              </td><td>1.63               </td><td>2016-12-08 18:13:55</td><td>-10                </td><td>0                  </td><td>1                  </td></tr>\n",
       "\t<tr><td>17995432           </td><td>3389174            </td><td>ADM                </td><td>50                 </td><td>1.50               </td><td>1.4                </td><td>25.70              </td><td>2.29               </td><td>2016-11-27 08:14:48</td><td>  0                </td><td>1                  </td><td>0                  </td></tr>\n",
       "</tbody>\n",
       "</table>\n"
      ],
      "text/latex": [
       "\\begin{tabular}{r|llllllllllll}\n",
       " Id & GameID & Username & Bet & CashedOut & Bonus & Profit & BustedAt & PlayDate & Losses & GameWon & GameLost\\\\\n",
       "\\hline\n",
       "\t 14196549            & 3366002             & papai               &  5                  & 1.20                & 0.0                 &  1.00               & 8.24                & 2016-11-20 19:44:19 &   0                 & 1                   & 0                  \\\\\n",
       "\t 10676217            & 3343882             & znay22              &  3                  & 1.41                &  NA                 &  0.00               & 1.40                & 2016-11-14 14:21:50 &  -3                 & 0                   & 1                  \\\\\n",
       "\t 15577107            & 3374646             & rrrrrrrr            &  4                  & 1.33                & 3.0                 &  1.44               & 3.15                & 2016-11-23 06:39:15 &   0                 & 1                   & 0                  \\\\\n",
       "\t 25732127            & 3429241             & sanya1206           & 10                  & 1.64                &  NA                 &  0.00               & 1.63                & 2016-12-08 18:13:55 & -10                 & 0                   & 1                  \\\\\n",
       "\t 17995432            & 3389174             & ADM                 & 50                  & 1.50                & 1.4                 & 25.70               & 2.29                & 2016-11-27 08:14:48 &   0                 & 1                   & 0                  \\\\\n",
       "\\end{tabular}\n"
      ],
      "text/markdown": [
       "\n",
       "Id | GameID | Username | Bet | CashedOut | Bonus | Profit | BustedAt | PlayDate | Losses | GameWon | GameLost | \n",
       "|---|---|---|---|---|\n",
       "| 14196549            | 3366002             | papai               |  5                  | 1.20                | 0.0                 |  1.00               | 8.24                | 2016-11-20 19:44:19 |   0                 | 1                   | 0                   | \n",
       "| 10676217            | 3343882             | znay22              |  3                  | 1.41                |  NA                 |  0.00               | 1.40                | 2016-11-14 14:21:50 |  -3                 | 0                   | 1                   | \n",
       "| 15577107            | 3374646             | rrrrrrrr            |  4                  | 1.33                | 3.0                 |  1.44               | 3.15                | 2016-11-23 06:39:15 |   0                 | 1                   | 0                   | \n",
       "| 25732127            | 3429241             | sanya1206           | 10                  | 1.64                |  NA                 |  0.00               | 1.63                | 2016-12-08 18:13:55 | -10                 | 0                   | 1                   | \n",
       "| 17995432            | 3389174             | ADM                 | 50                  | 1.50                | 1.4                 | 25.70               | 2.29                | 2016-11-27 08:14:48 |   0                 | 1                   | 0                   | \n",
       "\n",
       "\n"
      ],
      "text/plain": [
       "  Id       GameID  Username  Bet CashedOut Bonus Profit BustedAt\n",
       "1 14196549 3366002 papai      5  1.20      0.0    1.00  8.24    \n",
       "2 10676217 3343882 znay22     3  1.41       NA    0.00  1.40    \n",
       "3 15577107 3374646 rrrrrrrr   4  1.33      3.0    1.44  3.15    \n",
       "4 25732127 3429241 sanya1206 10  1.64       NA    0.00  1.63    \n",
       "5 17995432 3389174 ADM       50  1.50      1.4   25.70  2.29    \n",
       "  PlayDate            Losses GameWon GameLost\n",
       "1 2016-11-20 19:44:19   0    1       0       \n",
       "2 2016-11-14 14:21:50  -3    0       1       \n",
       "3 2016-11-23 06:39:15   0    1       0       \n",
       "4 2016-12-08 18:13:55 -10    0       1       \n",
       "5 2016-11-27 08:14:48   0    1       0       "
      ]
     },
     "metadata": {
      "tags": []
     },
     "output_type": "display_data"
    }
   ],
   "source": [
    "# Create the new feature variables \n",
    "bustabit_features <- bustabit %>% \n",
    "  mutate(CashedOut = ifelse(is.na(CashedOut), BustedAt + .01, CashedOut),\n",
    "         Profit = ifelse(is.na(Profit), 0, Profit),\n",
    "         Losses = ifelse(Profit == 0, -1 * Bet, 0),\n",
    "         GameWon = ifelse(Profit == 0, 0, 1),\n",
    "         GameLost = ifelse(Profit == 0, 1, 0))\n",
    "\n",
    "# Look at the first five rows of the features data\n",
    "head(bustabit_features, 5)"
   ]
  },
  {
   "cell_type": "markdown",
   "metadata": {
    "colab_type": "text",
    "dc": {
     "key": "18"
    },
    "deletable": false,
    "editable": false,
    "id": "HLIehfkcFjRq",
    "run_control": {
     "frozen": true
    },
    "tags": [
     "context"
    ]
   },
   "source": [
    "## 3. Creating per-player statistics\n",
    "<p>The primary task at hand is to cluster Bustabit <strong>players</strong> by their respective gambling habits. Right now, however, we have features at the per-game level. The features we've derived would be great if we were interested in clustering properties of the games themselves - we know things about the BustedAt multiplier, the time the game took place, and lots more. But to better quantify player behavior, we must group the data by player (<code>Username</code>) to begin thinking about the relationship and similarity between groups of players. Some per-player features we will create are:</p>\n",
    "<ol>\n",
    "<li><strong>AverageCashedOut</strong> - The average multiplier at which the player cashes out</li>\n",
    "<li><strong>AverageBet</strong> - The average bet made by the player</li>\n",
    "<li><strong>TotalProfit</strong> - The total profits over time for the player</li>\n",
    "<li><strong>TotalLosses</strong> - The total losses over time for the player</li>\n",
    "<li><strong>GamesWon</strong> - The total number of individual games the player won</li>\n",
    "<li><strong>GamesLost</strong> - The total number of individual games the player lost</li>\n",
    "</ol>\n",
    "<p>With these variables, we will be able to potentially group similar users based on their typical Bustabit gambling behavior.</p>"
   ]
  },
  {
   "cell_type": "code",
   "execution_count": 0,
   "metadata": {
    "colab": {},
    "colab_type": "code",
    "dc": {
     "key": "18"
    },
    "id": "5nRxIXGlFjRr",
    "outputId": "68c89f2b-dc33-4c66-c052-d7438c85295c",
    "tags": [
     "sample_code"
    ]
   },
   "outputs": [
    {
     "data": {
      "text/html": [
       "<table>\n",
       "<thead><tr><th scope=col>Username</th><th scope=col>AverageCashedOut</th><th scope=col>AverageBet</th><th scope=col>TotalProfit</th><th scope=col>TotalLosses</th><th scope=col>GamesWon</th><th scope=col>GamesLost</th></tr></thead>\n",
       "<tbody>\n",
       "\t<tr><td>----------------</td><td>1.040000        </td><td>  10.33333      </td><td>   0.70         </td><td>   -8           </td><td> 2              </td><td> 1              </td></tr>\n",
       "\t<tr><td>--dilib--       </td><td>1.505000        </td><td> 210.75000      </td><td> 371.37         </td><td>-1239           </td><td> 2              </td><td> 6              </td></tr>\n",
       "\t<tr><td>-31337-         </td><td>1.220000        </td><td>  32.50000      </td><td>  21.50         </td><td>  -55           </td><td> 3              </td><td> 1              </td></tr>\n",
       "\t<tr><td>-Nothing-       </td><td>1.417077        </td><td> 322.87692      </td><td>3794.31         </td><td>-6915           </td><td>42              </td><td>23              </td></tr>\n",
       "\t<tr><td>-Tachyon        </td><td>1.246000        </td><td>1024.80000      </td><td> 629.68         </td><td>-2124           </td><td> 4              </td><td> 1              </td></tr>\n",
       "</tbody>\n",
       "</table>\n"
      ],
      "text/latex": [
       "\\begin{tabular}{r|lllllll}\n",
       " Username & AverageCashedOut & AverageBet & TotalProfit & TotalLosses & GamesWon & GamesLost\\\\\n",
       "\\hline\n",
       "\t ---------------- & 1.040000         &   10.33333       &    0.70          &    -8            &  2               &  1              \\\\\n",
       "\t --dilib--        & 1.505000         &  210.75000       &  371.37          & -1239            &  2               &  6              \\\\\n",
       "\t -31337-          & 1.220000         &   32.50000       &   21.50          &   -55            &  3               &  1              \\\\\n",
       "\t -Nothing-        & 1.417077         &  322.87692       & 3794.31          & -6915            & 42               & 23              \\\\\n",
       "\t -Tachyon         & 1.246000         & 1024.80000       &  629.68          & -2124            &  4               &  1              \\\\\n",
       "\\end{tabular}\n"
      ],
      "text/markdown": [
       "\n",
       "Username | AverageCashedOut | AverageBet | TotalProfit | TotalLosses | GamesWon | GamesLost | \n",
       "|---|---|---|---|---|\n",
       "| ---------------- | 1.040000         |   10.33333       |    0.70          |    -8            |  2               |  1               | \n",
       "| --dilib--        | 1.505000         |  210.75000       |  371.37          | -1239            |  2               |  6               | \n",
       "| -31337-          | 1.220000         |   32.50000       |   21.50          |   -55            |  3               |  1               | \n",
       "| -Nothing-        | 1.417077         |  322.87692       | 3794.31          | -6915            | 42               | 23               | \n",
       "| -Tachyon         | 1.246000         | 1024.80000       |  629.68          | -2124            |  4               |  1               | \n",
       "\n",
       "\n"
      ],
      "text/plain": [
       "  Username         AverageCashedOut AverageBet TotalProfit TotalLosses GamesWon\n",
       "1 ---------------- 1.040000           10.33333    0.70        -8        2      \n",
       "2 --dilib--        1.505000          210.75000  371.37     -1239        2      \n",
       "3 -31337-          1.220000           32.50000   21.50       -55        3      \n",
       "4 -Nothing-        1.417077          322.87692 3794.31     -6915       42      \n",
       "5 -Tachyon         1.246000         1024.80000  629.68     -2124        4      \n",
       "  GamesLost\n",
       "1  1       \n",
       "2  6       \n",
       "3  1       \n",
       "4 23       \n",
       "5  1       "
      ]
     },
     "metadata": {
      "tags": []
     },
     "output_type": "display_data"
    }
   ],
   "source": [
    "# Group by players to create per-player summary statistics\n",
    "bustabit_clus <- bustabit_features %>%\n",
    "  group_by(Username) %>%\n",
    "  summarize(AverageCashedOut = mean(CashedOut), \n",
    "            AverageBet = mean(Bet),\n",
    "            TotalProfit = sum(Profit),\n",
    "            TotalLosses = sum(Losses), \n",
    "            GamesWon = sum(GameWon),\n",
    "            GamesLost = sum(GameLost))\n",
    "\n",
    "# View the first five rows of the data\n",
    "head(bustabit_clus, n = 5)"
   ]
  },
  {
   "cell_type": "markdown",
   "metadata": {
    "colab_type": "text",
    "dc": {
     "key": "25"
    },
    "deletable": false,
    "editable": false,
    "id": "daGBIlgsFjRv",
    "run_control": {
     "frozen": true
    },
    "tags": [
     "context"
    ]
   },
   "source": [
    "## 4. Scaling and normalization of the derived features\n",
    "<p>The variables are on very different <strong>scales</strong> right now. For example, <code>AverageBet</code> is in bits (1/1000000 of a Bitcoin), <code>AverageCashedOut</code> is a multiplier, and <code>GamesLost</code> and <code>GamesWon</code> are counts. As a result, we would like to <strong>normalize</strong> the variables such that across clustering algorithms, they will have approximately equal weighting.</p>\n",
    "<p>One thing to think about is that in many cases, we may actually want a particular numeric variable to maintain a higher weight. This could occur if there is some prior knowledge regarding, for example, which variable might be most important in terms of defining similar Bustabit behavior. In this case, without that prior knowledge, we will forego the weighting of variables and scale everything. We are going to use <strong>mean-sd</strong> standardization to scale the data. Note that this is also known as a <strong>Z-score</strong>.</p>\n",
    "<p>Note that we could compute the Z-scores by using the base R function <code>scale()</code>, but we're going to write our own function in order to get the practice.</p>"
   ]
  },
  {
   "cell_type": "code",
   "execution_count": 0,
   "metadata": {
    "colab": {},
    "colab_type": "code",
    "dc": {
     "key": "25"
    },
    "id": "K8wk4Sm9FjRw",
    "outputId": "80e0eb59-26d3-4b98-8222-748b63c016e2",
    "tags": [
     "sample_code"
    ]
   },
   "outputs": [
    {
     "data": {
      "text/plain": [
       "   Username         AverageCashedOut     AverageBet       TotalProfit      \n",
       " Length:4149        Min.   :-0.76289   Min.   :-0.1773   Min.   :-0.09052  \n",
       " Class :character   1st Qu.:-0.28157   1st Qu.:-0.1765   1st Qu.:-0.09050  \n",
       " Mode  :character   Median :-0.18056   Median :-0.1711   Median :-0.08974  \n",
       "                    Mean   : 0.00000   Mean   : 0.0000   Mean   : 0.00000  \n",
       "                    3rd Qu.: 0.02752   3rd Qu.:-0.1384   3rd Qu.:-0.08183  \n",
       "                    Max.   :41.72651   Max.   :24.9971   Max.   :40.73652  \n",
       "  TotalLosses           GamesWon         GamesLost       \n",
       " Min.   :-41.84541   Min.   :-0.4320   Min.   :-0.41356  \n",
       " 1st Qu.:  0.09837   1st Qu.:-0.3696   1st Qu.:-0.41356  \n",
       " Median :  0.10847   Median :-0.3071   Median :-0.33306  \n",
       " Mean   :  0.00000   Mean   : 0.0000   Mean   : 0.00000  \n",
       " 3rd Qu.:  0.10916   3rd Qu.:-0.1196   3rd Qu.:-0.09156  \n",
       " Max.   :  0.10916   Max.   :13.2534   Max.   :19.30911  "
      ]
     },
     "metadata": {
      "tags": []
     },
     "output_type": "display_data"
    }
   ],
   "source": [
    "# Create the mean-sd standardization function\n",
    "mean_sd_standard <- function(x) {\n",
    "    (x-mean(x))/sd(x)\n",
    "}\n",
    "\n",
    "# Apply the function to each numeric variable in the clustering set\n",
    "bustabit_standardized <- bustabit_clus %>%\n",
    "    mutate_if(is.numeric, mean_sd_standard)\n",
    "              \n",
    "# Summarize our standardized data\n",
    "summary(bustabit_standardized)"
   ]
  },
  {
   "cell_type": "markdown",
   "metadata": {
    "colab_type": "text",
    "dc": {
     "key": "32"
    },
    "deletable": false,
    "editable": false,
    "id": "dmjh7UaSFjR1",
    "run_control": {
     "frozen": true
    },
    "tags": [
     "context"
    ]
   },
   "source": [
    "## 5. Cluster the player data using K means\n",
    "<p>With standardized data of per-player features, we are now ready to use K means clustering in order to cluster the players based on their online gambling behavior. K means is implemented in R in the <code>kmeans()</code> function from the stats package. This function requires the <code>centers</code> parameter, which represents the number of clusters to use. </p>\n",
    "<p>Without prior knowledge, it is often difficult to know what an appropriate choice for the number of clusters is. We will begin by choosing <strong>five</strong>. This choice is rather arbitrary, but represents a good initial compromise between choosing too many clusters (which reduces the interpretability of the final results), and choosing too few clusters (which may not capture the distinctive behaviors effectively). Feel free to play around with other choices for the number of clusters and see what you get instead!</p>\n",
    "<p>One subtlety to note - because the K means algorithm uses a random start, we are going to set a random seed first in order to ensure the results are reproducible.</p>"
   ]
  },
  {
   "cell_type": "code",
   "execution_count": 0,
   "metadata": {
    "colab": {},
    "colab_type": "code",
    "dc": {
     "key": "32"
    },
    "id": "G9DvK1Q3FjR6",
    "outputId": "e974ed0d-ca95-4db2-a287-047c551c8709",
    "tags": [
     "sample_code"
    ]
   },
   "outputs": [
    {
     "data": {
      "text/plain": [
       "\n",
       "   1    2    3    4    5 \n",
       " 412   16   17 3626   78 "
      ]
     },
     "metadata": {
      "tags": []
     },
     "output_type": "display_data"
    }
   ],
   "source": [
    "# Choose 20190101 as our random seed\n",
    "set.seed(20190101)\n",
    "\n",
    "# Cluster the players using kmeans with five clusters\n",
    "cluster_solution <- bustabit_standardized %>%\n",
    "                    select(-Username) %>%\n",
    "                    kmeans(centers = 5)\n",
    "\n",
    "# Store the cluster assignments back into the clustering data frame object\n",
    "bustabit_clus$cluster <- factor(cluster_solution$cluster)\n",
    "\n",
    "# Look at the distribution of cluster assignments\n",
    "table(bustabit_clus$cluster)"
   ]
  },
  {
   "cell_type": "markdown",
   "metadata": {
    "colab_type": "text",
    "dc": {
     "key": "39"
    },
    "deletable": false,
    "editable": false,
    "id": "V_VCEs3CFjSN",
    "run_control": {
     "frozen": true
    },
    "tags": [
     "context"
    ]
   },
   "source": [
    "## 6. Compute averages for each cluster\n",
    "<p>We have a clustering assignment which maps every Bustabit gambler to one of five different groups. To begin to assess the quality and distinctiveness of these groups, we are going to look at <strong>group averages</strong> for each cluster across the original variables in our clustering dataset. This will, for example, allow us to see which cluster tends to make the largest bets, which cluster tends to win the most games, and which cluster tends to lose the most money. This will provide us with our first clear indication as to whether the behaviors of the groups appear distinctive!</p>"
   ]
  },
  {
   "cell_type": "code",
   "execution_count": 0,
   "metadata": {
    "colab": {},
    "colab_type": "code",
    "dc": {
     "key": "39"
    },
    "id": "C1ICq8DcFjSP",
    "outputId": "a8466ac0-214b-44a4-bf11-2e0ec33c0c9b",
    "tags": [
     "sample_code"
    ]
   },
   "outputs": [
    {
     "data": {
      "text/html": [
       "<table>\n",
       "<thead><tr><th scope=col>cluster</th><th scope=col>AverageCashedOut</th><th scope=col>AverageBet</th><th scope=col>TotalProfit</th><th scope=col>TotalLosses</th><th scope=col>GamesWon</th><th scope=col>GamesLost</th></tr></thead>\n",
       "<tbody>\n",
       "\t<tr><td>1            </td><td> 1.915776    </td><td>  1633.2292  </td><td>  19362.9909 </td><td>  -19205.1165</td><td>27.0606796   </td><td>21.036408    </td></tr>\n",
       "\t<tr><td>2            </td><td> 2.470024    </td><td>298945.6618  </td><td>1198191.1631 </td><td>-1056062.1875</td><td>10.5625000   </td><td> 8.062500    </td></tr>\n",
       "\t<tr><td>3            </td><td>27.448235    </td><td>  1278.2574  </td><td>    619.4041 </td><td>    -581.2941</td><td> 0.7058824   </td><td> 1.529412    </td></tr>\n",
       "\t<tr><td>4            </td><td> 1.699993    </td><td>  4024.1102  </td><td>   4272.6656 </td><td>   -4365.7788</td><td> 2.9109211   </td><td> 2.128792    </td></tr>\n",
       "\t<tr><td>5            </td><td> 1.758407    </td><td>   432.1163  </td><td>  18568.1141 </td><td>  -16724.0641</td><td>87.1794872   </td><td>61.205128    </td></tr>\n",
       "</tbody>\n",
       "</table>\n"
      ],
      "text/latex": [
       "\\begin{tabular}{r|lllllll}\n",
       " cluster & AverageCashedOut & AverageBet & TotalProfit & TotalLosses & GamesWon & GamesLost\\\\\n",
       "\\hline\n",
       "\t 1             &  1.915776     &   1633.2292   &   19362.9909  &   -19205.1165 & 27.0606796    & 21.036408    \\\\\n",
       "\t 2             &  2.470024     & 298945.6618   & 1198191.1631  & -1056062.1875 & 10.5625000    &  8.062500    \\\\\n",
       "\t 3             & 27.448235     &   1278.2574   &     619.4041  &     -581.2941 &  0.7058824    &  1.529412    \\\\\n",
       "\t 4             &  1.699993     &   4024.1102   &    4272.6656  &    -4365.7788 &  2.9109211    &  2.128792    \\\\\n",
       "\t 5             &  1.758407     &    432.1163   &   18568.1141  &   -16724.0641 & 87.1794872    & 61.205128    \\\\\n",
       "\\end{tabular}\n"
      ],
      "text/markdown": [
       "\n",
       "cluster | AverageCashedOut | AverageBet | TotalProfit | TotalLosses | GamesWon | GamesLost | \n",
       "|---|---|---|---|---|\n",
       "| 1             |  1.915776     |   1633.2292   |   19362.9909  |   -19205.1165 | 27.0606796    | 21.036408     | \n",
       "| 2             |  2.470024     | 298945.6618   | 1198191.1631  | -1056062.1875 | 10.5625000    |  8.062500     | \n",
       "| 3             | 27.448235     |   1278.2574   |     619.4041  |     -581.2941 |  0.7058824    |  1.529412     | \n",
       "| 4             |  1.699993     |   4024.1102   |    4272.6656  |    -4365.7788 |  2.9109211    |  2.128792     | \n",
       "| 5             |  1.758407     |    432.1163   |   18568.1141  |   -16724.0641 | 87.1794872    | 61.205128     | \n",
       "\n",
       "\n"
      ],
      "text/plain": [
       "  cluster AverageCashedOut AverageBet  TotalProfit  TotalLosses   GamesWon  \n",
       "1 1        1.915776          1633.2292   19362.9909   -19205.1165 27.0606796\n",
       "2 2        2.470024        298945.6618 1198191.1631 -1056062.1875 10.5625000\n",
       "3 3       27.448235          1278.2574     619.4041     -581.2941  0.7058824\n",
       "4 4        1.699993          4024.1102    4272.6656    -4365.7788  2.9109211\n",
       "5 5        1.758407           432.1163   18568.1141   -16724.0641 87.1794872\n",
       "  GamesLost\n",
       "1 21.036408\n",
       "2  8.062500\n",
       "3  1.529412\n",
       "4  2.128792\n",
       "5 61.205128"
      ]
     },
     "metadata": {
      "tags": []
     },
     "output_type": "display_data"
    }
   ],
   "source": [
    "# Group by the cluster assignment and calculate averages\n",
    "bustabit_clus_avg <- bustabit_clus %>%\n",
    "    group_by(cluster) %>%\n",
    "    summarize_if(funs(is.numeric), mean)\n",
    "\n",
    "# View the resulting table\n",
    "bustabit_clus_avg"
   ]
  },
  {
   "cell_type": "markdown",
   "metadata": {
    "colab_type": "text",
    "dc": {
     "key": "53"
    },
    "deletable": false,
    "editable": false,
    "id": "gkgqvgPEFjS5",
    "run_control": {
     "frozen": true
    },
    "tags": [
     "context"
    ]
   },
   "source": [
    "## 8. Visualize the clusters with Principal Components\n",
    "<p>One issue with plots like the previous is that they get more unwieldy as we continue to add variables. One way to solve this is to use the Principal Components of a dataset in order to reduce the dimensionality to aid in visualization. Essentially, this is a two-stage process:</p>\n",
    "<ol>\n",
    "<li>We extract the principal components in order to reduce the dimensionality of the dataset so that we can produce a scatterplot in two dimensions that captures the underlying structure of the higher-dimensional data.</li>\n",
    "<li>We then produce a scatterplot of each observation (in this case, each player) across the two Principal Components and color according to their cluster assignment in order to visualize the separation of the clusters.</li>\n",
    "</ol>\n",
    "<p>This plot provides interesting information in terms of the similarity of any two players. In fact, you will see that players who fall close to the boundaries of clusters might be the ones that exhibit the gambling behavior of a couple of different clusters. After you produce your plot, try to determine which clusters seem to be the most \"different.\" Also, try playing around with different projections of the data, such as PC3 vs. PC2, or PC3 vs. PC1, to see if you can find one that better differentiates the groups.</p>"
   ]
  },
  {
   "cell_type": "code",
   "execution_count": 0,
   "metadata": {
    "colab": {},
    "colab_type": "code",
    "dc": {
     "key": "53"
    },
    "id": "_njg5-IkFjS8",
    "outputId": "20283afa-9f1b-4583-ac3f-c6039f5b8aef",
    "tags": [
     "sample_code"
    ]
   },
   "outputs": [
    {
     "data": {},
     "metadata": {
      "tags": []
     },
     "output_type": "display_data"
    },
    {
     "data": {
      "image/png": "[encoded data removed]",
      "text/plain": [
       "plot without title"
      ]
     },
     "metadata": {
      "tags": []
     },
     "output_type": "display_data"
    }
   ],
   "source": [
    "# Calculate the principal components of the standardized data\n",
    "my_pc <- bustabit_standardized %>%\n",
    "            select(-Username) %>%\n",
    "                prcomp()\n",
    "my_pc <- as.data.frame(my_pc$x)\n",
    "\n",
    "# Store the cluster assignments in the new data frame\n",
    "my_pc$cluster <- bustabit_clus$cluster\n",
    "\n",
    "# Use ggplot() to plot PC2 vs PC1, and color by the cluster assignment\n",
    "p1 <- ggplot(my_pc, aes(x=PC1, y=PC2, color=cluster))+\n",
    "         geom_point()\n",
    "\n",
    "# View the resulting plot\n",
    "p1"
   ]
  },
  {
   "cell_type": "markdown",
   "metadata": {
    "colab_type": "text",
    "dc": {
     "key": "60"
    },
    "deletable": false,
    "editable": false,
    "id": "DjsAbFvOFjTC",
    "run_control": {
     "frozen": true
    },
    "tags": [
     "context"
    ]
   },
   "source": [
    "## 9. Analyzing the groups of gamblers our solution uncovered\n",
    "<p>Though most of the statistical and programmatical work has been completed, possibly the most important part of a cluster analysis is to interpret the resulting clusters. This often is the most desired aspect of the analysis by clients, who are hoping to use the results of your analysis to inform better business decision making and actionable items. As a final step, we'll use the parallel coordinate plot and cluster means table to interpret the Bustabit gambling user groups! Roughly speaking, we can breakdown the groups as follows:</p>\n",
    "<p><strong><p style=\"color:#d95f02\">Cautious Commoners:</p></strong> This is the largest of the five clusters, and might be described as the more casual Bustabit players. They've played the fewest number of games overall, and tend to make more conservative bets in general. </p>\n",
    "<p><strong><p style=\"color:#66a61e\">Strategic Addicts:</p></strong> These users play a lot of games on Bustabit, but tend to keep their bets under control. As a result, they've made on average a net positive earnings from the site, in spite of having the most games played. They seem to maintain a strategy (or an automated script/bot) that works to earn them money.</p>\n",
    "<p><strong><p style=\"color:#7570b3\">Risky Commoners:</p></strong> These users seem to be a step above the Cautious Commoners in their Bustabit gambling habits, making larger average bets, and playing a larger number of games on the site. As a result, though they have about the same number of average games won as the Risk Takers, they have a significantly higher number of games lost.</p>\n",
    "<p><strong><p style=\"color:#1b9e77\">Risk Takers: </p></strong> These users have played only a couple games on average, but their average cashed out value is significantly higher than the other clusters, indicating that they tend to wait for the multiplier to increase to large values before cashing out.</p>\n",
    "<p><strong><p style=\"color:#e7298a\">High Rollers:</p></strong> High bets are the name of the game for this group. They bet large sums of money in each game, although they tend to cash out at lower multipliers and thus play the game more conservatively, particularly compared to the Risk Takers. Interestingly, these users have also on average earned a net positive earnings from their games played.</p>"
   ]
  },
  {
   "cell_type": "code",
   "execution_count": 0,
   "metadata": {
    "colab": {},
    "colab_type": "code",
    "dc": {
     "key": "60"
    },
    "id": "Lf_aV1egFjTD",
    "outputId": "a62b54d2-dffe-4b76-c31d-6b2879b32d86",
    "tags": [
     "sample_code"
    ]
   },
   "outputs": [
    {
     "data": {
      "text/html": [
       "<table>\n",
       "<thead><tr><th scope=col>cluster</th><th scope=col>AverageCashedOut</th><th scope=col>AverageBet</th><th scope=col>TotalProfit</th><th scope=col>TotalLosses</th><th scope=col>GamesWon</th><th scope=col>GamesLost</th><th scope=col>Name</th></tr></thead>\n",
       "<tbody>\n",
       "\t<tr><td>1                 </td><td> 1.915776         </td><td>  1633.2292       </td><td>  19362.9909      </td><td>  -19205.1165     </td><td>27.0606796        </td><td>21.036408         </td><td>Risky Commoners   </td></tr>\n",
       "\t<tr><td>2                 </td><td> 2.470024         </td><td>298945.6618       </td><td>1198191.1631      </td><td>-1056062.1875     </td><td>10.5625000        </td><td> 8.062500         </td><td>High Rollers      </td></tr>\n",
       "\t<tr><td>3                 </td><td>27.448235         </td><td>  1278.2574       </td><td>    619.4041      </td><td>    -581.2941     </td><td> 0.7058824        </td><td> 1.529412         </td><td>Risk Takers       </td></tr>\n",
       "\t<tr><td>4                 </td><td> 1.699993         </td><td>  4024.1102       </td><td>   4272.6656      </td><td>   -4365.7788     </td><td> 2.9109211        </td><td> 2.128792         </td><td>Cautious Commoners</td></tr>\n",
       "\t<tr><td>5                 </td><td> 1.758407         </td><td>   432.1163       </td><td>  18568.1141      </td><td>  -16724.0641     </td><td>87.1794872        </td><td>61.205128         </td><td>Strategic Addicts </td></tr>\n",
       "</tbody>\n",
       "</table>\n"
      ],
      "text/latex": [
       "\\begin{tabular}{r|llllllll}\n",
       " cluster & AverageCashedOut & AverageBet & TotalProfit & TotalLosses & GamesWon & GamesLost & Name\\\\\n",
       "\\hline\n",
       "\t 1                  &  1.915776          &   1633.2292        &   19362.9909       &   -19205.1165      & 27.0606796         & 21.036408          & Risky Commoners   \\\\\n",
       "\t 2                  &  2.470024          & 298945.6618        & 1198191.1631       & -1056062.1875      & 10.5625000         &  8.062500          & High Rollers      \\\\\n",
       "\t 3                  & 27.448235          &   1278.2574        &     619.4041       &     -581.2941      &  0.7058824         &  1.529412          & Risk Takers       \\\\\n",
       "\t 4                  &  1.699993          &   4024.1102        &    4272.6656       &    -4365.7788      &  2.9109211         &  2.128792          & Cautious Commoners\\\\\n",
       "\t 5                  &  1.758407          &    432.1163        &   18568.1141       &   -16724.0641      & 87.1794872         & 61.205128          & Strategic Addicts \\\\\n",
       "\\end{tabular}\n"
      ],
      "text/markdown": [
       "\n",
       "cluster | AverageCashedOut | AverageBet | TotalProfit | TotalLosses | GamesWon | GamesLost | Name | \n",
       "|---|---|---|---|---|\n",
       "| 1                  |  1.915776          |   1633.2292        |   19362.9909       |   -19205.1165      | 27.0606796         | 21.036408          | Risky Commoners    | \n",
       "| 2                  |  2.470024          | 298945.6618        | 1198191.1631       | -1056062.1875      | 10.5625000         |  8.062500          | High Rollers       | \n",
       "| 3                  | 27.448235          |   1278.2574        |     619.4041       |     -581.2941      |  0.7058824         |  1.529412          | Risk Takers        | \n",
       "| 4                  |  1.699993          |   4024.1102        |    4272.6656       |    -4365.7788      |  2.9109211         |  2.128792          | Cautious Commoners | \n",
       "| 5                  |  1.758407          |    432.1163        |   18568.1141       |   -16724.0641      | 87.1794872         | 61.205128          | Strategic Addicts  | \n",
       "\n",
       "\n"
      ],
      "text/plain": [
       "  cluster AverageCashedOut AverageBet  TotalProfit  TotalLosses   GamesWon  \n",
       "1 1        1.915776          1633.2292   19362.9909   -19205.1165 27.0606796\n",
       "2 2        2.470024        298945.6618 1198191.1631 -1056062.1875 10.5625000\n",
       "3 3       27.448235          1278.2574     619.4041     -581.2941  0.7058824\n",
       "4 4        1.699993          4024.1102    4272.6656    -4365.7788  2.9109211\n",
       "5 5        1.758407           432.1163   18568.1141   -16724.0641 87.1794872\n",
       "  GamesLost Name              \n",
       "1 21.036408 Risky Commoners   \n",
       "2  8.062500 High Rollers      \n",
       "3  1.529412 Risk Takers       \n",
       "4  2.128792 Cautious Commoners\n",
       "5 61.205128 Strategic Addicts "
      ]
     },
     "metadata": {
      "tags": []
     },
     "output_type": "display_data"
    }
   ],
   "source": [
    "# Assign cluster names to clusters 1 through 5 in order\n",
    "cluster_names <- c(\n",
    "    \"Risky Commoners\",\n",
    "    \"High Rollers\",\n",
    "    \"Risk Takers\",\n",
    "    \"Cautious Commoners\",\n",
    "    \"Strategic Addicts\"\n",
    ")\n",
    "\n",
    "# Append the cluster names to the cluster means table\n",
    "bustabit_clus_avg_named <- bustabit_clus_avg %>%\n",
    "    cbind(Name = cluster_names)\n",
    "\n",
    "# View the cluster means table with your appended cluster names\n",
    "bustabit_clus_avg_named"
   ]
  }
 ],
 "metadata": {
  "colab": {
   "name": "Copy of notebook.ipynb",
   "provenance": []
  },
  "kernelspec": {
   "display_name": "R",
   "language": "R",
   "name": "ir"
  },
  "language_info": {
   "codemirror_mode": "r",
   "file_extension": ".r",
   "mimetype": "text/x-r-source",
   "name": "R",
   "pygments_lexer": "r",
   "version": "3.6.1"
  }
 },
 "nbformat": 4,
 "nbformat_minor": 1
}
