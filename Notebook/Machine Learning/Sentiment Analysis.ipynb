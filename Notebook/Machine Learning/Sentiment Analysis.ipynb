{
 "cells": [
  {
   "cell_type": "code",
   "execution_count": 1,
   "metadata": {},
   "outputs": [
    {
     "name": "stderr",
     "output_type": "stream",
     "text": [
      "Warning message:\n",
      "\"package 'qdap' was built under R version 3.6.2\"Loading required package: qdapDictionaries\n",
      "Loading required package: qdapRegex\n",
      "Warning message:\n",
      "\"package 'qdapRegex' was built under R version 3.6.2\"Loading required package: qdapTools\n",
      "Warning message:\n",
      "\"package 'qdapTools' was built under R version 3.6.2\"Loading required package: RColorBrewer\n",
      "Registered S3 methods overwritten by 'qdap':\n",
      "  method               from\n",
      "  t.DocumentTermMatrix tm  \n",
      "  t.TermDocumentMatrix tm  \n",
      "\n",
      "Attaching package: 'qdap'\n",
      "\n",
      "The following object is masked from 'package:base':\n",
      "\n",
      "    Filter\n",
      "\n",
      "Warning message:\n",
      "\"package 'tidytext' was built under R version 3.6.2\"\n",
      "Attaching package: 'tidyr'\n",
      "\n",
      "The following object is masked from 'package:qdap':\n",
      "\n",
      "    %>%\n",
      "\n",
      "\n",
      "Attaching package: 'dplyr'\n",
      "\n",
      "The following object is masked from 'package:qdap':\n",
      "\n",
      "    %>%\n",
      "\n",
      "The following object is masked from 'package:qdapTools':\n",
      "\n",
      "    id\n",
      "\n",
      "The following object is masked from 'package:qdapRegex':\n",
      "\n",
      "    explain\n",
      "\n",
      "The following objects are masked from 'package:stats':\n",
      "\n",
      "    filter, lag\n",
      "\n",
      "The following objects are masked from 'package:base':\n",
      "\n",
      "    intersect, setdiff, setequal, union\n",
      "\n"
     ]
    }
   ],
   "source": [
    "#install.packages(\"qdap\")\n",
    "library(\"qdap\")\n",
    "#install.packages(\"tidytext\")\n",
    "library(tidytext)\n",
    "#install.packages(\"tidyr\")\n",
    "library(\"tidyr\")\n",
    "#install.packages(\"dplyr\")\n",
    "library(dplyr)"
   ]
  },
  {
   "cell_type": "code",
   "execution_count": 2,
   "metadata": {},
   "outputs": [
    {
     "name": "stderr",
     "output_type": "stream",
     "text": [
      "Warning message in gzfile(file, \"rb\"):\n",
      "\"cannot open compressed file 'bos_reviews.rds', probable reason 'No such file or directory'\""
     ]
    },
    {
     "ename": "ERROR",
     "evalue": "Error in gzfile(file, \"rb\"): cannot open the connection\n",
     "output_type": "error",
     "traceback": [
      "Error in gzfile(file, \"rb\"): cannot open the connection\nTraceback:\n",
      "1. readRDS(\"bos_reviews.rds\")",
      "2. gzfile(file, \"rb\")"
     ]
    }
   ],
   "source": [
    "bos_reviews<-readRDS(\"bos_reviews.rds\")\n",
    "head(bos_reviews)"
   ]
  },
  {
   "cell_type": "code",
   "execution_count": null,
   "metadata": {},
   "outputs": [],
   "source": [
    "dim(bos_reviews)"
   ]
  },
  {
   "cell_type": "code",
   "execution_count": null,
   "metadata": {},
   "outputs": [],
   "source": [
    "# Apply polarity to first 5 reviews\n",
    "practice_pol <- polarity(bos_reviews$comments[1:5])\n",
    "\n",
    "# Review the object\n",
    "practice_pol$all"
   ]
  },
  {
   "cell_type": "code",
   "execution_count": null,
   "metadata": {},
   "outputs": [],
   "source": [
    "tidy_reviews <- bos_reviews %>% unnest_tokens(word, comments)\n",
    "tidy_reviews"
   ]
  },
  {
   "cell_type": "code",
   "execution_count": 26,
   "metadata": {},
   "outputs": [
    {
     "data": {
      "text/html": [
       "<table>\n",
       "<thead><tr><th scope=col>id</th><th scope=col>word</th><th scope=col>original_word_order</th></tr></thead>\n",
       "<tbody>\n",
       "\t<tr><td>1       </td><td>my      </td><td>1       </td></tr>\n",
       "\t<tr><td>1       </td><td>daughter</td><td>2       </td></tr>\n",
       "\t<tr><td>1       </td><td>and     </td><td>3       </td></tr>\n",
       "\t<tr><td>1       </td><td>i       </td><td>4       </td></tr>\n",
       "\t<tr><td>1       </td><td>had     </td><td>5       </td></tr>\n",
       "\t<tr><td>1       </td><td>a       </td><td>6       </td></tr>\n",
       "</tbody>\n",
       "</table>\n"
      ],
      "text/latex": [
       "\\begin{tabular}{r|lll}\n",
       " id & word & original\\_word\\_order\\\\\n",
       "\\hline\n",
       "\t 1        & my       & 1       \\\\\n",
       "\t 1        & daughter & 2       \\\\\n",
       "\t 1        & and      & 3       \\\\\n",
       "\t 1        & i        & 4       \\\\\n",
       "\t 1        & had      & 5       \\\\\n",
       "\t 1        & a        & 6       \\\\\n",
       "\\end{tabular}\n"
      ],
      "text/markdown": [
       "\n",
       "| id | word | original_word_order |\n",
       "|---|---|---|\n",
       "| 1        | my       | 1        |\n",
       "| 1        | daughter | 2        |\n",
       "| 1        | and      | 3        |\n",
       "| 1        | i        | 4        |\n",
       "| 1        | had      | 5        |\n",
       "| 1        | a        | 6        |\n",
       "\n"
      ],
      "text/plain": [
       "  id word     original_word_order\n",
       "1 1  my       1                  \n",
       "2 1  daughter 2                  \n",
       "3 1  and      3                  \n",
       "4 1  i        4                  \n",
       "5 1  had      5                  \n",
       "6 1  a        6                  "
      ]
     },
     "metadata": {},
     "output_type": "display_data"
    }
   ],
   "source": [
    "\n",
    "tidy_reviews <- tidy_reviews %>% group_by(id) %>% mutate(original_word_order = seq_along(word))  \n",
    "head(tidy_reviews)"
   ]
  },
  {
   "cell_type": "code",
   "execution_count": 22,
   "metadata": {},
   "outputs": [],
   "source": [
    "data(\"stop_words\")"
   ]
  },
  {
   "cell_type": "code",
   "execution_count": 24,
   "metadata": {},
   "outputs": [
    {
     "name": "stderr",
     "output_type": "stream",
     "text": [
      "Joining, by = \"word\""
     ]
    }
   ],
   "source": [
    "tidy_reviews_without_stopwords <- tidy_reviews %>% anti_join(stop_words) "
   ]
  },
  {
   "cell_type": "code",
   "execution_count": 25,
   "metadata": {},
   "outputs": [
    {
     "data": {
      "text/html": [
       "<table>\n",
       "<thead><tr><th scope=col>id</th><th scope=col>word</th><th scope=col>original_word_order</th></tr></thead>\n",
       "<tbody>\n",
       "\t<tr><td>1        </td><td>daughter </td><td> 2       </td></tr>\n",
       "\t<tr><td>1        </td><td>wonderful</td><td> 7       </td></tr>\n",
       "\t<tr><td>1        </td><td>stay     </td><td> 8       </td></tr>\n",
       "\t<tr><td>1        </td><td>maura    </td><td>10       </td></tr>\n",
       "\t<tr><td>1        </td><td>close    </td><td>14       </td></tr>\n",
       "\t<tr><td>1        </td><td>touch    </td><td>15       </td></tr>\n",
       "</tbody>\n",
       "</table>\n"
      ],
      "text/latex": [
       "\\begin{tabular}{r|lll}\n",
       " id & word & original\\_word\\_order\\\\\n",
       "\\hline\n",
       "\t 1         & daughter  &  2       \\\\\n",
       "\t 1         & wonderful &  7       \\\\\n",
       "\t 1         & stay      &  8       \\\\\n",
       "\t 1         & maura     & 10       \\\\\n",
       "\t 1         & close     & 14       \\\\\n",
       "\t 1         & touch     & 15       \\\\\n",
       "\\end{tabular}\n"
      ],
      "text/markdown": [
       "\n",
       "| id | word | original_word_order |\n",
       "|---|---|---|\n",
       "| 1         | daughter  |  2        |\n",
       "| 1         | wonderful |  7        |\n",
       "| 1         | stay      |  8        |\n",
       "| 1         | maura     | 10        |\n",
       "| 1         | close     | 14        |\n",
       "| 1         | touch     | 15        |\n",
       "\n"
      ],
      "text/plain": [
       "  id word      original_word_order\n",
       "1 1  daughter   2                 \n",
       "2 1  wonderful  7                 \n",
       "3 1  stay       8                 \n",
       "4 1  maura     10                 \n",
       "5 1  close     14                 \n",
       "6 1  touch     15                 "
      ]
     },
     "metadata": {},
     "output_type": "display_data"
    }
   ],
   "source": [
    "head(tidy_reviews_without_stopwords)"
   ]
  },
  {
   "cell_type": "code",
   "execution_count": 27,
   "metadata": {},
   "outputs": [],
   "source": [
    "bing <- get_sentiments(lexicon = \"bing\")"
   ]
  },
  {
   "cell_type": "code",
   "execution_count": 28,
   "metadata": {},
   "outputs": [
    {
     "name": "stderr",
     "output_type": "stream",
     "text": [
      "Joining, by = \"word\""
     ]
    }
   ],
   "source": [
    "pos_neg <- tidy_reviews_without_stopwords %>% inner_join(bing) %>% count(sentiment) %>% spread(sentiment, n, fill = 0) %>% mutate(polarity = positive - negative)"
   ]
  },
  {
   "cell_type": "code",
   "execution_count": 32,
   "metadata": {},
   "outputs": [
    {
     "name": "stderr",
     "output_type": "stream",
     "text": [
      "Joining, by = \"word\""
     ]
    },
    {
     "data": {
      "text/html": [
       "<table>\n",
       "<thead><tr><th scope=col>id</th><th scope=col>word</th><th scope=col>original_word_order</th><th scope=col>sentiment</th></tr></thead>\n",
       "<tbody>\n",
       "\t<tr><td>1        </td><td>wonderful</td><td> 7       </td><td>positive </td></tr>\n",
       "\t<tr><td>1        </td><td>charming </td><td>33       </td><td>positive </td></tr>\n",
       "\t<tr><td>1        </td><td>warm     </td><td>40       </td><td>positive </td></tr>\n",
       "\t<tr><td>1        </td><td>nice     </td><td>56       </td><td>positive </td></tr>\n",
       "\t<tr><td>2        </td><td>lovely   </td><td>21       </td><td>positive </td></tr>\n",
       "\t<tr><td>2        </td><td>nice     </td><td>47       </td><td>positive </td></tr>\n",
       "</tbody>\n",
       "</table>\n"
      ],
      "text/latex": [
       "\\begin{tabular}{r|llll}\n",
       " id & word & original\\_word\\_order & sentiment\\\\\n",
       "\\hline\n",
       "\t 1         & wonderful &  7        & positive \\\\\n",
       "\t 1         & charming  & 33        & positive \\\\\n",
       "\t 1         & warm      & 40        & positive \\\\\n",
       "\t 1         & nice      & 56        & positive \\\\\n",
       "\t 2         & lovely    & 21        & positive \\\\\n",
       "\t 2         & nice      & 47        & positive \\\\\n",
       "\\end{tabular}\n"
      ],
      "text/markdown": [
       "\n",
       "| id | word | original_word_order | sentiment |\n",
       "|---|---|---|---|\n",
       "| 1         | wonderful |  7        | positive  |\n",
       "| 1         | charming  | 33        | positive  |\n",
       "| 1         | warm      | 40        | positive  |\n",
       "| 1         | nice      | 56        | positive  |\n",
       "| 2         | lovely    | 21        | positive  |\n",
       "| 2         | nice      | 47        | positive  |\n",
       "\n"
      ],
      "text/plain": [
       "  id word      original_word_order sentiment\n",
       "1 1  wonderful  7                  positive \n",
       "2 1  charming  33                  positive \n",
       "3 1  warm      40                  positive \n",
       "4 1  nice      56                  positive \n",
       "5 2  lovely    21                  positive \n",
       "6 2  nice      47                  positive "
      ]
     },
     "metadata": {},
     "output_type": "display_data"
    }
   ],
   "source": [
    "head(tidy_reviews_without_stopwords %>% inner_join(bing))"
   ]
  },
  {
   "cell_type": "code",
   "execution_count": 33,
   "metadata": {},
   "outputs": [
    {
     "name": "stderr",
     "output_type": "stream",
     "text": [
      "Joining, by = \"word\""
     ]
    },
    {
     "data": {
      "text/html": [
       "<table>\n",
       "<thead><tr><th scope=col>id</th><th scope=col>sentiment</th><th scope=col>n</th></tr></thead>\n",
       "<tbody>\n",
       "\t<tr><td>1       </td><td>positive</td><td>4       </td></tr>\n",
       "\t<tr><td>2       </td><td>positive</td><td>3       </td></tr>\n",
       "\t<tr><td>3       </td><td>positive</td><td>3       </td></tr>\n",
       "\t<tr><td>4       </td><td>positive</td><td>6       </td></tr>\n",
       "\t<tr><td>5       </td><td>positive</td><td>2       </td></tr>\n",
       "\t<tr><td>6       </td><td>positive</td><td>3       </td></tr>\n",
       "</tbody>\n",
       "</table>\n"
      ],
      "text/latex": [
       "\\begin{tabular}{r|lll}\n",
       " id & sentiment & n\\\\\n",
       "\\hline\n",
       "\t 1        & positive & 4       \\\\\n",
       "\t 2        & positive & 3       \\\\\n",
       "\t 3        & positive & 3       \\\\\n",
       "\t 4        & positive & 6       \\\\\n",
       "\t 5        & positive & 2       \\\\\n",
       "\t 6        & positive & 3       \\\\\n",
       "\\end{tabular}\n"
      ],
      "text/markdown": [
       "\n",
       "| id | sentiment | n |\n",
       "|---|---|---|\n",
       "| 1        | positive | 4        |\n",
       "| 2        | positive | 3        |\n",
       "| 3        | positive | 3        |\n",
       "| 4        | positive | 6        |\n",
       "| 5        | positive | 2        |\n",
       "| 6        | positive | 3        |\n",
       "\n"
      ],
      "text/plain": [
       "  id sentiment n\n",
       "1 1  positive  4\n",
       "2 2  positive  3\n",
       "3 3  positive  3\n",
       "4 4  positive  6\n",
       "5 5  positive  2\n",
       "6 6  positive  3"
      ]
     },
     "metadata": {},
     "output_type": "display_data"
    }
   ],
   "source": [
    "head(tidy_reviews_without_stopwords %>% inner_join(bing) %>% count(sentiment))"
   ]
  },
  {
   "cell_type": "code",
   "execution_count": 34,
   "metadata": {},
   "outputs": [
    {
     "name": "stderr",
     "output_type": "stream",
     "text": [
      "Joining, by = \"word\""
     ]
    },
    {
     "data": {
      "text/html": [
       "<table>\n",
       "<thead><tr><th scope=col>id</th><th scope=col>negative</th><th scope=col>positive</th></tr></thead>\n",
       "<tbody>\n",
       "\t<tr><td>1</td><td>0</td><td>4</td></tr>\n",
       "\t<tr><td>2</td><td>0</td><td>3</td></tr>\n",
       "\t<tr><td>3</td><td>0</td><td>3</td></tr>\n",
       "\t<tr><td>4</td><td>0</td><td>6</td></tr>\n",
       "\t<tr><td>5</td><td>0</td><td>2</td></tr>\n",
       "\t<tr><td>6</td><td>0</td><td>3</td></tr>\n",
       "</tbody>\n",
       "</table>\n"
      ],
      "text/latex": [
       "\\begin{tabular}{r|lll}\n",
       " id & negative & positive\\\\\n",
       "\\hline\n",
       "\t 1 & 0 & 4\\\\\n",
       "\t 2 & 0 & 3\\\\\n",
       "\t 3 & 0 & 3\\\\\n",
       "\t 4 & 0 & 6\\\\\n",
       "\t 5 & 0 & 2\\\\\n",
       "\t 6 & 0 & 3\\\\\n",
       "\\end{tabular}\n"
      ],
      "text/markdown": [
       "\n",
       "| id | negative | positive |\n",
       "|---|---|---|\n",
       "| 1 | 0 | 4 |\n",
       "| 2 | 0 | 3 |\n",
       "| 3 | 0 | 3 |\n",
       "| 4 | 0 | 6 |\n",
       "| 5 | 0 | 2 |\n",
       "| 6 | 0 | 3 |\n",
       "\n"
      ],
      "text/plain": [
       "  id negative positive\n",
       "1 1  0        4       \n",
       "2 2  0        3       \n",
       "3 3  0        3       \n",
       "4 4  0        6       \n",
       "5 5  0        2       \n",
       "6 6  0        3       "
      ]
     },
     "metadata": {},
     "output_type": "display_data"
    }
   ],
   "source": [
    "head(tidy_reviews_without_stopwords %>% inner_join(bing) %>% count(sentiment) %>% spread(sentiment, n, fill = 0))"
   ]
  },
  {
   "cell_type": "code",
   "execution_count": 35,
   "metadata": {},
   "outputs": [
    {
     "name": "stderr",
     "output_type": "stream",
     "text": [
      "Joining, by = \"word\""
     ]
    },
    {
     "data": {
      "text/html": [
       "<table>\n",
       "<thead><tr><th scope=col>id</th><th scope=col>negative</th><th scope=col>positive</th><th scope=col>polarity</th></tr></thead>\n",
       "<tbody>\n",
       "\t<tr><td>1</td><td>0</td><td>4</td><td>4</td></tr>\n",
       "\t<tr><td>2</td><td>0</td><td>3</td><td>3</td></tr>\n",
       "\t<tr><td>3</td><td>0</td><td>3</td><td>3</td></tr>\n",
       "\t<tr><td>4</td><td>0</td><td>6</td><td>6</td></tr>\n",
       "\t<tr><td>5</td><td>0</td><td>2</td><td>2</td></tr>\n",
       "\t<tr><td>6</td><td>0</td><td>3</td><td>3</td></tr>\n",
       "</tbody>\n",
       "</table>\n"
      ],
      "text/latex": [
       "\\begin{tabular}{r|llll}\n",
       " id & negative & positive & polarity\\\\\n",
       "\\hline\n",
       "\t 1 & 0 & 4 & 4\\\\\n",
       "\t 2 & 0 & 3 & 3\\\\\n",
       "\t 3 & 0 & 3 & 3\\\\\n",
       "\t 4 & 0 & 6 & 6\\\\\n",
       "\t 5 & 0 & 2 & 2\\\\\n",
       "\t 6 & 0 & 3 & 3\\\\\n",
       "\\end{tabular}\n"
      ],
      "text/markdown": [
       "\n",
       "| id | negative | positive | polarity |\n",
       "|---|---|---|---|\n",
       "| 1 | 0 | 4 | 4 |\n",
       "| 2 | 0 | 3 | 3 |\n",
       "| 3 | 0 | 3 | 3 |\n",
       "| 4 | 0 | 6 | 6 |\n",
       "| 5 | 0 | 2 | 2 |\n",
       "| 6 | 0 | 3 | 3 |\n",
       "\n"
      ],
      "text/plain": [
       "  id negative positive polarity\n",
       "1 1  0        4        4       \n",
       "2 2  0        3        3       \n",
       "3 3  0        3        3       \n",
       "4 4  0        6        6       \n",
       "5 5  0        2        2       \n",
       "6 6  0        3        3       "
      ]
     },
     "metadata": {},
     "output_type": "display_data"
    }
   ],
   "source": [
    "head(tidy_reviews_without_stopwords %>% inner_join(bing) %>% count(sentiment) %>% spread(sentiment, n, fill = 0) %>% mutate(polarity = positive - negative))"
   ]
  }
 ],
 "metadata": {
  "kernelspec": {
   "display_name": "R",
   "language": "R",
   "name": "ir"
  },
  "language_info": {
   "codemirror_mode": "r",
   "file_extension": ".r",
   "mimetype": "text/x-r-source",
   "name": "R",
   "pygments_lexer": "r",
   "version": "3.6.1"
  }
 },
 "nbformat": 4,
 "nbformat_minor": 2
}
