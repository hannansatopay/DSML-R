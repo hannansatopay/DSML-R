{
 "cells": [
  {
   "cell_type": "markdown",
   "metadata": {},
   "source": [
    "P-value = statistical significance "
   ]
  },
  {
   "cell_type": "markdown",
   "metadata": {},
   "source": [
    "Suppose a friend has 8 children, 7 of which are girls are none are twins. If each gender has an independent 50% probability for each birth, what's the probability of getting 7 or more girls out of 8 births?"
   ]
  },
  {
   "cell_type": "code",
   "execution_count": 13,
   "metadata": {},
   "outputs": [
    {
     "data": {
      "text/html": [
       "0.03515625"
      ],
      "text/latex": [
       "0.03515625"
      ],
      "text/markdown": [
       "0.03515625"
      ],
      "text/plain": [
       "[1] 0.03515625"
      ]
     },
     "metadata": {},
     "output_type": "display_data"
    }
   ],
   "source": [
    "pbinom(6, size = 8, prob = 0.5, lower.tail = FALSE)"
   ]
  },
  {
   "cell_type": "markdown",
   "metadata": {},
   "source": [
    "Suppose that a hospital has an infection rate of 10 infections per 100 person/day at risk rate of 0.1 during the last monitoring period. Assume that an infection rate of 0.05 is an important benchmark. Given a poisson model, could the observed rate being larger than 0.05 be attributed to chance?"
   ]
  },
  {
   "cell_type": "code",
   "execution_count": 28,
   "metadata": {
    "scrolled": true
   },
   "outputs": [
    {
     "data": {
      "text/html": [
       "0.0318280573062048"
      ],
      "text/latex": [
       "0.0318280573062048"
      ],
      "text/markdown": [
       "0.0318280573062048"
      ],
      "text/plain": [
       "[1] 0.03182806"
      ]
     },
     "metadata": {},
     "output_type": "display_data"
    }
   ],
   "source": [
    "ppois(9, 5, lower.tail = FALSE)"
   ]
  },
  {
   "cell_type": "code",
   "execution_count": 29,
   "metadata": {},
   "outputs": [
    {
     "data": {
      "text/html": [
       "0.237816537027061"
      ],
      "text/latex": [
       "0.237816537027061"
      ],
      "text/markdown": [
       "0.237816537027061"
      ],
      "text/plain": [
       "[1] 0.2378165"
      ]
     },
     "metadata": {},
     "output_type": "display_data"
    }
   ],
   "source": [
    "ppois(6, 5, lower.tail = FALSE)"
   ]
  }
 ],
 "metadata": {
  "kernelspec": {
   "display_name": "R",
   "language": "R",
   "name": "ir"
  },
  "language_info": {
   "codemirror_mode": "r",
   "file_extension": ".r",
   "mimetype": "text/x-r-source",
   "name": "R",
   "pygments_lexer": "r",
   "version": "3.6.1"
  }
 },
 "nbformat": 4,
 "nbformat_minor": 2
}
