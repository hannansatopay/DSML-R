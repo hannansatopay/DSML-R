{
 "cells": [
  {
   "cell_type": "markdown",
   "metadata": {},
   "source": [
    "Suppose a friend has 8 children, 7 of which are girls are none are twins. If each gender has an independent 50% probability for each birth, what's the probability of getting 7 or more girls out of 8 births?"
   ]
  },
  {
   "cell_type": "code",
   "execution_count": 13,
   "metadata": {},
   "outputs": [
    {
     "data": {
      "text/html": [
       "0.03515625"
      ],
      "text/latex": [
       "0.03515625"
      ],
      "text/markdown": [
       "0.03515625"
      ],
      "text/plain": [
       "[1] 0.03515625"
      ]
     },
     "metadata": {},
     "output_type": "display_data"
    }
   ],
   "source": [
    "choose(8,7) * 0.5^7 * 0.5 + choose(8,8) * 0.5^8 * 1"
   ]
  },
  {
   "cell_type": "code",
   "execution_count": 14,
   "metadata": {},
   "outputs": [
    {
     "data": {
      "text/html": [
       "0.03515625"
      ],
      "text/latex": [
       "0.03515625"
      ],
      "text/markdown": [
       "0.03515625"
      ],
      "text/plain": [
       "[1] 0.03515625"
      ]
     },
     "metadata": {},
     "output_type": "display_data"
    }
   ],
   "source": [
    "pbinom(6, size = 8, prob = 0.5, lower.tail = FALSE)"
   ]
  },
  {
   "cell_type": "markdown",
   "metadata": {},
   "source": [
    "Assume that the number of daily ad clicks for a company is (approx) normally distributed with mean of 1020 and a standard deviation of 50. What's the probability of getting more than 1160 clicks in a day?"
   ]
  },
  {
   "cell_type": "code",
   "execution_count": 22,
   "metadata": {},
   "outputs": [
    {
     "data": {
      "text/html": [
       "0.255513033042793"
      ],
      "text/latex": [
       "0.255513033042793"
      ],
      "text/markdown": [
       "0.255513033042793"
      ],
      "text/plain": [
       "[1] 0.255513"
      ]
     },
     "metadata": {},
     "output_type": "display_data"
    }
   ],
   "source": [
    "pnorm(1160, 1020, 50, lower.tail = FALSE)*100"
   ]
  },
  {
   "cell_type": "markdown",
   "metadata": {},
   "source": [
    "For the above problem statement, what number of daily ad clicks would represent the one where 75% of days have fewer clicks."
   ]
  },
  {
   "cell_type": "code",
   "execution_count": 27,
   "metadata": {},
   "outputs": [
    {
     "data": {
      "text/html": [
       "1053.7244875098"
      ],
      "text/latex": [
       "1053.7244875098"
      ],
      "text/markdown": [
       "1053.7244875098"
      ],
      "text/plain": [
       "[1] 1053.724"
      ]
     },
     "metadata": {},
     "output_type": "display_data"
    }
   ],
   "source": [
    "qnorm(0.75, mean = 1020, sd = 50)"
   ]
  },
  {
   "cell_type": "code",
   "execution_count": 28,
   "metadata": {},
   "outputs": [
    {
     "data": {
      "text/html": [
       "986.275512490196"
      ],
      "text/latex": [
       "986.275512490196"
      ],
      "text/markdown": [
       "986.275512490196"
      ],
      "text/plain": [
       "[1] 986.2755"
      ]
     },
     "metadata": {},
     "output_type": "display_data"
    }
   ],
   "source": [
    "qnorm(0.75, mean = 1020, sd = 50, lower.tail = FALSE)"
   ]
  },
  {
   "cell_type": "markdown",
   "metadata": {},
   "source": [
    "The number of people that shows up at a bus stop is Poisson with a mean of 2.5 per hour. If watching the bus stop for 4 hours, what is the probability that 6 or more people show up for the whole time?"
   ]
  },
  {
   "cell_type": "code",
   "execution_count": 41,
   "metadata": {},
   "outputs": [
    {
     "data": {
      "text/html": [
       "0.869858579117517"
      ],
      "text/latex": [
       "0.869858579117517"
      ],
      "text/markdown": [
       "0.869858579117517"
      ],
      "text/plain": [
       "[1] 0.8698586"
      ]
     },
     "metadata": {},
     "output_type": "display_data"
    }
   ],
   "source": [
    "ppois(6, lambda = 2.5 * 4, lower.tail = FALSE)"
   ]
  }
 ],
 "metadata": {
  "kernelspec": {
   "display_name": "R",
   "language": "R",
   "name": "ir"
  },
  "language_info": {
   "codemirror_mode": "r",
   "file_extension": ".r",
   "mimetype": "text/x-r-source",
   "name": "R",
   "pygments_lexer": "r",
   "version": "3.6.1"
  }
 },
 "nbformat": 4,
 "nbformat_minor": 2
}
