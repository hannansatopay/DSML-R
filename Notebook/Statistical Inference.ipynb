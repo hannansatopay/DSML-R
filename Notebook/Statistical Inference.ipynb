{
 "cells": [
  {
   "cell_type": "markdown",
   "metadata": {},
   "source": [
    "# NUMERICAL SUMMARIES"
   ]
  },
  {
   "cell_type": "code",
   "execution_count": 40,
   "metadata": {},
   "outputs": [],
   "source": [
    "library(dplyr)\n",
    "library(gapminder)\n",
    "library(ggplot2)"
   ]
  },
  {
   "cell_type": "code",
   "execution_count": 41,
   "metadata": {},
   "outputs": [
    {
     "data": {
      "text/html": [
       "<table>\n",
       "<thead><tr><th scope=col>country</th><th scope=col>continent</th><th scope=col>year</th><th scope=col>lifeExp</th><th scope=col>pop</th><th scope=col>gdpPercap</th></tr></thead>\n",
       "<tbody>\n",
       "\t<tr><td>Afghanistan</td><td>Asia       </td><td>1952       </td><td>28.801     </td><td> 8425333   </td><td>779.4453   </td></tr>\n",
       "\t<tr><td>Afghanistan</td><td>Asia       </td><td>1957       </td><td>30.332     </td><td> 9240934   </td><td>820.8530   </td></tr>\n",
       "\t<tr><td>Afghanistan</td><td>Asia       </td><td>1962       </td><td>31.997     </td><td>10267083   </td><td>853.1007   </td></tr>\n",
       "\t<tr><td>Afghanistan</td><td>Asia       </td><td>1967       </td><td>34.020     </td><td>11537966   </td><td>836.1971   </td></tr>\n",
       "\t<tr><td>Afghanistan</td><td>Asia       </td><td>1972       </td><td>36.088     </td><td>13079460   </td><td>739.9811   </td></tr>\n",
       "\t<tr><td>Afghanistan</td><td>Asia       </td><td>1977       </td><td>38.438     </td><td>14880372   </td><td>786.1134   </td></tr>\n",
       "</tbody>\n",
       "</table>\n"
      ],
      "text/latex": [
       "\\begin{tabular}{r|llllll}\n",
       " country & continent & year & lifeExp & pop & gdpPercap\\\\\n",
       "\\hline\n",
       "\t Afghanistan & Asia        & 1952        & 28.801      &  8425333    & 779.4453   \\\\\n",
       "\t Afghanistan & Asia        & 1957        & 30.332      &  9240934    & 820.8530   \\\\\n",
       "\t Afghanistan & Asia        & 1962        & 31.997      & 10267083    & 853.1007   \\\\\n",
       "\t Afghanistan & Asia        & 1967        & 34.020      & 11537966    & 836.1971   \\\\\n",
       "\t Afghanistan & Asia        & 1972        & 36.088      & 13079460    & 739.9811   \\\\\n",
       "\t Afghanistan & Asia        & 1977        & 38.438      & 14880372    & 786.1134   \\\\\n",
       "\\end{tabular}\n"
      ],
      "text/markdown": [
       "\n",
       "| country | continent | year | lifeExp | pop | gdpPercap |\n",
       "|---|---|---|---|---|---|\n",
       "| Afghanistan | Asia        | 1952        | 28.801      |  8425333    | 779.4453    |\n",
       "| Afghanistan | Asia        | 1957        | 30.332      |  9240934    | 820.8530    |\n",
       "| Afghanistan | Asia        | 1962        | 31.997      | 10267083    | 853.1007    |\n",
       "| Afghanistan | Asia        | 1967        | 34.020      | 11537966    | 836.1971    |\n",
       "| Afghanistan | Asia        | 1972        | 36.088      | 13079460    | 739.9811    |\n",
       "| Afghanistan | Asia        | 1977        | 38.438      | 14880372    | 786.1134    |\n",
       "\n"
      ],
      "text/plain": [
       "  country     continent year lifeExp pop      gdpPercap\n",
       "1 Afghanistan Asia      1952 28.801   8425333 779.4453 \n",
       "2 Afghanistan Asia      1957 30.332   9240934 820.8530 \n",
       "3 Afghanistan Asia      1962 31.997  10267083 853.1007 \n",
       "4 Afghanistan Asia      1967 34.020  11537966 836.1971 \n",
       "5 Afghanistan Asia      1972 36.088  13079460 739.9811 \n",
       "6 Afghanistan Asia      1977 38.438  14880372 786.1134 "
      ]
     },
     "metadata": {},
     "output_type": "display_data"
    }
   ],
   "source": [
    "head(gapminder)"
   ]
  },
  {
   "cell_type": "markdown",
   "metadata": {},
   "source": [
    "## MEASURES OF CENTER"
   ]
  },
  {
   "cell_type": "code",
   "execution_count": 42,
   "metadata": {},
   "outputs": [
    {
     "data": {
      "text/html": [
       "<table>\n",
       "<thead><tr><th scope=col>continent</th><th scope=col>mean(lifeExp)</th><th scope=col>median(lifeExp)</th></tr></thead>\n",
       "<tbody>\n",
       "\t<tr><td>Africa  </td><td>54.80604</td><td>52.9265 </td></tr>\n",
       "\t<tr><td>Americas</td><td>73.60812</td><td>72.8990 </td></tr>\n",
       "\t<tr><td>Asia    </td><td>70.72848</td><td>72.3960 </td></tr>\n",
       "\t<tr><td>Europe  </td><td>77.64860</td><td>78.6085 </td></tr>\n",
       "\t<tr><td>Oceania </td><td>80.71950</td><td>80.7195 </td></tr>\n",
       "</tbody>\n",
       "</table>\n"
      ],
      "text/latex": [
       "\\begin{tabular}{r|lll}\n",
       " continent & mean(lifeExp) & median(lifeExp)\\\\\n",
       "\\hline\n",
       "\t Africa   & 54.80604 & 52.9265 \\\\\n",
       "\t Americas & 73.60812 & 72.8990 \\\\\n",
       "\t Asia     & 70.72848 & 72.3960 \\\\\n",
       "\t Europe   & 77.64860 & 78.6085 \\\\\n",
       "\t Oceania  & 80.71950 & 80.7195 \\\\\n",
       "\\end{tabular}\n"
      ],
      "text/markdown": [
       "\n",
       "| continent | mean(lifeExp) | median(lifeExp) |\n",
       "|---|---|---|\n",
       "| Africa   | 54.80604 | 52.9265  |\n",
       "| Americas | 73.60812 | 72.8990  |\n",
       "| Asia     | 70.72848 | 72.3960  |\n",
       "| Europe   | 77.64860 | 78.6085  |\n",
       "| Oceania  | 80.71950 | 80.7195  |\n",
       "\n"
      ],
      "text/plain": [
       "  continent mean(lifeExp) median(lifeExp)\n",
       "1 Africa    54.80604      52.9265        \n",
       "2 Americas  73.60812      72.8990        \n",
       "3 Asia      70.72848      72.3960        \n",
       "4 Europe    77.64860      78.6085        \n",
       "5 Oceania   80.71950      80.7195        "
      ]
     },
     "metadata": {},
     "output_type": "display_data"
    },
    {
     "data": {
      "image/png": "[encoded data removed]",
      "text/plain": [
       "plot without title"
      ]
     },
     "metadata": {},
     "output_type": "display_data"
    }
   ],
   "source": [
    "# Create dataset of 2007 data\n",
    "gap2007 <- filter(gapminder, gapminder$year == 2007)\n",
    "\n",
    "# Compute groupwise mean and median lifeExp\n",
    "gap2007 %>%\n",
    "  group_by(continent) %>%\n",
    "  summarize(mean(lifeExp),\n",
    "            median(lifeExp))\n",
    "\n",
    "# Generate box plots of lifeExp for each continent\n",
    "gap2007 %>%\n",
    "  ggplot(aes(x = continent, y = lifeExp)) +\n",
    "  geom_boxplot()"
   ]
  },
  {
   "cell_type": "markdown",
   "metadata": {},
   "source": [
    "## MEASURES OF VARIABILITY"
   ]
  },
  {
   "cell_type": "code",
   "execution_count": 43,
   "metadata": {},
   "outputs": [
    {
     "data": {
      "text/html": [
       "<table>\n",
       "<thead><tr><th scope=col>continent</th><th scope=col>mean(lifeExp)</th><th scope=col>sd(lifeExp)</th><th scope=col>IQR(lifeExp)</th><th scope=col>n()</th></tr></thead>\n",
       "<tbody>\n",
       "\t<tr><td>Africa   </td><td>54.80604 </td><td>9.6307807</td><td>11.61025 </td><td>52       </td></tr>\n",
       "\t<tr><td>Americas </td><td>73.60812 </td><td>4.4409476</td><td> 4.63200 </td><td>25       </td></tr>\n",
       "\t<tr><td>Asia     </td><td>70.72848 </td><td>7.9637245</td><td>10.15200 </td><td>33       </td></tr>\n",
       "\t<tr><td>Europe   </td><td>77.64860 </td><td>2.9798127</td><td> 4.78250 </td><td>30       </td></tr>\n",
       "\t<tr><td>Oceania  </td><td>80.71950 </td><td>0.7290271</td><td> 0.51550 </td><td> 2       </td></tr>\n",
       "</tbody>\n",
       "</table>\n"
      ],
      "text/latex": [
       "\\begin{tabular}{r|lllll}\n",
       " continent & mean(lifeExp) & sd(lifeExp) & IQR(lifeExp) & n()\\\\\n",
       "\\hline\n",
       "\t Africa    & 54.80604  & 9.6307807 & 11.61025  & 52       \\\\\n",
       "\t Americas  & 73.60812  & 4.4409476 &  4.63200  & 25       \\\\\n",
       "\t Asia      & 70.72848  & 7.9637245 & 10.15200  & 33       \\\\\n",
       "\t Europe    & 77.64860  & 2.9798127 &  4.78250  & 30       \\\\\n",
       "\t Oceania   & 80.71950  & 0.7290271 &  0.51550  &  2       \\\\\n",
       "\\end{tabular}\n"
      ],
      "text/markdown": [
       "\n",
       "| continent | mean(lifeExp) | sd(lifeExp) | IQR(lifeExp) | n() |\n",
       "|---|---|---|---|---|\n",
       "| Africa    | 54.80604  | 9.6307807 | 11.61025  | 52        |\n",
       "| Americas  | 73.60812  | 4.4409476 |  4.63200  | 25        |\n",
       "| Asia      | 70.72848  | 7.9637245 | 10.15200  | 33        |\n",
       "| Europe    | 77.64860  | 2.9798127 |  4.78250  | 30        |\n",
       "| Oceania   | 80.71950  | 0.7290271 |  0.51550  |  2        |\n",
       "\n"
      ],
      "text/plain": [
       "  continent mean(lifeExp) sd(lifeExp) IQR(lifeExp) n()\n",
       "1 Africa    54.80604      9.6307807   11.61025     52 \n",
       "2 Americas  73.60812      4.4409476    4.63200     25 \n",
       "3 Asia      70.72848      7.9637245   10.15200     33 \n",
       "4 Europe    77.64860      2.9798127    4.78250     30 \n",
       "5 Oceania   80.71950      0.7290271    0.51550      2 "
      ]
     },
     "metadata": {},
     "output_type": "display_data"
    },
    {
     "data": {
      "image/png": "[encoded data removed]",
      "text/plain": [
       "plot without title"
      ]
     },
     "metadata": {},
     "output_type": "display_data"
    }
   ],
   "source": [
    "# Compute groupwise measures of spread\n",
    "gap2007 %>%\n",
    "  group_by(continent) %>%\n",
    "  summarize(mean(lifeExp),\n",
    "            sd(lifeExp),\n",
    "            IQR(lifeExp),\n",
    "            n())\n",
    "\n",
    "# Generate overlaid density plots\n",
    "gap2007 %>%\n",
    "  ggplot(aes(x = lifeExp, fill = continent)) +\n",
    "  geom_density(alpha = 0.3)"
   ]
  },
  {
   "cell_type": "markdown",
   "metadata": {},
   "source": [
    "## CASE STUDY"
   ]
  },
  {
   "cell_type": "code",
   "execution_count": 53,
   "metadata": {},
   "outputs": [
    {
     "name": "stderr",
     "output_type": "stream",
     "text": [
      "Warning message:\n",
      "\"package 'openintro' is in use and will not be installed\""
     ]
    }
   ],
   "source": [
    "install.packages(\"openintro\")"
   ]
  },
  {
   "cell_type": "code",
   "execution_count": 54,
   "metadata": {},
   "outputs": [],
   "source": [
    "library(\"openintro\")"
   ]
  },
  {
   "cell_type": "code",
   "execution_count": 56,
   "metadata": {},
   "outputs": [],
   "source": [
    "data(email)"
   ]
  },
  {
   "cell_type": "code",
   "execution_count": 57,
   "metadata": {},
   "outputs": [
    {
     "data": {
      "text/html": [
       "<table>\n",
       "<thead><tr><th scope=col>spam</th><th scope=col>to_multiple</th><th scope=col>from</th><th scope=col>cc</th><th scope=col>sent_email</th><th scope=col>time</th><th scope=col>image</th><th scope=col>attach</th><th scope=col>dollar</th><th scope=col>winner</th><th scope=col>...</th><th scope=col>viagra</th><th scope=col>password</th><th scope=col>num_char</th><th scope=col>line_breaks</th><th scope=col>format</th><th scope=col>re_subj</th><th scope=col>exclaim_subj</th><th scope=col>urgent_subj</th><th scope=col>exclaim_mess</th><th scope=col>number</th></tr></thead>\n",
       "<tbody>\n",
       "\t<tr><td>0                  </td><td>0                  </td><td>1                  </td><td>0                  </td><td>0                  </td><td>2012-01-01 11:46:41</td><td>0                  </td><td>0                  </td><td>0                  </td><td>no                 </td><td>...                </td><td>0                  </td><td>0                  </td><td>11.370             </td><td>202                </td><td>1                  </td><td>0                  </td><td>0                  </td><td>0                  </td><td> 0                 </td><td>big                </td></tr>\n",
       "\t<tr><td>0                  </td><td>0                  </td><td>1                  </td><td>0                  </td><td>0                  </td><td>2012-01-01 12:33:59</td><td>0                  </td><td>0                  </td><td>0                  </td><td>no                 </td><td>...                </td><td>0                  </td><td>0                  </td><td>10.504             </td><td>202                </td><td>1                  </td><td>0                  </td><td>0                  </td><td>0                  </td><td> 1                 </td><td>small              </td></tr>\n",
       "\t<tr><td>0                  </td><td>0                  </td><td>1                  </td><td>0                  </td><td>0                  </td><td>2012-01-01 21:30:32</td><td>0                  </td><td>0                  </td><td>4                  </td><td>no                 </td><td>...                </td><td>0                  </td><td>0                  </td><td> 7.773             </td><td>192                </td><td>1                  </td><td>0                  </td><td>0                  </td><td>0                  </td><td> 6                 </td><td>small              </td></tr>\n",
       "\t<tr><td>0                  </td><td>0                  </td><td>1                  </td><td>0                  </td><td>0                  </td><td>2012-01-01 14:39:49</td><td>0                  </td><td>0                  </td><td>0                  </td><td>no                 </td><td>...                </td><td>0                  </td><td>0                  </td><td>13.256             </td><td>255                </td><td>1                  </td><td>0                  </td><td>0                  </td><td>0                  </td><td>48                 </td><td>small              </td></tr>\n",
       "\t<tr><td>0                  </td><td>0                  </td><td>1                  </td><td>0                  </td><td>0                  </td><td>2012-01-01 15:30:01</td><td>0                  </td><td>0                  </td><td>0                  </td><td>no                 </td><td>...                </td><td>0                  </td><td>2                  </td><td> 1.231             </td><td> 29                </td><td>0                  </td><td>0                  </td><td>0                  </td><td>0                  </td><td> 1                 </td><td>none               </td></tr>\n",
       "\t<tr><td>0                  </td><td>0                  </td><td>1                  </td><td>0                  </td><td>0                  </td><td>2012-01-01 15:34:46</td><td>0                  </td><td>0                  </td><td>0                  </td><td>no                 </td><td>...                </td><td>0                  </td><td>2                  </td><td> 1.091             </td><td> 25                </td><td>0                  </td><td>0                  </td><td>0                  </td><td>0                  </td><td> 1                 </td><td>none               </td></tr>\n",
       "</tbody>\n",
       "</table>\n"
      ],
      "text/latex": [
       "\\begin{tabular}{r|lllllllllllllllllllll}\n",
       " spam & to\\_multiple & from & cc & sent\\_email & time & image & attach & dollar & winner & ... & viagra & password & num\\_char & line\\_breaks & format & re\\_subj & exclaim\\_subj & urgent\\_subj & exclaim\\_mess & number\\\\\n",
       "\\hline\n",
       "\t 0                   & 0                   & 1                   & 0                   & 0                   & 2012-01-01 11:46:41 & 0                   & 0                   & 0                   & no                  & ...                 & 0                   & 0                   & 11.370              & 202                 & 1                   & 0                   & 0                   & 0                   &  0                  & big                \\\\\n",
       "\t 0                   & 0                   & 1                   & 0                   & 0                   & 2012-01-01 12:33:59 & 0                   & 0                   & 0                   & no                  & ...                 & 0                   & 0                   & 10.504              & 202                 & 1                   & 0                   & 0                   & 0                   &  1                  & small              \\\\\n",
       "\t 0                   & 0                   & 1                   & 0                   & 0                   & 2012-01-01 21:30:32 & 0                   & 0                   & 4                   & no                  & ...                 & 0                   & 0                   &  7.773              & 192                 & 1                   & 0                   & 0                   & 0                   &  6                  & small              \\\\\n",
       "\t 0                   & 0                   & 1                   & 0                   & 0                   & 2012-01-01 14:39:49 & 0                   & 0                   & 0                   & no                  & ...                 & 0                   & 0                   & 13.256              & 255                 & 1                   & 0                   & 0                   & 0                   & 48                  & small              \\\\\n",
       "\t 0                   & 0                   & 1                   & 0                   & 0                   & 2012-01-01 15:30:01 & 0                   & 0                   & 0                   & no                  & ...                 & 0                   & 2                   &  1.231              &  29                 & 0                   & 0                   & 0                   & 0                   &  1                  & none               \\\\\n",
       "\t 0                   & 0                   & 1                   & 0                   & 0                   & 2012-01-01 15:34:46 & 0                   & 0                   & 0                   & no                  & ...                 & 0                   & 2                   &  1.091              &  25                 & 0                   & 0                   & 0                   & 0                   &  1                  & none               \\\\\n",
       "\\end{tabular}\n"
      ],
      "text/markdown": [
       "\n",
       "| spam | to_multiple | from | cc | sent_email | time | image | attach | dollar | winner | ... | viagra | password | num_char | line_breaks | format | re_subj | exclaim_subj | urgent_subj | exclaim_mess | number |\n",
       "|---|---|---|---|---|---|---|---|---|---|---|---|---|---|---|---|---|---|---|---|---|\n",
       "| 0                   | 0                   | 1                   | 0                   | 0                   | 2012-01-01 11:46:41 | 0                   | 0                   | 0                   | no                  | ...                 | 0                   | 0                   | 11.370              | 202                 | 1                   | 0                   | 0                   | 0                   |  0                  | big                 |\n",
       "| 0                   | 0                   | 1                   | 0                   | 0                   | 2012-01-01 12:33:59 | 0                   | 0                   | 0                   | no                  | ...                 | 0                   | 0                   | 10.504              | 202                 | 1                   | 0                   | 0                   | 0                   |  1                  | small               |\n",
       "| 0                   | 0                   | 1                   | 0                   | 0                   | 2012-01-01 21:30:32 | 0                   | 0                   | 4                   | no                  | ...                 | 0                   | 0                   |  7.773              | 192                 | 1                   | 0                   | 0                   | 0                   |  6                  | small               |\n",
       "| 0                   | 0                   | 1                   | 0                   | 0                   | 2012-01-01 14:39:49 | 0                   | 0                   | 0                   | no                  | ...                 | 0                   | 0                   | 13.256              | 255                 | 1                   | 0                   | 0                   | 0                   | 48                  | small               |\n",
       "| 0                   | 0                   | 1                   | 0                   | 0                   | 2012-01-01 15:30:01 | 0                   | 0                   | 0                   | no                  | ...                 | 0                   | 2                   |  1.231              |  29                 | 0                   | 0                   | 0                   | 0                   |  1                  | none                |\n",
       "| 0                   | 0                   | 1                   | 0                   | 0                   | 2012-01-01 15:34:46 | 0                   | 0                   | 0                   | no                  | ...                 | 0                   | 2                   |  1.091              |  25                 | 0                   | 0                   | 0                   | 0                   |  1                  | none                |\n",
       "\n"
      ],
      "text/plain": [
       "  spam to_multiple from cc sent_email time                image attach dollar\n",
       "1 0    0           1    0  0          2012-01-01 11:46:41 0     0      0     \n",
       "2 0    0           1    0  0          2012-01-01 12:33:59 0     0      0     \n",
       "3 0    0           1    0  0          2012-01-01 21:30:32 0     0      4     \n",
       "4 0    0           1    0  0          2012-01-01 14:39:49 0     0      0     \n",
       "5 0    0           1    0  0          2012-01-01 15:30:01 0     0      0     \n",
       "6 0    0           1    0  0          2012-01-01 15:34:46 0     0      0     \n",
       "  winner ... viagra password num_char line_breaks format re_subj exclaim_subj\n",
       "1 no     ... 0      0        11.370   202         1      0       0           \n",
       "2 no     ... 0      0        10.504   202         1      0       0           \n",
       "3 no     ... 0      0         7.773   192         1      0       0           \n",
       "4 no     ... 0      0        13.256   255         1      0       0           \n",
       "5 no     ... 0      2         1.231    29         0      0       0           \n",
       "6 no     ... 0      2         1.091    25         0      0       0           \n",
       "  urgent_subj exclaim_mess number\n",
       "1 0            0           big   \n",
       "2 0            1           small \n",
       "3 0            6           small \n",
       "4 0           48           small \n",
       "5 0            1           none  \n",
       "6 0            1           none  "
      ]
     },
     "metadata": {},
     "output_type": "display_data"
    }
   ],
   "source": [
    "head(email)"
   ]
  },
  {
   "cell_type": "code",
   "execution_count": 58,
   "metadata": {},
   "outputs": [
    {
     "data": {
      "text/plain": [
       "\n",
       "   0    1 \n",
       "3554  367 "
      ]
     },
     "metadata": {},
     "output_type": "display_data"
    }
   ],
   "source": [
    "table(email$spam)"
   ]
  },
  {
   "cell_type": "code",
   "execution_count": 59,
   "metadata": {},
   "outputs": [],
   "source": [
    "email <- email %>%\n",
    "  mutate(spam = factor(ifelse(spam == 0, \"not-spam\", \"spam\")))"
   ]
  },
  {
   "cell_type": "code",
   "execution_count": 60,
   "metadata": {
    "scrolled": true
   },
   "outputs": [
    {
     "data": {
      "text/plain": [
       "\n",
       "not-spam     spam \n",
       "    3554      367 "
      ]
     },
     "metadata": {},
     "output_type": "display_data"
    }
   ],
   "source": [
    "table(email$spam)"
   ]
  },
  {
   "cell_type": "code",
   "execution_count": 61,
   "metadata": {},
   "outputs": [
    {
     "data": {
      "text/html": [
       "<table>\n",
       "<thead><tr><th scope=col>spam</th><th scope=col>median(num_char)</th><th scope=col>IQR(num_char)</th></tr></thead>\n",
       "<tbody>\n",
       "\t<tr><td>not-spam</td><td>6.831   </td><td>13.58225</td></tr>\n",
       "\t<tr><td>spam    </td><td>1.046   </td><td> 2.81800</td></tr>\n",
       "</tbody>\n",
       "</table>\n"
      ],
      "text/latex": [
       "\\begin{tabular}{r|lll}\n",
       " spam & median(num\\_char) & IQR(num\\_char)\\\\\n",
       "\\hline\n",
       "\t not-spam & 6.831    & 13.58225\\\\\n",
       "\t spam     & 1.046    &  2.81800\\\\\n",
       "\\end{tabular}\n"
      ],
      "text/markdown": [
       "\n",
       "| spam | median(num_char) | IQR(num_char) |\n",
       "|---|---|---|\n",
       "| not-spam | 6.831    | 13.58225 |\n",
       "| spam     | 1.046    |  2.81800 |\n",
       "\n"
      ],
      "text/plain": [
       "  spam     median(num_char) IQR(num_char)\n",
       "1 not-spam 6.831            13.58225     \n",
       "2 spam     1.046             2.81800     "
      ]
     },
     "metadata": {},
     "output_type": "display_data"
    }
   ],
   "source": [
    "email %>%\n",
    "  group_by(spam) %>%\n",
    "  summarize(median(num_char),\n",
    "            IQR(num_char))"
   ]
  },
  {
   "cell_type": "code",
   "execution_count": 63,
   "metadata": {},
   "outputs": [
    {
     "data": {
      "image/png": "[encoded data removed]",
      "text/plain": [
       "plot without title"
      ]
     },
     "metadata": {},
     "output_type": "display_data"
    }
   ],
   "source": [
    "# Create plot\n",
    "email %>%\n",
    "  mutate(log_num_char = log(num_char)) %>%\n",
    "  ggplot(aes(x = spam, y = log_num_char)) +\n",
    "  geom_boxplot()"
   ]
  },
  {
   "cell_type": "code",
   "execution_count": 36,
   "metadata": {},
   "outputs": [
    {
     "data": {
      "image/png": "[encoded data removed]",
      "text/plain": [
       "plot without title"
      ]
     },
     "metadata": {},
     "output_type": "display_data"
    }
   ],
   "source": [
    "# Create plot of proportion of spam by image\n",
    "email %>%\n",
    "  mutate(has_image = image > 0) %>%\n",
    "  ggplot(aes(x = has_image, fill = spam)) +\n",
    "  geom_bar(position = \"fill\")"
   ]
  },
  {
   "cell_type": "markdown",
   "metadata": {},
   "source": [
    "Comments: An email without an image is more likely to be not-spam than spam"
   ]
  },
  {
   "cell_type": "code",
   "execution_count": null,
   "metadata": {},
   "outputs": [],
   "source": []
  },
  {
   "cell_type": "code",
   "execution_count": 64,
   "metadata": {},
   "outputs": [
    {
     "data": {
      "image/png": "[encoded data removed]",
      "text/plain": [
       "plot without title"
      ]
     },
     "metadata": {},
     "output_type": "display_data"
    }
   ],
   "source": [
    "x <- c(-0.5, 0, 1, 1, 1.5)\n",
    "y <- c(0, 0, 2, 0, 0)\n",
    "plot(x, y, lwd = 3,frame = FALSE, type = \"l\")"
   ]
  },
  {
   "cell_type": "code",
   "execution_count": 67,
   "metadata": {},
   "outputs": [
    {
     "data": {
      "text/html": [
       "0.5625"
      ],
      "text/latex": [
       "0.5625"
      ],
      "text/markdown": [
       "0.5625"
      ],
      "text/plain": [
       "[1] 0.5625"
      ]
     },
     "metadata": {},
     "output_type": "display_data"
    }
   ],
   "source": [
    "pbeta(0.75, 2, 1)"
   ]
  },
  {
   "cell_type": "markdown",
   "metadata": {},
   "source": [
    "the standard error, talks about how variable averages of random samples of size n from the population are."
   ]
  },
  {
   "cell_type": "code",
   "execution_count": 70,
   "metadata": {},
   "outputs": [
    {
     "name": "stderr",
     "output_type": "stream",
     "text": [
      "also installing the dependencies 'png', 'jpeg', 'checkmate', 'Formula', 'latticeExtra', 'acepack', 'gridExtra', 'htmlTable', 'viridis', 'HistData', 'Hmisc'\n",
      "\n"
     ]
    },
    {
     "name": "stdout",
     "output_type": "stream",
     "text": [
      "package 'png' successfully unpacked and MD5 sums checked\n",
      "package 'jpeg' successfully unpacked and MD5 sums checked\n",
      "package 'checkmate' successfully unpacked and MD5 sums checked\n",
      "package 'Formula' successfully unpacked and MD5 sums checked\n",
      "package 'latticeExtra' successfully unpacked and MD5 sums checked\n",
      "package 'acepack' successfully unpacked and MD5 sums checked\n",
      "package 'gridExtra' successfully unpacked and MD5 sums checked\n",
      "package 'htmlTable' successfully unpacked and MD5 sums checked\n",
      "package 'viridis' successfully unpacked and MD5 sums checked\n",
      "package 'HistData' successfully unpacked and MD5 sums checked\n",
      "package 'Hmisc' successfully unpacked and MD5 sums checked\n",
      "package 'UsingR' successfully unpacked and MD5 sums checked\n",
      "\n",
      "The downloaded binary packages are in\n",
      "\tC:\\Users\\satha\\AppData\\Local\\Temp\\RtmpMHN33e\\downloaded_packages\n"
     ]
    }
   ],
   "source": [
    "install.packages(\"UsingR\")"
   ]
  },
  {
   "cell_type": "code",
   "execution_count": 72,
   "metadata": {},
   "outputs": [],
   "source": [
    "library(UsingR)"
   ]
  },
  {
   "cell_type": "code",
   "execution_count": 80,
   "metadata": {},
   "outputs": [
    {
     "data": {
      "text/html": [
       "20.8021433190589"
      ],
      "text/latex": [
       "20.8021433190589"
      ],
      "text/markdown": [
       "20.8021433190589"
      ],
      "text/plain": [
       "[1] 20.80214"
      ]
     },
     "metadata": {},
     "output_type": "display_data"
    }
   ],
   "source": [
    "sd(c(1,4,15,89))/sqrt(4)"
   ]
  },
  {
   "cell_type": "code",
   "execution_count": 74,
   "metadata": {},
   "outputs": [],
   "source": [
    "data(father.son)"
   ]
  },
  {
   "cell_type": "code",
   "execution_count": 75,
   "metadata": {},
   "outputs": [
    {
     "data": {
      "text/html": [
       "<table>\n",
       "<thead><tr><th scope=col>fheight</th><th scope=col>sheight</th></tr></thead>\n",
       "<tbody>\n",
       "\t<tr><td>65.04851</td><td>59.77827</td></tr>\n",
       "\t<tr><td>63.25094</td><td>63.21404</td></tr>\n",
       "\t<tr><td>64.95532</td><td>63.34242</td></tr>\n",
       "\t<tr><td>65.75250</td><td>62.79238</td></tr>\n",
       "\t<tr><td>61.13723</td><td>64.28113</td></tr>\n",
       "\t<tr><td>63.02254</td><td>64.24221</td></tr>\n",
       "</tbody>\n",
       "</table>\n"
      ],
      "text/latex": [
       "\\begin{tabular}{r|ll}\n",
       " fheight & sheight\\\\\n",
       "\\hline\n",
       "\t 65.04851 & 59.77827\\\\\n",
       "\t 63.25094 & 63.21404\\\\\n",
       "\t 64.95532 & 63.34242\\\\\n",
       "\t 65.75250 & 62.79238\\\\\n",
       "\t 61.13723 & 64.28113\\\\\n",
       "\t 63.02254 & 64.24221\\\\\n",
       "\\end{tabular}\n"
      ],
      "text/markdown": [
       "\n",
       "| fheight | sheight |\n",
       "|---|---|\n",
       "| 65.04851 | 59.77827 |\n",
       "| 63.25094 | 63.21404 |\n",
       "| 64.95532 | 63.34242 |\n",
       "| 65.75250 | 62.79238 |\n",
       "| 61.13723 | 64.28113 |\n",
       "| 63.02254 | 64.24221 |\n",
       "\n"
      ],
      "text/plain": [
       "  fheight  sheight \n",
       "1 65.04851 59.77827\n",
       "2 63.25094 63.21404\n",
       "3 64.95532 63.34242\n",
       "4 65.75250 62.79238\n",
       "5 61.13723 64.28113\n",
       "6 63.02254 64.24221"
      ]
     },
     "metadata": {},
     "output_type": "display_data"
    }
   ],
   "source": [
    "head(father.son)"
   ]
  },
  {
   "cell_type": "markdown",
   "metadata": {},
   "source": [
    "The standard error can include the variation between the calculated mean of the population and one which is considered known, or accepted as accurate."
   ]
  },
  {
   "cell_type": "code",
   "execution_count": 76,
   "metadata": {},
   "outputs": [],
   "source": [
    "x <- father.son$sheight"
   ]
  },
  {
   "cell_type": "code",
   "execution_count": 77,
   "metadata": {},
   "outputs": [],
   "source": [
    "n <- length(x)"
   ]
  },
  {
   "cell_type": "code",
   "execution_count": 78,
   "metadata": {},
   "outputs": [
    {
     "data": {
      "text/html": [
       "<ol class=list-inline>\n",
       "\t<li>7.92</li>\n",
       "\t<li>0.01</li>\n",
       "\t<li>2.81</li>\n",
       "\t<li>0.09</li>\n",
       "</ol>\n"
      ],
      "text/latex": [
       "\\begin{enumerate*}\n",
       "\\item 7.92\n",
       "\\item 0.01\n",
       "\\item 2.81\n",
       "\\item 0.09\n",
       "\\end{enumerate*}\n"
      ],
      "text/markdown": [
       "1. 7.92\n",
       "2. 0.01\n",
       "3. 2.81\n",
       "4. 0.09\n",
       "\n",
       "\n"
      ],
      "text/plain": [
       "[1] 7.92 0.01 2.81 0.09"
      ]
     },
     "metadata": {},
     "output_type": "display_data"
    }
   ],
   "source": [
    "round(c(var(x), var(x) / n, sd(x), sd(x) / sqrt(n)),2)"
   ]
  },
  {
   "cell_type": "code",
   "execution_count": 85,
   "metadata": {},
   "outputs": [
    {
     "data": {
      "image/png": "[encoded data removed]",
      "text/plain": [
       "plot without title"
      ]
     },
     "metadata": {},
     "output_type": "display_data"
    }
   ],
   "source": [
    "n <- 10000\n",
    "means <- cumsum(rnorm(n))/(1:n)\n",
    "library(ggplot2)\n",
    "g <- ggplot(data.frame(x = 1:n, y = means), aes(x = x, y = y))\n",
    "g <- g + geom_hline(yintercept = 0) + geom_line(size = 2)\n",
    "g <- g + labs(x = \"Number of obs\", y = \"Cumulative mean\")\n",
    "g"
   ]
  },
  {
   "cell_type": "code",
   "execution_count": null,
   "metadata": {},
   "outputs": [],
   "source": []
  },
  {
   "cell_type": "code",
   "execution_count": 86,
   "metadata": {},
   "outputs": [],
   "source": [
    "library(UsingR)\n",
    "data(father.son)\n",
    "x <- father.son$sheight"
   ]
  },
  {
   "cell_type": "code",
   "execution_count": 87,
   "metadata": {},
   "outputs": [
    {
     "data": {
      "text/html": [
       "68.6840696567718"
      ],
      "text/latex": [
       "68.6840696567718"
      ],
      "text/markdown": [
       "68.6840696567718"
      ],
      "text/plain": [
       "[1] 68.68407"
      ]
     },
     "metadata": {},
     "output_type": "display_data"
    }
   ],
   "source": [
    "mean(x)"
   ]
  },
  {
   "cell_type": "code",
   "execution_count": 92,
   "metadata": {},
   "outputs": [
    {
     "data": {
      "text/html": [
       "<ol class=list-inline>\n",
       "\t<li>68.5228328759459</li>\n",
       "\t<li>68.8453064375977</li>\n",
       "</ol>\n"
      ],
      "text/latex": [
       "\\begin{enumerate*}\n",
       "\\item 68.5228328759459\n",
       "\\item 68.8453064375977\n",
       "\\end{enumerate*}\n"
      ],
      "text/markdown": [
       "1. 68.5228328759459\n",
       "2. 68.8453064375977\n",
       "\n",
       "\n"
      ],
      "text/plain": [
       "[1] 68.52283 68.84531"
      ]
     },
     "metadata": {},
     "output_type": "display_data"
    }
   ],
   "source": [
    "mean(x) + c(-1, 1) * qnorm(0.97) * sd(x)/sqrt(length(x))"
   ]
  },
  {
   "cell_type": "code",
   "execution_count": 91,
   "metadata": {},
   "outputs": [
    {
     "data": {
      "text/html": [
       "<ol class=list-inline>\n",
       "\t<li>68.6391138199559</li>\n",
       "\t<li>68.7290254935877</li>\n",
       "</ol>\n"
      ],
      "text/latex": [
       "\\begin{enumerate*}\n",
       "\\item 68.6391138199559\n",
       "\\item 68.7290254935877\n",
       "\\end{enumerate*}\n"
      ],
      "text/markdown": [
       "1. 68.6391138199559\n",
       "2. 68.7290254935877\n",
       "\n",
       "\n"
      ],
      "text/plain": [
       "[1] 68.63911 68.72903"
      ]
     },
     "metadata": {},
     "output_type": "display_data"
    }
   ],
   "source": [
    "mean(x) + c(-1, 1) * qnorm(0.7) * sd(x)/sqrt(length(x))"
   ]
  },
  {
   "cell_type": "code",
   "execution_count": 105,
   "metadata": {},
   "outputs": [
    {
     "data": {
      "text/html": [
       "<ol class=list-inline>\n",
       "\t<li>0.462709946375848</li>\n",
       "\t<li>0.657290053624152</li>\n",
       "</ol>\n"
      ],
      "text/latex": [
       "\\begin{enumerate*}\n",
       "\\item 0.462709946375848\n",
       "\\item 0.657290053624152\n",
       "\\end{enumerate*}\n"
      ],
      "text/markdown": [
       "1. 0.462709946375848\n",
       "2. 0.657290053624152\n",
       "\n",
       "\n"
      ],
      "text/plain": [
       "[1] 0.4627099 0.6572901"
      ]
     },
     "metadata": {},
     "output_type": "display_data"
    }
   ],
   "source": [
    "0.56+ c(-1,1) * qnorm(0.975) * sqrt(0.56 * 0.44/100)"
   ]
  },
  {
   "cell_type": "markdown",
   "metadata": {},
   "source": [
    "A respiratory disturbance index (RDI) of more than 30 events / hour, say, is considered evidence of\n",
    "severe sleep disordered breathing (SDB). Suppose that in a sample of 100 overweight subjects with\n",
    "other risk factors for sleep disordered breathing at a sleep clinic, the mean RDI was 32 events / hour\n",
    "with a standard deviation of 10 events / hour."
   ]
  },
  {
   "cell_type": "code",
   "execution_count": 106,
   "metadata": {},
   "outputs": [
    {
     "data": {
      "text/html": [
       "<table>\n",
       "<thead><tr><th scope=col>fheight</th><th scope=col>sheight</th></tr></thead>\n",
       "<tbody>\n",
       "\t<tr><td>65.04851</td><td>59.77827</td></tr>\n",
       "\t<tr><td>63.25094</td><td>63.21404</td></tr>\n",
       "\t<tr><td>64.95532</td><td>63.34242</td></tr>\n",
       "\t<tr><td>65.75250</td><td>62.79238</td></tr>\n",
       "\t<tr><td>61.13723</td><td>64.28113</td></tr>\n",
       "\t<tr><td>63.02254</td><td>64.24221</td></tr>\n",
       "</tbody>\n",
       "</table>\n"
      ],
      "text/latex": [
       "\\begin{tabular}{r|ll}\n",
       " fheight & sheight\\\\\n",
       "\\hline\n",
       "\t 65.04851 & 59.77827\\\\\n",
       "\t 63.25094 & 63.21404\\\\\n",
       "\t 64.95532 & 63.34242\\\\\n",
       "\t 65.75250 & 62.79238\\\\\n",
       "\t 61.13723 & 64.28113\\\\\n",
       "\t 63.02254 & 64.24221\\\\\n",
       "\\end{tabular}\n"
      ],
      "text/markdown": [
       "\n",
       "| fheight | sheight |\n",
       "|---|---|\n",
       "| 65.04851 | 59.77827 |\n",
       "| 63.25094 | 63.21404 |\n",
       "| 64.95532 | 63.34242 |\n",
       "| 65.75250 | 62.79238 |\n",
       "| 61.13723 | 64.28113 |\n",
       "| 63.02254 | 64.24221 |\n",
       "\n"
      ],
      "text/plain": [
       "  fheight  sheight \n",
       "1 65.04851 59.77827\n",
       "2 63.25094 63.21404\n",
       "3 64.95532 63.34242\n",
       "4 65.75250 62.79238\n",
       "5 61.13723 64.28113\n",
       "6 63.02254 64.24221"
      ]
     },
     "metadata": {},
     "output_type": "display_data"
    }
   ],
   "source": [
    "head(father.son)"
   ]
  },
  {
   "cell_type": "code",
   "execution_count": 109,
   "metadata": {
    "scrolled": true
   },
   "outputs": [
    {
     "data": {
      "text/plain": [
       "\n",
       "\tOne Sample t-test\n",
       "\n",
       "data:  father.son$fheight - father.son$sheight\n",
       "t = -11.789, df = 1077, p-value < 2.2e-16\n",
       "alternative hypothesis: true mean is not equal to 0\n",
       "95 percent confidence interval:\n",
       " -1.1629160 -0.8310296\n",
       "sample estimates:\n",
       " mean of x \n",
       "-0.9969728 \n"
      ]
     },
     "metadata": {},
     "output_type": "display_data"
    }
   ],
   "source": [
    "t.test(father.son$fheight-father.son$sheight)"
   ]
  },
  {
   "cell_type": "code",
   "execution_count": null,
   "metadata": {},
   "outputs": [],
   "source": []
  },
  {
   "cell_type": "code",
   "execution_count": null,
   "metadata": {},
   "outputs": [],
   "source": []
  },
  {
   "cell_type": "code",
   "execution_count": null,
   "metadata": {},
   "outputs": [],
   "source": []
  },
  {
   "cell_type": "code",
   "execution_count": null,
   "metadata": {},
   "outputs": [],
   "source": []
  },
  {
   "cell_type": "code",
   "execution_count": null,
   "metadata": {},
   "outputs": [],
   "source": []
  }
 ],
 "metadata": {
  "kernelspec": {
   "display_name": "R",
   "language": "R",
   "name": "ir"
  },
  "language_info": {
   "codemirror_mode": "r",
   "file_extension": ".r",
   "mimetype": "text/x-r-source",
   "name": "R",
   "pygments_lexer": "r",
   "version": "3.6.1"
  }
 },
 "nbformat": 4,
 "nbformat_minor": 2
}
