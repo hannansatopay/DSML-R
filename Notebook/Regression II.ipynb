{
 "cells": [
  {
   "cell_type": "markdown",
   "metadata": {},
   "source": [
    "# Linear Regression"
   ]
  },
  {
   "cell_type": "code",
   "execution_count": 2,
   "metadata": {},
   "outputs": [],
   "source": [
    "library(UsingR)"
   ]
  },
  {
   "cell_type": "code",
   "execution_count": 3,
   "metadata": {},
   "outputs": [],
   "source": [
    "data(diamond)"
   ]
  },
  {
   "cell_type": "code",
   "execution_count": 5,
   "metadata": {},
   "outputs": [
    {
     "data": {
      "text/html": [
       "<table>\n",
       "<thead><tr><th scope=col>carat</th><th scope=col>price</th></tr></thead>\n",
       "<tbody>\n",
       "\t<tr><td>0.17</td><td>355 </td></tr>\n",
       "\t<tr><td>0.16</td><td>328 </td></tr>\n",
       "\t<tr><td>0.17</td><td>350 </td></tr>\n",
       "\t<tr><td>0.18</td><td>325 </td></tr>\n",
       "\t<tr><td>0.25</td><td>642 </td></tr>\n",
       "\t<tr><td>0.16</td><td>342 </td></tr>\n",
       "</tbody>\n",
       "</table>\n"
      ],
      "text/latex": [
       "\\begin{tabular}{r|ll}\n",
       " carat & price\\\\\n",
       "\\hline\n",
       "\t 0.17 & 355 \\\\\n",
       "\t 0.16 & 328 \\\\\n",
       "\t 0.17 & 350 \\\\\n",
       "\t 0.18 & 325 \\\\\n",
       "\t 0.25 & 642 \\\\\n",
       "\t 0.16 & 342 \\\\\n",
       "\\end{tabular}\n"
      ],
      "text/markdown": [
       "\n",
       "| carat | price |\n",
       "|---|---|\n",
       "| 0.17 | 355  |\n",
       "| 0.16 | 328  |\n",
       "| 0.17 | 350  |\n",
       "| 0.18 | 325  |\n",
       "| 0.25 | 642  |\n",
       "| 0.16 | 342  |\n",
       "\n"
      ],
      "text/plain": [
       "  carat price\n",
       "1 0.17  355  \n",
       "2 0.16  328  \n",
       "3 0.17  350  \n",
       "4 0.18  325  \n",
       "5 0.25  642  \n",
       "6 0.16  342  "
      ]
     },
     "metadata": {},
     "output_type": "display_data"
    }
   ],
   "source": [
    "head(diamond)"
   ]
  },
  {
   "cell_type": "code",
   "execution_count": 6,
   "metadata": {},
   "outputs": [],
   "source": [
    "library(ggplot2)"
   ]
  },
  {
   "cell_type": "code",
   "execution_count": 12,
   "metadata": {},
   "outputs": [
    {
     "data": {
      "image/png": "[encoded data removed]",
      "text/plain": [
       "plot without title"
      ]
     },
     "metadata": {},
     "output_type": "display_data"
    }
   ],
   "source": [
    "g = ggplot(diamond, aes(x = carat, y = price))\n",
    "g = g + xlab(\"Mass (carats)\")\n",
    "g = g + ylab(\"Price\")\n",
    "g = g + geom_point(size = 3, color = 'blue', alpha = 0.5)\n",
    "g = g + geom_smooth(method = \"lm\", color = \"black\")\n",
    "g"
   ]
  },
  {
   "cell_type": "code",
   "execution_count": 30,
   "metadata": {},
   "outputs": [
    {
     "data": {
      "text/plain": [
       "\n",
       "Call:\n",
       "lm(formula = price ~ carat, data = diamond)\n",
       "\n",
       "Coefficients:\n",
       "(Intercept)        carat  \n",
       "     -259.6       3721.0  \n"
      ]
     },
     "metadata": {},
     "output_type": "display_data"
    }
   ],
   "source": [
    "fit <- lm(price ~ carat, data = diamond)\n",
    "fit"
   ]
  },
  {
   "cell_type": "code",
   "execution_count": 31,
   "metadata": {},
   "outputs": [
    {
     "data": {
      "text/html": [
       "<strong>(Intercept):</strong> -259.625907191555"
      ],
      "text/latex": [
       "\\textbf{(Intercept):} -259.625907191555"
      ],
      "text/markdown": [
       "**(Intercept):** -259.625907191555"
      ],
      "text/plain": [
       "(Intercept) \n",
       "  -259.6259 "
      ]
     },
     "metadata": {},
     "output_type": "display_data"
    }
   ],
   "source": [
    "coef(fit)[1]"
   ]
  },
  {
   "cell_type": "code",
   "execution_count": 32,
   "metadata": {},
   "outputs": [
    {
     "data": {
      "text/html": [
       "<strong>carat:</strong> 3721.02485155047"
      ],
      "text/latex": [
       "\\textbf{carat:} 3721.02485155047"
      ],
      "text/markdown": [
       "**carat:** 3721.02485155047"
      ],
      "text/plain": [
       "   carat \n",
       "3721.025 "
      ]
     },
     "metadata": {},
     "output_type": "display_data"
    }
   ],
   "source": [
    "coef(fit)[2]"
   ]
  },
  {
   "cell_type": "code",
   "execution_count": 62,
   "metadata": {},
   "outputs": [
    {
     "data": {
      "text/html": [
       "<ol class=list-inline>\n",
       "\t<li>670.630305696063</li>\n",
       "\t<li>1117.15328788212</li>\n",
       "\t<li>3052.08621068837</li>\n",
       "</ol>\n"
      ],
      "text/latex": [
       "\\begin{enumerate*}\n",
       "\\item 670.630305696063\n",
       "\\item 1117.15328788212\n",
       "\\item 3052.08621068837\n",
       "\\end{enumerate*}\n"
      ],
      "text/markdown": [
       "1. 670.630305696063\n",
       "2. 1117.15328788212\n",
       "3. 3052.08621068837\n",
       "\n",
       "\n"
      ],
      "text/plain": [
       "[1]  670.6303 1117.1533 3052.0862"
      ]
     },
     "metadata": {},
     "output_type": "display_data"
    }
   ],
   "source": [
    "y <- coef(fit)[2] * c(0.25, 0.37, 0.89) + coef(fit)[1]\n",
    "y"
   ]
  },
  {
   "cell_type": "code",
   "execution_count": 61,
   "metadata": {},
   "outputs": [
    {
     "data": {
      "text/html": [
       "<dl class=dl-horizontal>\n",
       "\t<dt>1</dt>\n",
       "\t\t<dd>670.630305696063</dd>\n",
       "\t<dt>2</dt>\n",
       "\t\t<dd>1117.15328788212</dd>\n",
       "\t<dt>3</dt>\n",
       "\t\t<dd>3052.08621068837</dd>\n",
       "</dl>\n"
      ],
      "text/latex": [
       "\\begin{description*}\n",
       "\\item[1] 670.630305696063\n",
       "\\item[2] 1117.15328788212\n",
       "\\item[3] 3052.08621068837\n",
       "\\end{description*}\n"
      ],
      "text/markdown": [
       "1\n",
       ":   670.6303056960632\n",
       ":   1117.153287882123\n",
       ":   3052.08621068837\n",
       "\n"
      ],
      "text/plain": [
       "        1         2         3 \n",
       " 670.6303 1117.1533 3052.0862 "
      ]
     },
     "metadata": {},
     "output_type": "display_data"
    }
   ],
   "source": [
    "predict(fit, newdata = data.frame(carat = c(0.25, 0.37, 0.89)))"
   ]
  },
  {
   "cell_type": "code",
   "execution_count": 127,
   "metadata": {},
   "outputs": [
    {
     "data": {
      "text/html": [
       "0.978260777986033"
      ],
      "text/latex": [
       "0.978260777986033"
      ],
      "text/markdown": [
       "0.978260777986033"
      ],
      "text/plain": [
       "[1] 0.9782608"
      ]
     },
     "metadata": {},
     "output_type": "display_data"
    }
   ],
   "source": [
    "summary(fit)$r.squared"
   ]
  },
  {
   "cell_type": "markdown",
   "metadata": {},
   "source": [
    "### Plot this data on the graph itself"
   ]
  },
  {
   "cell_type": "code",
   "execution_count": null,
   "metadata": {},
   "outputs": [],
   "source": []
  },
  {
   "cell_type": "markdown",
   "metadata": {},
   "source": [
    "## Residuals"
   ]
  },
  {
   "cell_type": "code",
   "execution_count": 68,
   "metadata": {},
   "outputs": [
    {
     "data": {
      "image/png": "[encoded data removed]",
      "text/plain": [
       "plot without title"
      ]
     },
     "metadata": {},
     "output_type": "display_data"
    }
   ],
   "source": [
    "plot(diamond$carat, resid(fit), ylab = \"Residuals\", xlab = \"Carat\")\n",
    "abline(0, 0)"
   ]
  },
  {
   "cell_type": "code",
   "execution_count": 76,
   "metadata": {},
   "outputs": [
    {
     "data": {
      "text/html": [
       "<table>\n",
       "<thead><tr><th></th><th scope=col>Estimate</th><th scope=col>Std. Error</th><th scope=col>t value</th><th scope=col>Pr(&gt;|t|)</th></tr></thead>\n",
       "<tbody>\n",
       "\t<tr><th scope=row>(Intercept)</th><td>-259.6259   </td><td>17.31886    </td><td>-14.99094   </td><td>2.523271e-19</td></tr>\n",
       "\t<tr><th scope=row>carat</th><td>3721.0249   </td><td>81.78588    </td><td> 45.49715   </td><td>6.751260e-40</td></tr>\n",
       "</tbody>\n",
       "</table>\n"
      ],
      "text/latex": [
       "\\begin{tabular}{r|llll}\n",
       "  & Estimate & Std. Error & t value & Pr(>\\textbar{}t\\textbar{})\\\\\n",
       "\\hline\n",
       "\t(Intercept) & -259.6259    & 17.31886     & -14.99094    & 2.523271e-19\\\\\n",
       "\tcarat & 3721.0249    & 81.78588     &  45.49715    & 6.751260e-40\\\\\n",
       "\\end{tabular}\n"
      ],
      "text/markdown": [
       "\n",
       "| <!--/--> | Estimate | Std. Error | t value | Pr(>|t|) |\n",
       "|---|---|---|---|---|\n",
       "| (Intercept) | -259.6259    | 17.31886     | -14.99094    | 2.523271e-19 |\n",
       "| carat | 3721.0249    | 81.78588     |  45.49715    | 6.751260e-40 |\n",
       "\n"
      ],
      "text/plain": [
       "            Estimate  Std. Error t value   Pr(>|t|)    \n",
       "(Intercept) -259.6259 17.31886   -14.99094 2.523271e-19\n",
       "carat       3721.0249 81.78588    45.49715 6.751260e-40"
      ]
     },
     "metadata": {},
     "output_type": "display_data"
    }
   ],
   "source": [
    "sum_coef <- summary(fit)$coefficient\n",
    "sum_coef"
   ]
  },
  {
   "cell_type": "code",
   "execution_count": 89,
   "metadata": {},
   "outputs": [
    {
     "data": {
      "text/html": [
       "<ol class=list-inline>\n",
       "\t<li>355.639841290791</li>\n",
       "\t<li>388.565129019303</li>\n",
       "</ol>\n"
      ],
      "text/latex": [
       "\\begin{enumerate*}\n",
       "\\item 355.639841290791\n",
       "\\item 388.565129019303\n",
       "\\end{enumerate*}\n"
      ],
      "text/markdown": [
       "1. 355.639841290791\n",
       "2. 388.565129019303\n",
       "\n",
       "\n"
      ],
      "text/plain": [
       "[1] 355.6398 388.5651"
      ]
     },
     "metadata": {},
     "output_type": "display_data"
    }
   ],
   "source": [
    "(sum_coef[2,1] + c(-1,1) * qt(0.975, df = fit$df) * sum_coef[2,2])/10"
   ]
  },
  {
   "cell_type": "markdown",
   "metadata": {},
   "source": [
    "## Draw Ribbon Chart"
   ]
  },
  {
   "cell_type": "code",
   "execution_count": null,
   "metadata": {},
   "outputs": [],
   "source": []
  },
  {
   "cell_type": "markdown",
   "metadata": {},
   "source": [
    "## Mulitple (Multivariable) Linear Regression"
   ]
  },
  {
   "cell_type": "code",
   "execution_count": 90,
   "metadata": {},
   "outputs": [],
   "source": [
    "data(mtcars)"
   ]
  },
  {
   "cell_type": "code",
   "execution_count": 91,
   "metadata": {},
   "outputs": [
    {
     "data": {
      "text/html": [
       "<table>\n",
       "<thead><tr><th></th><th scope=col>mpg</th><th scope=col>cyl</th><th scope=col>disp</th><th scope=col>hp</th><th scope=col>drat</th><th scope=col>wt</th><th scope=col>qsec</th><th scope=col>vs</th><th scope=col>am</th><th scope=col>gear</th><th scope=col>carb</th></tr></thead>\n",
       "<tbody>\n",
       "\t<tr><th scope=row>Mazda RX4</th><td>21.0 </td><td>6    </td><td>160  </td><td>110  </td><td>3.90 </td><td>2.620</td><td>16.46</td><td>0    </td><td>1    </td><td>4    </td><td>4    </td></tr>\n",
       "\t<tr><th scope=row>Mazda RX4 Wag</th><td>21.0 </td><td>6    </td><td>160  </td><td>110  </td><td>3.90 </td><td>2.875</td><td>17.02</td><td>0    </td><td>1    </td><td>4    </td><td>4    </td></tr>\n",
       "\t<tr><th scope=row>Datsun 710</th><td>22.8 </td><td>4    </td><td>108  </td><td> 93  </td><td>3.85 </td><td>2.320</td><td>18.61</td><td>1    </td><td>1    </td><td>4    </td><td>1    </td></tr>\n",
       "\t<tr><th scope=row>Hornet 4 Drive</th><td>21.4 </td><td>6    </td><td>258  </td><td>110  </td><td>3.08 </td><td>3.215</td><td>19.44</td><td>1    </td><td>0    </td><td>3    </td><td>1    </td></tr>\n",
       "\t<tr><th scope=row>Hornet Sportabout</th><td>18.7 </td><td>8    </td><td>360  </td><td>175  </td><td>3.15 </td><td>3.440</td><td>17.02</td><td>0    </td><td>0    </td><td>3    </td><td>2    </td></tr>\n",
       "\t<tr><th scope=row>Valiant</th><td>18.1 </td><td>6    </td><td>225  </td><td>105  </td><td>2.76 </td><td>3.460</td><td>20.22</td><td>1    </td><td>0    </td><td>3    </td><td>1    </td></tr>\n",
       "</tbody>\n",
       "</table>\n"
      ],
      "text/latex": [
       "\\begin{tabular}{r|lllllllllll}\n",
       "  & mpg & cyl & disp & hp & drat & wt & qsec & vs & am & gear & carb\\\\\n",
       "\\hline\n",
       "\tMazda RX4 & 21.0  & 6     & 160   & 110   & 3.90  & 2.620 & 16.46 & 0     & 1     & 4     & 4    \\\\\n",
       "\tMazda RX4 Wag & 21.0  & 6     & 160   & 110   & 3.90  & 2.875 & 17.02 & 0     & 1     & 4     & 4    \\\\\n",
       "\tDatsun 710 & 22.8  & 4     & 108   &  93   & 3.85  & 2.320 & 18.61 & 1     & 1     & 4     & 1    \\\\\n",
       "\tHornet 4 Drive & 21.4  & 6     & 258   & 110   & 3.08  & 3.215 & 19.44 & 1     & 0     & 3     & 1    \\\\\n",
       "\tHornet Sportabout & 18.7  & 8     & 360   & 175   & 3.15  & 3.440 & 17.02 & 0     & 0     & 3     & 2    \\\\\n",
       "\tValiant & 18.1  & 6     & 225   & 105   & 2.76  & 3.460 & 20.22 & 1     & 0     & 3     & 1    \\\\\n",
       "\\end{tabular}\n"
      ],
      "text/markdown": [
       "\n",
       "| <!--/--> | mpg | cyl | disp | hp | drat | wt | qsec | vs | am | gear | carb |\n",
       "|---|---|---|---|---|---|---|---|---|---|---|---|\n",
       "| Mazda RX4 | 21.0  | 6     | 160   | 110   | 3.90  | 2.620 | 16.46 | 0     | 1     | 4     | 4     |\n",
       "| Mazda RX4 Wag | 21.0  | 6     | 160   | 110   | 3.90  | 2.875 | 17.02 | 0     | 1     | 4     | 4     |\n",
       "| Datsun 710 | 22.8  | 4     | 108   |  93   | 3.85  | 2.320 | 18.61 | 1     | 1     | 4     | 1     |\n",
       "| Hornet 4 Drive | 21.4  | 6     | 258   | 110   | 3.08  | 3.215 | 19.44 | 1     | 0     | 3     | 1     |\n",
       "| Hornet Sportabout | 18.7  | 8     | 360   | 175   | 3.15  | 3.440 | 17.02 | 0     | 0     | 3     | 2     |\n",
       "| Valiant | 18.1  | 6     | 225   | 105   | 2.76  | 3.460 | 20.22 | 1     | 0     | 3     | 1     |\n",
       "\n"
      ],
      "text/plain": [
       "                  mpg  cyl disp hp  drat wt    qsec  vs am gear carb\n",
       "Mazda RX4         21.0 6   160  110 3.90 2.620 16.46 0  1  4    4   \n",
       "Mazda RX4 Wag     21.0 6   160  110 3.90 2.875 17.02 0  1  4    4   \n",
       "Datsun 710        22.8 4   108   93 3.85 2.320 18.61 1  1  4    1   \n",
       "Hornet 4 Drive    21.4 6   258  110 3.08 3.215 19.44 1  0  3    1   \n",
       "Hornet Sportabout 18.7 8   360  175 3.15 3.440 17.02 0  0  3    2   \n",
       "Valiant           18.1 6   225  105 2.76 3.460 20.22 1  0  3    1   "
      ]
     },
     "metadata": {},
     "output_type": "display_data"
    }
   ],
   "source": [
    "head(mtcars)"
   ]
  },
  {
   "cell_type": "code",
   "execution_count": 92,
   "metadata": {},
   "outputs": [
    {
     "data": {
      "text/html": [
       "<table>\n",
       "<thead><tr><th></th><th scope=col>mpg</th><th scope=col>disp</th><th scope=col>hp</th><th scope=col>wt</th></tr></thead>\n",
       "<tbody>\n",
       "\t<tr><th scope=row>Mazda RX4</th><td>21.0 </td><td>160  </td><td>110  </td><td>2.620</td></tr>\n",
       "\t<tr><th scope=row>Mazda RX4 Wag</th><td>21.0 </td><td>160  </td><td>110  </td><td>2.875</td></tr>\n",
       "\t<tr><th scope=row>Datsun 710</th><td>22.8 </td><td>108  </td><td> 93  </td><td>2.320</td></tr>\n",
       "\t<tr><th scope=row>Hornet 4 Drive</th><td>21.4 </td><td>258  </td><td>110  </td><td>3.215</td></tr>\n",
       "\t<tr><th scope=row>Hornet Sportabout</th><td>18.7 </td><td>360  </td><td>175  </td><td>3.440</td></tr>\n",
       "\t<tr><th scope=row>Valiant</th><td>18.1 </td><td>225  </td><td>105  </td><td>3.460</td></tr>\n",
       "</tbody>\n",
       "</table>\n"
      ],
      "text/latex": [
       "\\begin{tabular}{r|llll}\n",
       "  & mpg & disp & hp & wt\\\\\n",
       "\\hline\n",
       "\tMazda RX4 & 21.0  & 160   & 110   & 2.620\\\\\n",
       "\tMazda RX4 Wag & 21.0  & 160   & 110   & 2.875\\\\\n",
       "\tDatsun 710 & 22.8  & 108   &  93   & 2.320\\\\\n",
       "\tHornet 4 Drive & 21.4  & 258   & 110   & 3.215\\\\\n",
       "\tHornet Sportabout & 18.7  & 360   & 175   & 3.440\\\\\n",
       "\tValiant & 18.1  & 225   & 105   & 3.460\\\\\n",
       "\\end{tabular}\n"
      ],
      "text/markdown": [
       "\n",
       "| <!--/--> | mpg | disp | hp | wt |\n",
       "|---|---|---|---|---|\n",
       "| Mazda RX4 | 21.0  | 160   | 110   | 2.620 |\n",
       "| Mazda RX4 Wag | 21.0  | 160   | 110   | 2.875 |\n",
       "| Datsun 710 | 22.8  | 108   |  93   | 2.320 |\n",
       "| Hornet 4 Drive | 21.4  | 258   | 110   | 3.215 |\n",
       "| Hornet Sportabout | 18.7  | 360   | 175   | 3.440 |\n",
       "| Valiant | 18.1  | 225   | 105   | 3.460 |\n",
       "\n"
      ],
      "text/plain": [
       "                  mpg  disp hp  wt   \n",
       "Mazda RX4         21.0 160  110 2.620\n",
       "Mazda RX4 Wag     21.0 160  110 2.875\n",
       "Datsun 710        22.8 108   93 2.320\n",
       "Hornet 4 Drive    21.4 258  110 3.215\n",
       "Hornet Sportabout 18.7 360  175 3.440\n",
       "Valiant           18.1 225  105 3.460"
      ]
     },
     "metadata": {},
     "output_type": "display_data"
    }
   ],
   "source": [
    "input <- mtcars[, c(\"mpg\", \"disp\", \"hp\", \"wt\")]\n",
    "head(input)"
   ]
  },
  {
   "cell_type": "code",
   "execution_count": 103,
   "metadata": {},
   "outputs": [
    {
     "data": {
      "text/html": [
       "0.71834334048973"
      ],
      "text/latex": [
       "0.71834334048973"
      ],
      "text/markdown": [
       "0.71834334048973"
      ],
      "text/plain": [
       "[1] 0.7183433"
      ]
     },
     "metadata": {},
     "output_type": "display_data"
    }
   ],
   "source": [
    "summary(lm(mpg ~ disp, data = input))$r.squared"
   ]
  },
  {
   "cell_type": "code",
   "execution_count": 104,
   "metadata": {},
   "outputs": [
    {
     "data": {
      "text/html": [
       "0.602437341423934"
      ],
      "text/latex": [
       "0.602437341423934"
      ],
      "text/markdown": [
       "0.602437341423934"
      ],
      "text/plain": [
       "[1] 0.6024373"
      ]
     },
     "metadata": {},
     "output_type": "display_data"
    }
   ],
   "source": [
    "summary(lm(mpg ~ hp, data = input))$r.squared"
   ]
  },
  {
   "cell_type": "code",
   "execution_count": 105,
   "metadata": {},
   "outputs": [
    {
     "data": {
      "text/html": [
       "0.752832793658264"
      ],
      "text/latex": [
       "0.752832793658264"
      ],
      "text/markdown": [
       "0.752832793658264"
      ],
      "text/plain": [
       "[1] 0.7528328"
      ]
     },
     "metadata": {},
     "output_type": "display_data"
    }
   ],
   "source": [
    "summary(lm(mpg ~ wt, data = input))$r.squared"
   ]
  },
  {
   "cell_type": "code",
   "execution_count": 106,
   "metadata": {},
   "outputs": [
    {
     "data": {
      "text/plain": [
       "\n",
       "Call:\n",
       "lm(formula = mpg ~ disp + hp + wt, data = input)\n",
       "\n",
       "Coefficients:\n",
       "(Intercept)         disp           hp           wt  \n",
       "  37.105505    -0.000937    -0.031157    -3.800891  \n"
      ]
     },
     "metadata": {},
     "output_type": "display_data"
    }
   ],
   "source": [
    "model <- lm(mpg ~ disp + hp + wt, data = input)\n",
    "model"
   ]
  },
  {
   "cell_type": "code",
   "execution_count": 107,
   "metadata": {},
   "outputs": [
    {
     "data": {
      "text/html": [
       "0.826836142494645"
      ],
      "text/latex": [
       "0.826836142494645"
      ],
      "text/markdown": [
       "0.826836142494645"
      ],
      "text/plain": [
       "[1] 0.8268361"
      ]
     },
     "metadata": {},
     "output_type": "display_data"
    }
   ],
   "source": [
    "summary(model)$r.squared"
   ]
  },
  {
   "cell_type": "markdown",
   "metadata": {},
   "source": [
    "## ANOVA"
   ]
  },
  {
   "cell_type": "code",
   "execution_count": 113,
   "metadata": {},
   "outputs": [
    {
     "data": {
      "text/html": [
       "<table>\n",
       "<thead><tr><th scope=col>Res.Df</th><th scope=col>RSS</th><th scope=col>Df</th><th scope=col>Sum of Sq</th><th scope=col>F</th><th scope=col>Pr(&gt;F)</th></tr></thead>\n",
       "<tbody>\n",
       "\t<tr><td>30         </td><td>317.1587   </td><td>NA         </td><td>      NA   </td><td>       NA  </td><td>         NA</td></tr>\n",
       "\t<tr><td>29         </td><td>283.4934   </td><td> 1         </td><td>33.66525   </td><td> 4.834216  </td><td>0.036328627</td></tr>\n",
       "\t<tr><td>28         </td><td>194.9907   </td><td> 1         </td><td>88.50276   </td><td>12.708696  </td><td>0.001330991</td></tr>\n",
       "</tbody>\n",
       "</table>\n"
      ],
      "text/latex": [
       "\\begin{tabular}{r|llllll}\n",
       " Res.Df & RSS & Df & Sum of Sq & F & Pr(>F)\\\\\n",
       "\\hline\n",
       "\t 30          & 317.1587    & NA          &       NA    &        NA   &          NA\\\\\n",
       "\t 29          & 283.4934    &  1          & 33.66525    &  4.834216   & 0.036328627\\\\\n",
       "\t 28          & 194.9907    &  1          & 88.50276    & 12.708696   & 0.001330991\\\\\n",
       "\\end{tabular}\n"
      ],
      "text/markdown": [
       "\n",
       "| Res.Df | RSS | Df | Sum of Sq | F | Pr(>F) |\n",
       "|---|---|---|---|---|---|\n",
       "| 30          | 317.1587    | NA          |       NA    |        NA   |          NA |\n",
       "| 29          | 283.4934    |  1          | 33.66525    |  4.834216   | 0.036328627 |\n",
       "| 28          | 194.9907    |  1          | 88.50276    | 12.708696   | 0.001330991 |\n",
       "\n"
      ],
      "text/plain": [
       "  Res.Df RSS      Df Sum of Sq F         Pr(>F)     \n",
       "1 30     317.1587 NA       NA         NA          NA\n",
       "2 29     283.4934  1 33.66525   4.834216 0.036328627\n",
       "3 28     194.9907  1 88.50276  12.708696 0.001330991"
      ]
     },
     "metadata": {},
     "output_type": "display_data"
    }
   ],
   "source": [
    "model1 <- lm(mpg ~ disp, data = input)\n",
    "model2 <- lm(mpg ~ disp + hp, data = input)\n",
    "model3 <- lm(mpg ~ disp + hp + wt, data = input)\n",
    "anova(model1, model2, model3)"
   ]
  },
  {
   "cell_type": "code",
   "execution_count": 123,
   "metadata": {},
   "outputs": [
    {
     "data": {
      "text/html": [
       "<table>\n",
       "<thead><tr><th></th><th scope=col>mpg</th><th scope=col>disp</th><th scope=col>hp</th><th scope=col>wt</th><th scope=col>cyl</th></tr></thead>\n",
       "<tbody>\n",
       "\t<tr><th scope=row>Mazda RX4</th><td>21.0 </td><td>160  </td><td>110  </td><td>2.620</td><td>6    </td></tr>\n",
       "\t<tr><th scope=row>Mazda RX4 Wag</th><td>21.0 </td><td>160  </td><td>110  </td><td>2.875</td><td>6    </td></tr>\n",
       "\t<tr><th scope=row>Datsun 710</th><td>22.8 </td><td>108  </td><td> 93  </td><td>2.320</td><td>4    </td></tr>\n",
       "\t<tr><th scope=row>Hornet 4 Drive</th><td>21.4 </td><td>258  </td><td>110  </td><td>3.215</td><td>6    </td></tr>\n",
       "\t<tr><th scope=row>Hornet Sportabout</th><td>18.7 </td><td>360  </td><td>175  </td><td>3.440</td><td>8    </td></tr>\n",
       "\t<tr><th scope=row>Valiant</th><td>18.1 </td><td>225  </td><td>105  </td><td>3.460</td><td>6    </td></tr>\n",
       "</tbody>\n",
       "</table>\n"
      ],
      "text/latex": [
       "\\begin{tabular}{r|lllll}\n",
       "  & mpg & disp & hp & wt & cyl\\\\\n",
       "\\hline\n",
       "\tMazda RX4 & 21.0  & 160   & 110   & 2.620 & 6    \\\\\n",
       "\tMazda RX4 Wag & 21.0  & 160   & 110   & 2.875 & 6    \\\\\n",
       "\tDatsun 710 & 22.8  & 108   &  93   & 2.320 & 4    \\\\\n",
       "\tHornet 4 Drive & 21.4  & 258   & 110   & 3.215 & 6    \\\\\n",
       "\tHornet Sportabout & 18.7  & 360   & 175   & 3.440 & 8    \\\\\n",
       "\tValiant & 18.1  & 225   & 105   & 3.460 & 6    \\\\\n",
       "\\end{tabular}\n"
      ],
      "text/markdown": [
       "\n",
       "| <!--/--> | mpg | disp | hp | wt | cyl |\n",
       "|---|---|---|---|---|---|\n",
       "| Mazda RX4 | 21.0  | 160   | 110   | 2.620 | 6     |\n",
       "| Mazda RX4 Wag | 21.0  | 160   | 110   | 2.875 | 6     |\n",
       "| Datsun 710 | 22.8  | 108   |  93   | 2.320 | 4     |\n",
       "| Hornet 4 Drive | 21.4  | 258   | 110   | 3.215 | 6     |\n",
       "| Hornet Sportabout | 18.7  | 360   | 175   | 3.440 | 8     |\n",
       "| Valiant | 18.1  | 225   | 105   | 3.460 | 6     |\n",
       "\n"
      ],
      "text/plain": [
       "                  mpg  disp hp  wt    cyl\n",
       "Mazda RX4         21.0 160  110 2.620 6  \n",
       "Mazda RX4 Wag     21.0 160  110 2.875 6  \n",
       "Datsun 710        22.8 108   93 2.320 4  \n",
       "Hornet 4 Drive    21.4 258  110 3.215 6  \n",
       "Hornet Sportabout 18.7 360  175 3.440 8  \n",
       "Valiant           18.1 225  105 3.460 6  "
      ]
     },
     "metadata": {},
     "output_type": "display_data"
    }
   ],
   "source": [
    "input <- mtcars[, c(\"mpg\", \"disp\", \"hp\", \"wt\", \"cyl\")]\n",
    "head(input)"
   ]
  },
  {
   "cell_type": "code",
   "execution_count": 125,
   "metadata": {},
   "outputs": [
    {
     "data": {
      "text/html": [
       "0.848634793421233"
      ],
      "text/latex": [
       "0.848634793421233"
      ],
      "text/markdown": [
       "0.848634793421233"
      ],
      "text/plain": [
       "[1] 0.8486348"
      ]
     },
     "metadata": {},
     "output_type": "display_data"
    }
   ],
   "source": [
    "summary(lm(mpg ~ disp + hp + wt + cyl, data = input))$r.squared"
   ]
  },
  {
   "cell_type": "code",
   "execution_count": 126,
   "metadata": {},
   "outputs": [
    {
     "data": {
      "text/html": [
       "<table>\n",
       "<thead><tr><th scope=col>Res.Df</th><th scope=col>RSS</th><th scope=col>Df</th><th scope=col>Sum of Sq</th><th scope=col>F</th><th scope=col>Pr(&gt;F)</th></tr></thead>\n",
       "<tbody>\n",
       "\t<tr><td>28        </td><td>194.9907  </td><td>NA        </td><td>      NA  </td><td>      NA  </td><td>        NA</td></tr>\n",
       "\t<tr><td>27        </td><td>170.4444  </td><td> 1        </td><td>24.54631  </td><td>3.888368  </td><td>0.05894681</td></tr>\n",
       "</tbody>\n",
       "</table>\n"
      ],
      "text/latex": [
       "\\begin{tabular}{r|llllll}\n",
       " Res.Df & RSS & Df & Sum of Sq & F & Pr(>F)\\\\\n",
       "\\hline\n",
       "\t 28         & 194.9907   & NA         &       NA   &       NA   &         NA\\\\\n",
       "\t 27         & 170.4444   &  1         & 24.54631   & 3.888368   & 0.05894681\\\\\n",
       "\\end{tabular}\n"
      ],
      "text/markdown": [
       "\n",
       "| Res.Df | RSS | Df | Sum of Sq | F | Pr(>F) |\n",
       "|---|---|---|---|---|---|\n",
       "| 28         | 194.9907   | NA         |       NA   |       NA   |         NA |\n",
       "| 27         | 170.4444   |  1         | 24.54631   | 3.888368   | 0.05894681 |\n",
       "\n"
      ],
      "text/plain": [
       "  Res.Df RSS      Df Sum of Sq F        Pr(>F)    \n",
       "1 28     194.9907 NA       NA        NA         NA\n",
       "2 27     170.4444  1 24.54631  3.888368 0.05894681"
      ]
     },
     "metadata": {},
     "output_type": "display_data"
    }
   ],
   "source": [
    "model1 <- lm(mpg ~ disp + hp + wt, data = input)\n",
    "model2 <- lm(mpg ~ disp + hp + wt + cyl, data = input)\n",
    "anova(model1, model2)"
   ]
  }
 ],
 "metadata": {
  "kernelspec": {
   "display_name": "R",
   "language": "R",
   "name": "ir"
  },
  "language_info": {
   "codemirror_mode": "r",
   "file_extension": ".r",
   "mimetype": "text/x-r-source",
   "name": "R",
   "pygments_lexer": "r",
   "version": "3.6.1"
  }
 },
 "nbformat": 4,
 "nbformat_minor": 2
}
