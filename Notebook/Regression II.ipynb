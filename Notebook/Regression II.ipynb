{
 "cells": [
  {
   "cell_type": "markdown",
   "metadata": {},
   "source": [
    "# Linear Regression"
   ]
  },
  {
   "cell_type": "code",
   "execution_count": 134,
   "metadata": {},
   "outputs": [],
   "source": [
    "library(UsingR)"
   ]
  },
  {
   "cell_type": "code",
   "execution_count": 135,
   "metadata": {},
   "outputs": [],
   "source": [
    "data(diamond)"
   ]
  },
  {
   "cell_type": "code",
   "execution_count": 136,
   "metadata": {},
   "outputs": [
    {
     "data": {
      "text/html": [
       "<table>\n",
       "<thead><tr><th scope=col>carat</th><th scope=col>price</th></tr></thead>\n",
       "<tbody>\n",
       "\t<tr><td>0.17</td><td>355 </td></tr>\n",
       "\t<tr><td>0.16</td><td>328 </td></tr>\n",
       "\t<tr><td>0.17</td><td>350 </td></tr>\n",
       "\t<tr><td>0.18</td><td>325 </td></tr>\n",
       "\t<tr><td>0.25</td><td>642 </td></tr>\n",
       "\t<tr><td>0.16</td><td>342 </td></tr>\n",
       "</tbody>\n",
       "</table>\n"
      ],
      "text/latex": [
       "\\begin{tabular}{r|ll}\n",
       " carat & price\\\\\n",
       "\\hline\n",
       "\t 0.17 & 355 \\\\\n",
       "\t 0.16 & 328 \\\\\n",
       "\t 0.17 & 350 \\\\\n",
       "\t 0.18 & 325 \\\\\n",
       "\t 0.25 & 642 \\\\\n",
       "\t 0.16 & 342 \\\\\n",
       "\\end{tabular}\n"
      ],
      "text/markdown": [
       "\n",
       "| carat | price |\n",
       "|---|---|\n",
       "| 0.17 | 355  |\n",
       "| 0.16 | 328  |\n",
       "| 0.17 | 350  |\n",
       "| 0.18 | 325  |\n",
       "| 0.25 | 642  |\n",
       "| 0.16 | 342  |\n",
       "\n"
      ],
      "text/plain": [
       "  carat price\n",
       "1 0.17  355  \n",
       "2 0.16  328  \n",
       "3 0.17  350  \n",
       "4 0.18  325  \n",
       "5 0.25  642  \n",
       "6 0.16  342  "
      ]
     },
     "metadata": {},
     "output_type": "display_data"
    }
   ],
   "source": [
    "head(diamond)"
   ]
  },
  {
   "cell_type": "code",
   "execution_count": 137,
   "metadata": {},
   "outputs": [],
   "source": [
    "library(ggplot2)"
   ]
  },
  {
   "cell_type": "code",
   "execution_count": 138,
   "metadata": {},
   "outputs": [
    {
     "data": {
      "image/png": "[encoded data removed]",
      "text/plain": [
       "plot without title"
      ]
     },
     "metadata": {},
     "output_type": "display_data"
    }
   ],
   "source": [
    "g = ggplot(diamond, aes(x = carat, y = price))\n",
    "g = g + xlab(\"Mass (carats)\")\n",
    "g = g + ylab(\"Price\")\n",
    "g = g + geom_point(size = 3, color = 'blue', alpha = 0.5)\n",
    "g = g + geom_smooth(method = \"lm\", color = \"black\")\n",
    "g"
   ]
  },
  {
   "cell_type": "code",
   "execution_count": 139,
   "metadata": {},
   "outputs": [
    {
     "data": {
      "text/plain": [
       "\n",
       "Call:\n",
       "lm(formula = price ~ carat, data = diamond)\n",
       "\n",
       "Coefficients:\n",
       "(Intercept)        carat  \n",
       "     -259.6       3721.0  \n"
      ]
     },
     "metadata": {},
     "output_type": "display_data"
    }
   ],
   "source": [
    "fit <- lm(price ~ carat, data = diamond)\n",
    "fit"
   ]
  },
  {
   "cell_type": "code",
   "execution_count": 140,
   "metadata": {},
   "outputs": [
    {
     "data": {
      "text/html": [
       "<strong>(Intercept):</strong> -259.625907191555"
      ],
      "text/latex": [
       "\\textbf{(Intercept):} -259.625907191555"
      ],
      "text/markdown": [
       "**(Intercept):** -259.625907191555"
      ],
      "text/plain": [
       "(Intercept) \n",
       "  -259.6259 "
      ]
     },
     "metadata": {},
     "output_type": "display_data"
    }
   ],
   "source": [
    "coef(fit)[1]"
   ]
  },
  {
   "cell_type": "code",
   "execution_count": 141,
   "metadata": {},
   "outputs": [
    {
     "data": {
      "text/html": [
       "<strong>carat:</strong> 3721.02485155047"
      ],
      "text/latex": [
       "\\textbf{carat:} 3721.02485155047"
      ],
      "text/markdown": [
       "**carat:** 3721.02485155047"
      ],
      "text/plain": [
       "   carat \n",
       "3721.025 "
      ]
     },
     "metadata": {},
     "output_type": "display_data"
    }
   ],
   "source": [
    "coef(fit)[2]"
   ]
  },
  {
   "cell_type": "code",
   "execution_count": 142,
   "metadata": {},
   "outputs": [
    {
     "data": {
      "text/html": [
       "<ol class=list-inline>\n",
       "\t<li>670.630305696063</li>\n",
       "\t<li>1117.15328788212</li>\n",
       "\t<li>3052.08621068837</li>\n",
       "</ol>\n"
      ],
      "text/latex": [
       "\\begin{enumerate*}\n",
       "\\item 670.630305696063\n",
       "\\item 1117.15328788212\n",
       "\\item 3052.08621068837\n",
       "\\end{enumerate*}\n"
      ],
      "text/markdown": [
       "1. 670.630305696063\n",
       "2. 1117.15328788212\n",
       "3. 3052.08621068837\n",
       "\n",
       "\n"
      ],
      "text/plain": [
       "[1]  670.6303 1117.1533 3052.0862"
      ]
     },
     "metadata": {},
     "output_type": "display_data"
    }
   ],
   "source": [
    "y <- coef(fit)[2] * c(0.25, 0.37, 0.89) + coef(fit)[1]\n",
    "y"
   ]
  },
  {
   "cell_type": "code",
   "execution_count": 143,
   "metadata": {},
   "outputs": [
    {
     "data": {
      "text/html": [
       "<dl class=dl-horizontal>\n",
       "\t<dt>1</dt>\n",
       "\t\t<dd>670.630305696063</dd>\n",
       "\t<dt>2</dt>\n",
       "\t\t<dd>1117.15328788212</dd>\n",
       "\t<dt>3</dt>\n",
       "\t\t<dd>3052.08621068837</dd>\n",
       "</dl>\n"
      ],
      "text/latex": [
       "\\begin{description*}\n",
       "\\item[1] 670.630305696063\n",
       "\\item[2] 1117.15328788212\n",
       "\\item[3] 3052.08621068837\n",
       "\\end{description*}\n"
      ],
      "text/markdown": [
       "1\n",
       ":   670.6303056960632\n",
       ":   1117.153287882123\n",
       ":   3052.08621068837\n",
       "\n"
      ],
      "text/plain": [
       "        1         2         3 \n",
       " 670.6303 1117.1533 3052.0862 "
      ]
     },
     "metadata": {},
     "output_type": "display_data"
    }
   ],
   "source": [
    "predict(fit, newdata = data.frame(carat = c(0.25, 0.37, 0.89)))"
   ]
  },
  {
   "cell_type": "code",
   "execution_count": 144,
   "metadata": {},
   "outputs": [
    {
     "data": {
      "text/html": [
       "0.978260777986033"
      ],
      "text/latex": [
       "0.978260777986033"
      ],
      "text/markdown": [
       "0.978260777986033"
      ],
      "text/plain": [
       "[1] 0.9782608"
      ]
     },
     "metadata": {},
     "output_type": "display_data"
    }
   ],
   "source": [
    "summary(fit)$r.squared"
   ]
  },
  {
   "cell_type": "markdown",
   "metadata": {},
   "source": [
    "### Plot this data on the graph itself"
   ]
  },
  {
   "cell_type": "code",
   "execution_count": null,
   "metadata": {},
   "outputs": [],
   "source": []
  },
  {
   "cell_type": "markdown",
   "metadata": {},
   "source": [
    "## Residuals"
   ]
  },
  {
   "cell_type": "code",
   "execution_count": 145,
   "metadata": {},
   "outputs": [
    {
     "data": {
      "image/png": "[encoded data removed]",
      "text/plain": [
       "plot without title"
      ]
     },
     "metadata": {},
     "output_type": "display_data"
    }
   ],
   "source": [
    "plot(diamond$carat, resid(fit), ylab = \"Residuals\", xlab = \"Carat\")\n",
    "abline(0, 0)"
   ]
  },
  {
   "cell_type": "code",
   "execution_count": 146,
   "metadata": {},
   "outputs": [
    {
     "data": {
      "text/html": [
       "<table>\n",
       "<thead><tr><th></th><th scope=col>Estimate</th><th scope=col>Std. Error</th><th scope=col>t value</th><th scope=col>Pr(&gt;|t|)</th></tr></thead>\n",
       "<tbody>\n",
       "\t<tr><th scope=row>(Intercept)</th><td>-259.6259   </td><td>17.31886    </td><td>-14.99094   </td><td>2.523271e-19</td></tr>\n",
       "\t<tr><th scope=row>carat</th><td>3721.0249   </td><td>81.78588    </td><td> 45.49715   </td><td>6.751260e-40</td></tr>\n",
       "</tbody>\n",
       "</table>\n"
      ],
      "text/latex": [
       "\\begin{tabular}{r|llll}\n",
       "  & Estimate & Std. Error & t value & Pr(>\\textbar{}t\\textbar{})\\\\\n",
       "\\hline\n",
       "\t(Intercept) & -259.6259    & 17.31886     & -14.99094    & 2.523271e-19\\\\\n",
       "\tcarat & 3721.0249    & 81.78588     &  45.49715    & 6.751260e-40\\\\\n",
       "\\end{tabular}\n"
      ],
      "text/markdown": [
       "\n",
       "| <!--/--> | Estimate | Std. Error | t value | Pr(>|t|) |\n",
       "|---|---|---|---|---|\n",
       "| (Intercept) | -259.6259    | 17.31886     | -14.99094    | 2.523271e-19 |\n",
       "| carat | 3721.0249    | 81.78588     |  45.49715    | 6.751260e-40 |\n",
       "\n"
      ],
      "text/plain": [
       "            Estimate  Std. Error t value   Pr(>|t|)    \n",
       "(Intercept) -259.6259 17.31886   -14.99094 2.523271e-19\n",
       "carat       3721.0249 81.78588    45.49715 6.751260e-40"
      ]
     },
     "metadata": {},
     "output_type": "display_data"
    }
   ],
   "source": [
    "sum_coef <- summary(fit)$coefficient\n",
    "sum_coef"
   ]
  },
  {
   "cell_type": "code",
   "execution_count": 147,
   "metadata": {},
   "outputs": [
    {
     "data": {
      "text/html": [
       "<ol class=list-inline>\n",
       "\t<li>355.639841290791</li>\n",
       "\t<li>388.565129019303</li>\n",
       "</ol>\n"
      ],
      "text/latex": [
       "\\begin{enumerate*}\n",
       "\\item 355.639841290791\n",
       "\\item 388.565129019303\n",
       "\\end{enumerate*}\n"
      ],
      "text/markdown": [
       "1. 355.639841290791\n",
       "2. 388.565129019303\n",
       "\n",
       "\n"
      ],
      "text/plain": [
       "[1] 355.6398 388.5651"
      ]
     },
     "metadata": {},
     "output_type": "display_data"
    }
   ],
   "source": [
    "(sum_coef[2,1] + c(-1,1) * qt(0.975, df = fit$df) * sum_coef[2,2])/10"
   ]
  },
  {
   "cell_type": "markdown",
   "metadata": {},
   "source": [
    "## Draw Ribbon Chart"
   ]
  },
  {
   "cell_type": "code",
   "execution_count": null,
   "metadata": {},
   "outputs": [],
   "source": []
  },
  {
   "cell_type": "markdown",
   "metadata": {},
   "source": [
    "## Mulitple (Multivariable) Linear Regression"
   ]
  },
  {
   "cell_type": "code",
   "execution_count": 148,
   "metadata": {},
   "outputs": [],
   "source": [
    "data(mtcars)"
   ]
  },
  {
   "cell_type": "code",
   "execution_count": 149,
   "metadata": {},
   "outputs": [
    {
     "data": {
      "text/html": [
       "<table>\n",
       "<thead><tr><th></th><th scope=col>mpg</th><th scope=col>cyl</th><th scope=col>disp</th><th scope=col>hp</th><th scope=col>drat</th><th scope=col>wt</th><th scope=col>qsec</th><th scope=col>vs</th><th scope=col>am</th><th scope=col>gear</th><th scope=col>carb</th></tr></thead>\n",
       "<tbody>\n",
       "\t<tr><th scope=row>Mazda RX4</th><td>21.0 </td><td>6    </td><td>160  </td><td>110  </td><td>3.90 </td><td>2.620</td><td>16.46</td><td>0    </td><td>1    </td><td>4    </td><td>4    </td></tr>\n",
       "\t<tr><th scope=row>Mazda RX4 Wag</th><td>21.0 </td><td>6    </td><td>160  </td><td>110  </td><td>3.90 </td><td>2.875</td><td>17.02</td><td>0    </td><td>1    </td><td>4    </td><td>4    </td></tr>\n",
       "\t<tr><th scope=row>Datsun 710</th><td>22.8 </td><td>4    </td><td>108  </td><td> 93  </td><td>3.85 </td><td>2.320</td><td>18.61</td><td>1    </td><td>1    </td><td>4    </td><td>1    </td></tr>\n",
       "\t<tr><th scope=row>Hornet 4 Drive</th><td>21.4 </td><td>6    </td><td>258  </td><td>110  </td><td>3.08 </td><td>3.215</td><td>19.44</td><td>1    </td><td>0    </td><td>3    </td><td>1    </td></tr>\n",
       "\t<tr><th scope=row>Hornet Sportabout</th><td>18.7 </td><td>8    </td><td>360  </td><td>175  </td><td>3.15 </td><td>3.440</td><td>17.02</td><td>0    </td><td>0    </td><td>3    </td><td>2    </td></tr>\n",
       "\t<tr><th scope=row>Valiant</th><td>18.1 </td><td>6    </td><td>225  </td><td>105  </td><td>2.76 </td><td>3.460</td><td>20.22</td><td>1    </td><td>0    </td><td>3    </td><td>1    </td></tr>\n",
       "</tbody>\n",
       "</table>\n"
      ],
      "text/latex": [
       "\\begin{tabular}{r|lllllllllll}\n",
       "  & mpg & cyl & disp & hp & drat & wt & qsec & vs & am & gear & carb\\\\\n",
       "\\hline\n",
       "\tMazda RX4 & 21.0  & 6     & 160   & 110   & 3.90  & 2.620 & 16.46 & 0     & 1     & 4     & 4    \\\\\n",
       "\tMazda RX4 Wag & 21.0  & 6     & 160   & 110   & 3.90  & 2.875 & 17.02 & 0     & 1     & 4     & 4    \\\\\n",
       "\tDatsun 710 & 22.8  & 4     & 108   &  93   & 3.85  & 2.320 & 18.61 & 1     & 1     & 4     & 1    \\\\\n",
       "\tHornet 4 Drive & 21.4  & 6     & 258   & 110   & 3.08  & 3.215 & 19.44 & 1     & 0     & 3     & 1    \\\\\n",
       "\tHornet Sportabout & 18.7  & 8     & 360   & 175   & 3.15  & 3.440 & 17.02 & 0     & 0     & 3     & 2    \\\\\n",
       "\tValiant & 18.1  & 6     & 225   & 105   & 2.76  & 3.460 & 20.22 & 1     & 0     & 3     & 1    \\\\\n",
       "\\end{tabular}\n"
      ],
      "text/markdown": [
       "\n",
       "| <!--/--> | mpg | cyl | disp | hp | drat | wt | qsec | vs | am | gear | carb |\n",
       "|---|---|---|---|---|---|---|---|---|---|---|---|\n",
       "| Mazda RX4 | 21.0  | 6     | 160   | 110   | 3.90  | 2.620 | 16.46 | 0     | 1     | 4     | 4     |\n",
       "| Mazda RX4 Wag | 21.0  | 6     | 160   | 110   | 3.90  | 2.875 | 17.02 | 0     | 1     | 4     | 4     |\n",
       "| Datsun 710 | 22.8  | 4     | 108   |  93   | 3.85  | 2.320 | 18.61 | 1     | 1     | 4     | 1     |\n",
       "| Hornet 4 Drive | 21.4  | 6     | 258   | 110   | 3.08  | 3.215 | 19.44 | 1     | 0     | 3     | 1     |\n",
       "| Hornet Sportabout | 18.7  | 8     | 360   | 175   | 3.15  | 3.440 | 17.02 | 0     | 0     | 3     | 2     |\n",
       "| Valiant | 18.1  | 6     | 225   | 105   | 2.76  | 3.460 | 20.22 | 1     | 0     | 3     | 1     |\n",
       "\n"
      ],
      "text/plain": [
       "                  mpg  cyl disp hp  drat wt    qsec  vs am gear carb\n",
       "Mazda RX4         21.0 6   160  110 3.90 2.620 16.46 0  1  4    4   \n",
       "Mazda RX4 Wag     21.0 6   160  110 3.90 2.875 17.02 0  1  4    4   \n",
       "Datsun 710        22.8 4   108   93 3.85 2.320 18.61 1  1  4    1   \n",
       "Hornet 4 Drive    21.4 6   258  110 3.08 3.215 19.44 1  0  3    1   \n",
       "Hornet Sportabout 18.7 8   360  175 3.15 3.440 17.02 0  0  3    2   \n",
       "Valiant           18.1 6   225  105 2.76 3.460 20.22 1  0  3    1   "
      ]
     },
     "metadata": {},
     "output_type": "display_data"
    }
   ],
   "source": [
    "head(mtcars)"
   ]
  },
  {
   "cell_type": "code",
   "execution_count": 150,
   "metadata": {},
   "outputs": [
    {
     "data": {
      "text/html": [
       "<table>\n",
       "<thead><tr><th></th><th scope=col>mpg</th><th scope=col>disp</th><th scope=col>hp</th><th scope=col>wt</th></tr></thead>\n",
       "<tbody>\n",
       "\t<tr><th scope=row>Mazda RX4</th><td>21.0 </td><td>160  </td><td>110  </td><td>2.620</td></tr>\n",
       "\t<tr><th scope=row>Mazda RX4 Wag</th><td>21.0 </td><td>160  </td><td>110  </td><td>2.875</td></tr>\n",
       "\t<tr><th scope=row>Datsun 710</th><td>22.8 </td><td>108  </td><td> 93  </td><td>2.320</td></tr>\n",
       "\t<tr><th scope=row>Hornet 4 Drive</th><td>21.4 </td><td>258  </td><td>110  </td><td>3.215</td></tr>\n",
       "\t<tr><th scope=row>Hornet Sportabout</th><td>18.7 </td><td>360  </td><td>175  </td><td>3.440</td></tr>\n",
       "\t<tr><th scope=row>Valiant</th><td>18.1 </td><td>225  </td><td>105  </td><td>3.460</td></tr>\n",
       "</tbody>\n",
       "</table>\n"
      ],
      "text/latex": [
       "\\begin{tabular}{r|llll}\n",
       "  & mpg & disp & hp & wt\\\\\n",
       "\\hline\n",
       "\tMazda RX4 & 21.0  & 160   & 110   & 2.620\\\\\n",
       "\tMazda RX4 Wag & 21.0  & 160   & 110   & 2.875\\\\\n",
       "\tDatsun 710 & 22.8  & 108   &  93   & 2.320\\\\\n",
       "\tHornet 4 Drive & 21.4  & 258   & 110   & 3.215\\\\\n",
       "\tHornet Sportabout & 18.7  & 360   & 175   & 3.440\\\\\n",
       "\tValiant & 18.1  & 225   & 105   & 3.460\\\\\n",
       "\\end{tabular}\n"
      ],
      "text/markdown": [
       "\n",
       "| <!--/--> | mpg | disp | hp | wt |\n",
       "|---|---|---|---|---|\n",
       "| Mazda RX4 | 21.0  | 160   | 110   | 2.620 |\n",
       "| Mazda RX4 Wag | 21.0  | 160   | 110   | 2.875 |\n",
       "| Datsun 710 | 22.8  | 108   |  93   | 2.320 |\n",
       "| Hornet 4 Drive | 21.4  | 258   | 110   | 3.215 |\n",
       "| Hornet Sportabout | 18.7  | 360   | 175   | 3.440 |\n",
       "| Valiant | 18.1  | 225   | 105   | 3.460 |\n",
       "\n"
      ],
      "text/plain": [
       "                  mpg  disp hp  wt   \n",
       "Mazda RX4         21.0 160  110 2.620\n",
       "Mazda RX4 Wag     21.0 160  110 2.875\n",
       "Datsun 710        22.8 108   93 2.320\n",
       "Hornet 4 Drive    21.4 258  110 3.215\n",
       "Hornet Sportabout 18.7 360  175 3.440\n",
       "Valiant           18.1 225  105 3.460"
      ]
     },
     "metadata": {},
     "output_type": "display_data"
    }
   ],
   "source": [
    "input <- mtcars[, c(\"mpg\", \"disp\", \"hp\", \"wt\")]\n",
    "head(input)"
   ]
  },
  {
   "cell_type": "code",
   "execution_count": 151,
   "metadata": {},
   "outputs": [
    {
     "data": {
      "text/html": [
       "0.71834334048973"
      ],
      "text/latex": [
       "0.71834334048973"
      ],
      "text/markdown": [
       "0.71834334048973"
      ],
      "text/plain": [
       "[1] 0.7183433"
      ]
     },
     "metadata": {},
     "output_type": "display_data"
    }
   ],
   "source": [
    "summary(lm(mpg ~ disp, data = input))$r.squared"
   ]
  },
  {
   "cell_type": "code",
   "execution_count": 152,
   "metadata": {},
   "outputs": [
    {
     "data": {
      "text/html": [
       "0.602437341423934"
      ],
      "text/latex": [
       "0.602437341423934"
      ],
      "text/markdown": [
       "0.602437341423934"
      ],
      "text/plain": [
       "[1] 0.6024373"
      ]
     },
     "metadata": {},
     "output_type": "display_data"
    }
   ],
   "source": [
    "summary(lm(mpg ~ hp, data = input))$r.squared"
   ]
  },
  {
   "cell_type": "code",
   "execution_count": 153,
   "metadata": {},
   "outputs": [
    {
     "data": {
      "text/html": [
       "0.752832793658264"
      ],
      "text/latex": [
       "0.752832793658264"
      ],
      "text/markdown": [
       "0.752832793658264"
      ],
      "text/plain": [
       "[1] 0.7528328"
      ]
     },
     "metadata": {},
     "output_type": "display_data"
    }
   ],
   "source": [
    "summary(lm(mpg ~ wt, data = input))$r.squared"
   ]
  },
  {
   "cell_type": "code",
   "execution_count": 154,
   "metadata": {},
   "outputs": [
    {
     "data": {
      "text/plain": [
       "\n",
       "Call:\n",
       "lm(formula = mpg ~ disp + hp + wt, data = input)\n",
       "\n",
       "Coefficients:\n",
       "(Intercept)         disp           hp           wt  \n",
       "  37.105505    -0.000937    -0.031157    -3.800891  \n"
      ]
     },
     "metadata": {},
     "output_type": "display_data"
    }
   ],
   "source": [
    "model <- lm(mpg ~ disp + hp + wt, data = input)\n",
    "model"
   ]
  },
  {
   "cell_type": "code",
   "execution_count": 155,
   "metadata": {},
   "outputs": [
    {
     "data": {
      "text/html": [
       "0.826836142494644"
      ],
      "text/latex": [
       "0.826836142494644"
      ],
      "text/markdown": [
       "0.826836142494644"
      ],
      "text/plain": [
       "[1] 0.8268361"
      ]
     },
     "metadata": {},
     "output_type": "display_data"
    }
   ],
   "source": [
    "summary(model)$r.squared"
   ]
  },
  {
   "cell_type": "code",
   "execution_count": 156,
   "metadata": {},
   "outputs": [
    {
     "data": {
      "image/png": "[encoded data removed]",
      "text/plain": [
       "plot without title"
      ]
     },
     "metadata": {},
     "output_type": "display_data"
    }
   ],
   "source": [
    "plot(mtcars$disp, resid(model), ylab = \"Residuals\", xlab = \"Disp\")\n",
    "abline(0, 0)"
   ]
  },
  {
   "cell_type": "markdown",
   "metadata": {},
   "source": [
    "## ANOVA"
   ]
  },
  {
   "cell_type": "code",
   "execution_count": 157,
   "metadata": {},
   "outputs": [
    {
     "data": {
      "text/html": [
       "<table>\n",
       "<thead><tr><th scope=col>Res.Df</th><th scope=col>RSS</th><th scope=col>Df</th><th scope=col>Sum of Sq</th><th scope=col>F</th><th scope=col>Pr(&gt;F)</th></tr></thead>\n",
       "<tbody>\n",
       "\t<tr><td>30         </td><td>317.1587   </td><td>NA         </td><td>      NA   </td><td>       NA  </td><td>         NA</td></tr>\n",
       "\t<tr><td>29         </td><td>283.4934   </td><td> 1         </td><td>33.66525   </td><td> 4.834216  </td><td>0.036328627</td></tr>\n",
       "\t<tr><td>28         </td><td>194.9907   </td><td> 1         </td><td>88.50276   </td><td>12.708696  </td><td>0.001330991</td></tr>\n",
       "</tbody>\n",
       "</table>\n"
      ],
      "text/latex": [
       "\\begin{tabular}{r|llllll}\n",
       " Res.Df & RSS & Df & Sum of Sq & F & Pr(>F)\\\\\n",
       "\\hline\n",
       "\t 30          & 317.1587    & NA          &       NA    &        NA   &          NA\\\\\n",
       "\t 29          & 283.4934    &  1          & 33.66525    &  4.834216   & 0.036328627\\\\\n",
       "\t 28          & 194.9907    &  1          & 88.50276    & 12.708696   & 0.001330991\\\\\n",
       "\\end{tabular}\n"
      ],
      "text/markdown": [
       "\n",
       "| Res.Df | RSS | Df | Sum of Sq | F | Pr(>F) |\n",
       "|---|---|---|---|---|---|\n",
       "| 30          | 317.1587    | NA          |       NA    |        NA   |          NA |\n",
       "| 29          | 283.4934    |  1          | 33.66525    |  4.834216   | 0.036328627 |\n",
       "| 28          | 194.9907    |  1          | 88.50276    | 12.708696   | 0.001330991 |\n",
       "\n"
      ],
      "text/plain": [
       "  Res.Df RSS      Df Sum of Sq F         Pr(>F)     \n",
       "1 30     317.1587 NA       NA         NA          NA\n",
       "2 29     283.4934  1 33.66525   4.834216 0.036328627\n",
       "3 28     194.9907  1 88.50276  12.708696 0.001330991"
      ]
     },
     "metadata": {},
     "output_type": "display_data"
    }
   ],
   "source": [
    "model1 <- lm(mpg ~ disp, data = input)\n",
    "model2 <- lm(mpg ~ disp + hp, data = input)\n",
    "model3 <- lm(mpg ~ disp + hp + wt, data = input)\n",
    "anova(model1, model2, model3)"
   ]
  },
  {
   "cell_type": "code",
   "execution_count": 158,
   "metadata": {},
   "outputs": [
    {
     "data": {
      "text/html": [
       "<table>\n",
       "<thead><tr><th></th><th scope=col>mpg</th><th scope=col>disp</th><th scope=col>hp</th><th scope=col>wt</th><th scope=col>cyl</th></tr></thead>\n",
       "<tbody>\n",
       "\t<tr><th scope=row>Mazda RX4</th><td>21.0 </td><td>160  </td><td>110  </td><td>2.620</td><td>6    </td></tr>\n",
       "\t<tr><th scope=row>Mazda RX4 Wag</th><td>21.0 </td><td>160  </td><td>110  </td><td>2.875</td><td>6    </td></tr>\n",
       "\t<tr><th scope=row>Datsun 710</th><td>22.8 </td><td>108  </td><td> 93  </td><td>2.320</td><td>4    </td></tr>\n",
       "\t<tr><th scope=row>Hornet 4 Drive</th><td>21.4 </td><td>258  </td><td>110  </td><td>3.215</td><td>6    </td></tr>\n",
       "\t<tr><th scope=row>Hornet Sportabout</th><td>18.7 </td><td>360  </td><td>175  </td><td>3.440</td><td>8    </td></tr>\n",
       "\t<tr><th scope=row>Valiant</th><td>18.1 </td><td>225  </td><td>105  </td><td>3.460</td><td>6    </td></tr>\n",
       "</tbody>\n",
       "</table>\n"
      ],
      "text/latex": [
       "\\begin{tabular}{r|lllll}\n",
       "  & mpg & disp & hp & wt & cyl\\\\\n",
       "\\hline\n",
       "\tMazda RX4 & 21.0  & 160   & 110   & 2.620 & 6    \\\\\n",
       "\tMazda RX4 Wag & 21.0  & 160   & 110   & 2.875 & 6    \\\\\n",
       "\tDatsun 710 & 22.8  & 108   &  93   & 2.320 & 4    \\\\\n",
       "\tHornet 4 Drive & 21.4  & 258   & 110   & 3.215 & 6    \\\\\n",
       "\tHornet Sportabout & 18.7  & 360   & 175   & 3.440 & 8    \\\\\n",
       "\tValiant & 18.1  & 225   & 105   & 3.460 & 6    \\\\\n",
       "\\end{tabular}\n"
      ],
      "text/markdown": [
       "\n",
       "| <!--/--> | mpg | disp | hp | wt | cyl |\n",
       "|---|---|---|---|---|---|\n",
       "| Mazda RX4 | 21.0  | 160   | 110   | 2.620 | 6     |\n",
       "| Mazda RX4 Wag | 21.0  | 160   | 110   | 2.875 | 6     |\n",
       "| Datsun 710 | 22.8  | 108   |  93   | 2.320 | 4     |\n",
       "| Hornet 4 Drive | 21.4  | 258   | 110   | 3.215 | 6     |\n",
       "| Hornet Sportabout | 18.7  | 360   | 175   | 3.440 | 8     |\n",
       "| Valiant | 18.1  | 225   | 105   | 3.460 | 6     |\n",
       "\n"
      ],
      "text/plain": [
       "                  mpg  disp hp  wt    cyl\n",
       "Mazda RX4         21.0 160  110 2.620 6  \n",
       "Mazda RX4 Wag     21.0 160  110 2.875 6  \n",
       "Datsun 710        22.8 108   93 2.320 4  \n",
       "Hornet 4 Drive    21.4 258  110 3.215 6  \n",
       "Hornet Sportabout 18.7 360  175 3.440 8  \n",
       "Valiant           18.1 225  105 3.460 6  "
      ]
     },
     "metadata": {},
     "output_type": "display_data"
    }
   ],
   "source": [
    "input <- mtcars[, c(\"mpg\", \"disp\", \"hp\", \"wt\", \"cyl\")]\n",
    "head(input)"
   ]
  },
  {
   "cell_type": "code",
   "execution_count": 159,
   "metadata": {},
   "outputs": [
    {
     "data": {
      "text/html": [
       "0.848634793421233"
      ],
      "text/latex": [
       "0.848634793421233"
      ],
      "text/markdown": [
       "0.848634793421233"
      ],
      "text/plain": [
       "[1] 0.8486348"
      ]
     },
     "metadata": {},
     "output_type": "display_data"
    }
   ],
   "source": [
    "summary(lm(mpg ~ disp + hp + wt + cyl, data = input))$r.squared"
   ]
  },
  {
   "cell_type": "code",
   "execution_count": 160,
   "metadata": {},
   "outputs": [
    {
     "data": {
      "text/html": [
       "<table>\n",
       "<thead><tr><th scope=col>Res.Df</th><th scope=col>RSS</th><th scope=col>Df</th><th scope=col>Sum of Sq</th><th scope=col>F</th><th scope=col>Pr(&gt;F)</th></tr></thead>\n",
       "<tbody>\n",
       "\t<tr><td>28        </td><td>194.9907  </td><td>NA        </td><td>      NA  </td><td>      NA  </td><td>        NA</td></tr>\n",
       "\t<tr><td>27        </td><td>170.4444  </td><td> 1        </td><td>24.54631  </td><td>3.888368  </td><td>0.05894681</td></tr>\n",
       "</tbody>\n",
       "</table>\n"
      ],
      "text/latex": [
       "\\begin{tabular}{r|llllll}\n",
       " Res.Df & RSS & Df & Sum of Sq & F & Pr(>F)\\\\\n",
       "\\hline\n",
       "\t 28         & 194.9907   & NA         &       NA   &       NA   &         NA\\\\\n",
       "\t 27         & 170.4444   &  1         & 24.54631   & 3.888368   & 0.05894681\\\\\n",
       "\\end{tabular}\n"
      ],
      "text/markdown": [
       "\n",
       "| Res.Df | RSS | Df | Sum of Sq | F | Pr(>F) |\n",
       "|---|---|---|---|---|---|\n",
       "| 28         | 194.9907   | NA         |       NA   |       NA   |         NA |\n",
       "| 27         | 170.4444   |  1         | 24.54631   | 3.888368   | 0.05894681 |\n",
       "\n"
      ],
      "text/plain": [
       "  Res.Df RSS      Df Sum of Sq F        Pr(>F)    \n",
       "1 28     194.9907 NA       NA        NA         NA\n",
       "2 27     170.4444  1 24.54631  3.888368 0.05894681"
      ]
     },
     "metadata": {},
     "output_type": "display_data"
    }
   ],
   "source": [
    "model1 <- lm(mpg ~ disp + hp + wt, data = input)\n",
    "model2 <- lm(mpg ~ disp + hp + wt + cyl, data = input)\n",
    "anova(model1, model2)"
   ]
  },
  {
   "cell_type": "markdown",
   "metadata": {},
   "source": [
    "## Polynomial Regression"
   ]
  },
  {
   "cell_type": "code",
   "execution_count": 161,
   "metadata": {},
   "outputs": [
    {
     "data": {
      "text/html": [
       "<table>\n",
       "<thead><tr><th scope=col>carat</th><th scope=col>price</th></tr></thead>\n",
       "<tbody>\n",
       "\t<tr><td>0.17</td><td>355 </td></tr>\n",
       "\t<tr><td>0.16</td><td>328 </td></tr>\n",
       "\t<tr><td>0.17</td><td>350 </td></tr>\n",
       "\t<tr><td>0.18</td><td>325 </td></tr>\n",
       "\t<tr><td>0.25</td><td>642 </td></tr>\n",
       "\t<tr><td>0.16</td><td>342 </td></tr>\n",
       "</tbody>\n",
       "</table>\n"
      ],
      "text/latex": [
       "\\begin{tabular}{r|ll}\n",
       " carat & price\\\\\n",
       "\\hline\n",
       "\t 0.17 & 355 \\\\\n",
       "\t 0.16 & 328 \\\\\n",
       "\t 0.17 & 350 \\\\\n",
       "\t 0.18 & 325 \\\\\n",
       "\t 0.25 & 642 \\\\\n",
       "\t 0.16 & 342 \\\\\n",
       "\\end{tabular}\n"
      ],
      "text/markdown": [
       "\n",
       "| carat | price |\n",
       "|---|---|\n",
       "| 0.17 | 355  |\n",
       "| 0.16 | 328  |\n",
       "| 0.17 | 350  |\n",
       "| 0.18 | 325  |\n",
       "| 0.25 | 642  |\n",
       "| 0.16 | 342  |\n",
       "\n"
      ],
      "text/plain": [
       "  carat price\n",
       "1 0.17  355  \n",
       "2 0.16  328  \n",
       "3 0.17  350  \n",
       "4 0.18  325  \n",
       "5 0.25  642  \n",
       "6 0.16  342  "
      ]
     },
     "metadata": {},
     "output_type": "display_data"
    }
   ],
   "source": [
    "head(diamond)"
   ]
  },
  {
   "cell_type": "code",
   "execution_count": 162,
   "metadata": {},
   "outputs": [
    {
     "data": {
      "text/html": [
       "<dl class=dl-horizontal>\n",
       "\t<dt>(Intercept)</dt>\n",
       "\t\t<dd>1.85679505847608</dd>\n",
       "\t<dt>poly(carat, 3, raw = TRUE)1</dt>\n",
       "\t\t<dd>490.114304921189</dd>\n",
       "\t<dt>poly(carat, 3, raw = TRUE)2</dt>\n",
       "\t\t<dd>12438.5736679992</dd>\n",
       "\t<dt>poly(carat, 3, raw = TRUE)3</dt>\n",
       "\t\t<dd>-15044.7596187787</dd>\n",
       "</dl>\n"
      ],
      "text/latex": [
       "\\begin{description*}\n",
       "\\item[(Intercept)] 1.85679505847608\n",
       "\\item[poly(carat, 3, raw = TRUE)1] 490.114304921189\n",
       "\\item[poly(carat, 3, raw = TRUE)2] 12438.5736679992\n",
       "\\item[poly(carat, 3, raw = TRUE)3] -15044.7596187787\n",
       "\\end{description*}\n"
      ],
      "text/markdown": [
       "(Intercept)\n",
       ":   1.85679505847608poly(carat, 3, raw = TRUE)1\n",
       ":   490.114304921189poly(carat, 3, raw = TRUE)2\n",
       ":   12438.5736679992poly(carat, 3, raw = TRUE)3\n",
       ":   -15044.7596187787\n",
       "\n"
      ],
      "text/plain": [
       "                (Intercept) poly(carat, 3, raw = TRUE)1 \n",
       "                   1.856795                  490.114305 \n",
       "poly(carat, 3, raw = TRUE)2 poly(carat, 3, raw = TRUE)3 \n",
       "               12438.573668               -15044.759619 "
      ]
     },
     "metadata": {},
     "output_type": "display_data"
    },
    {
     "data": {
      "text/html": [
       "0.979114406099778"
      ],
      "text/latex": [
       "0.979114406099778"
      ],
      "text/markdown": [
       "0.979114406099778"
      ],
      "text/plain": [
       "[1] 0.9791144"
      ]
     },
     "metadata": {},
     "output_type": "display_data"
    }
   ],
   "source": [
    "poly_fit <- lm(price ~ poly(carat, 3, raw = TRUE), data = diamond)\n",
    "coef(poly_fit)\n",
    "summary(poly_fit)$r.squared"
   ]
  },
  {
   "cell_type": "code",
   "execution_count": 163,
   "metadata": {},
   "outputs": [
    {
     "data": {
      "image/png": "[encoded data removed]",
      "text/plain": [
       "plot without title"
      ]
     },
     "metadata": {},
     "output_type": "display_data"
    }
   ],
   "source": [
    "x <- diamond$carat\n",
    "y <- diamond$price\n",
    "g = ggplot(diamond, aes(x = carat, y = price))\n",
    "g = g + xlab(\"Mass (carats)\")\n",
    "g = g + ylab(\"Price\")\n",
    "g = g + geom_point(size = 3, color = 'blue', alpha = 0.5)\n",
    "g = g + stat_smooth(method = lm, formula = y ~ poly(x, 3, raw = TRUE))\n",
    "g"
   ]
  },
  {
   "cell_type": "code",
   "execution_count": 164,
   "metadata": {},
   "outputs": [
    {
     "data": {
      "image/png": "[encoded data removed]",
      "text/plain": [
       "plot without title"
      ]
     },
     "metadata": {},
     "output_type": "display_data"
    }
   ],
   "source": [
    "plot(diamond$carat, resid(poly_fit), ylab = \"Residuals\", xlab = \"Carat\")\n",
    "abline(0, 0)"
   ]
  },
  {
   "cell_type": "code",
   "execution_count": 165,
   "metadata": {},
   "outputs": [
    {
     "data": {
      "text/html": [
       "<table>\n",
       "<thead><tr><th></th><th scope=col>mpg</th><th scope=col>disp</th><th scope=col>hp</th><th scope=col>wt</th></tr></thead>\n",
       "<tbody>\n",
       "\t<tr><th scope=row>Mazda RX4</th><td>21.0 </td><td>160  </td><td>110  </td><td>2.620</td></tr>\n",
       "\t<tr><th scope=row>Mazda RX4 Wag</th><td>21.0 </td><td>160  </td><td>110  </td><td>2.875</td></tr>\n",
       "\t<tr><th scope=row>Datsun 710</th><td>22.8 </td><td>108  </td><td> 93  </td><td>2.320</td></tr>\n",
       "\t<tr><th scope=row>Hornet 4 Drive</th><td>21.4 </td><td>258  </td><td>110  </td><td>3.215</td></tr>\n",
       "\t<tr><th scope=row>Hornet Sportabout</th><td>18.7 </td><td>360  </td><td>175  </td><td>3.440</td></tr>\n",
       "\t<tr><th scope=row>Valiant</th><td>18.1 </td><td>225  </td><td>105  </td><td>3.460</td></tr>\n",
       "</tbody>\n",
       "</table>\n"
      ],
      "text/latex": [
       "\\begin{tabular}{r|llll}\n",
       "  & mpg & disp & hp & wt\\\\\n",
       "\\hline\n",
       "\tMazda RX4 & 21.0  & 160   & 110   & 2.620\\\\\n",
       "\tMazda RX4 Wag & 21.0  & 160   & 110   & 2.875\\\\\n",
       "\tDatsun 710 & 22.8  & 108   &  93   & 2.320\\\\\n",
       "\tHornet 4 Drive & 21.4  & 258   & 110   & 3.215\\\\\n",
       "\tHornet Sportabout & 18.7  & 360   & 175   & 3.440\\\\\n",
       "\tValiant & 18.1  & 225   & 105   & 3.460\\\\\n",
       "\\end{tabular}\n"
      ],
      "text/markdown": [
       "\n",
       "| <!--/--> | mpg | disp | hp | wt |\n",
       "|---|---|---|---|---|\n",
       "| Mazda RX4 | 21.0  | 160   | 110   | 2.620 |\n",
       "| Mazda RX4 Wag | 21.0  | 160   | 110   | 2.875 |\n",
       "| Datsun 710 | 22.8  | 108   |  93   | 2.320 |\n",
       "| Hornet 4 Drive | 21.4  | 258   | 110   | 3.215 |\n",
       "| Hornet Sportabout | 18.7  | 360   | 175   | 3.440 |\n",
       "| Valiant | 18.1  | 225   | 105   | 3.460 |\n",
       "\n"
      ],
      "text/plain": [
       "                  mpg  disp hp  wt   \n",
       "Mazda RX4         21.0 160  110 2.620\n",
       "Mazda RX4 Wag     21.0 160  110 2.875\n",
       "Datsun 710        22.8 108   93 2.320\n",
       "Hornet 4 Drive    21.4 258  110 3.215\n",
       "Hornet Sportabout 18.7 360  175 3.440\n",
       "Valiant           18.1 225  105 3.460"
      ]
     },
     "metadata": {},
     "output_type": "display_data"
    }
   ],
   "source": [
    "input <- mtcars[, c(\"mpg\", \"disp\", \"hp\", \"wt\")]\n",
    "head(input)"
   ]
  },
  {
   "cell_type": "markdown",
   "metadata": {},
   "source": [
    "## Multiple Polynomial Regression"
   ]
  },
  {
   "cell_type": "code",
   "execution_count": 187,
   "metadata": {},
   "outputs": [
    {
     "data": {
      "text/html": [
       "0.917211174661671"
      ],
      "text/latex": [
       "0.917211174661671"
      ],
      "text/markdown": [
       "0.917211174661671"
      ],
      "text/plain": [
       "[1] 0.9172112"
      ]
     },
     "metadata": {},
     "output_type": "display_data"
    }
   ],
   "source": [
    "m_poly_fit <- lm(mpg ~ poly(disp, 3, raw = T) + poly(hp, 3, raw = T) + poly(wt, 3, raw = T), data = mtcars)\n",
    "summary(m_poly_fit)$r.squared"
   ]
  },
  {
   "cell_type": "markdown",
   "metadata": {},
   "source": [
    "# Logistic Regression"
   ]
  },
  {
   "cell_type": "code",
   "execution_count": 167,
   "metadata": {},
   "outputs": [
    {
     "data": {
      "text/html": [
       "<table>\n",
       "<thead><tr><th></th><th scope=col>mpg</th><th scope=col>cyl</th><th scope=col>disp</th><th scope=col>hp</th><th scope=col>drat</th><th scope=col>wt</th><th scope=col>qsec</th><th scope=col>vs</th><th scope=col>am</th><th scope=col>gear</th><th scope=col>carb</th></tr></thead>\n",
       "<tbody>\n",
       "\t<tr><th scope=row>Mazda RX4</th><td>21.0 </td><td>6    </td><td>160  </td><td>110  </td><td>3.90 </td><td>2.620</td><td>16.46</td><td>0    </td><td>1    </td><td>4    </td><td>4    </td></tr>\n",
       "\t<tr><th scope=row>Mazda RX4 Wag</th><td>21.0 </td><td>6    </td><td>160  </td><td>110  </td><td>3.90 </td><td>2.875</td><td>17.02</td><td>0    </td><td>1    </td><td>4    </td><td>4    </td></tr>\n",
       "\t<tr><th scope=row>Datsun 710</th><td>22.8 </td><td>4    </td><td>108  </td><td> 93  </td><td>3.85 </td><td>2.320</td><td>18.61</td><td>1    </td><td>1    </td><td>4    </td><td>1    </td></tr>\n",
       "\t<tr><th scope=row>Hornet 4 Drive</th><td>21.4 </td><td>6    </td><td>258  </td><td>110  </td><td>3.08 </td><td>3.215</td><td>19.44</td><td>1    </td><td>0    </td><td>3    </td><td>1    </td></tr>\n",
       "\t<tr><th scope=row>Hornet Sportabout</th><td>18.7 </td><td>8    </td><td>360  </td><td>175  </td><td>3.15 </td><td>3.440</td><td>17.02</td><td>0    </td><td>0    </td><td>3    </td><td>2    </td></tr>\n",
       "\t<tr><th scope=row>Valiant</th><td>18.1 </td><td>6    </td><td>225  </td><td>105  </td><td>2.76 </td><td>3.460</td><td>20.22</td><td>1    </td><td>0    </td><td>3    </td><td>1    </td></tr>\n",
       "</tbody>\n",
       "</table>\n"
      ],
      "text/latex": [
       "\\begin{tabular}{r|lllllllllll}\n",
       "  & mpg & cyl & disp & hp & drat & wt & qsec & vs & am & gear & carb\\\\\n",
       "\\hline\n",
       "\tMazda RX4 & 21.0  & 6     & 160   & 110   & 3.90  & 2.620 & 16.46 & 0     & 1     & 4     & 4    \\\\\n",
       "\tMazda RX4 Wag & 21.0  & 6     & 160   & 110   & 3.90  & 2.875 & 17.02 & 0     & 1     & 4     & 4    \\\\\n",
       "\tDatsun 710 & 22.8  & 4     & 108   &  93   & 3.85  & 2.320 & 18.61 & 1     & 1     & 4     & 1    \\\\\n",
       "\tHornet 4 Drive & 21.4  & 6     & 258   & 110   & 3.08  & 3.215 & 19.44 & 1     & 0     & 3     & 1    \\\\\n",
       "\tHornet Sportabout & 18.7  & 8     & 360   & 175   & 3.15  & 3.440 & 17.02 & 0     & 0     & 3     & 2    \\\\\n",
       "\tValiant & 18.1  & 6     & 225   & 105   & 2.76  & 3.460 & 20.22 & 1     & 0     & 3     & 1    \\\\\n",
       "\\end{tabular}\n"
      ],
      "text/markdown": [
       "\n",
       "| <!--/--> | mpg | cyl | disp | hp | drat | wt | qsec | vs | am | gear | carb |\n",
       "|---|---|---|---|---|---|---|---|---|---|---|---|\n",
       "| Mazda RX4 | 21.0  | 6     | 160   | 110   | 3.90  | 2.620 | 16.46 | 0     | 1     | 4     | 4     |\n",
       "| Mazda RX4 Wag | 21.0  | 6     | 160   | 110   | 3.90  | 2.875 | 17.02 | 0     | 1     | 4     | 4     |\n",
       "| Datsun 710 | 22.8  | 4     | 108   |  93   | 3.85  | 2.320 | 18.61 | 1     | 1     | 4     | 1     |\n",
       "| Hornet 4 Drive | 21.4  | 6     | 258   | 110   | 3.08  | 3.215 | 19.44 | 1     | 0     | 3     | 1     |\n",
       "| Hornet Sportabout | 18.7  | 8     | 360   | 175   | 3.15  | 3.440 | 17.02 | 0     | 0     | 3     | 2     |\n",
       "| Valiant | 18.1  | 6     | 225   | 105   | 2.76  | 3.460 | 20.22 | 1     | 0     | 3     | 1     |\n",
       "\n"
      ],
      "text/plain": [
       "                  mpg  cyl disp hp  drat wt    qsec  vs am gear carb\n",
       "Mazda RX4         21.0 6   160  110 3.90 2.620 16.46 0  1  4    4   \n",
       "Mazda RX4 Wag     21.0 6   160  110 3.90 2.875 17.02 0  1  4    4   \n",
       "Datsun 710        22.8 4   108   93 3.85 2.320 18.61 1  1  4    1   \n",
       "Hornet 4 Drive    21.4 6   258  110 3.08 3.215 19.44 1  0  3    1   \n",
       "Hornet Sportabout 18.7 8   360  175 3.15 3.440 17.02 0  0  3    2   \n",
       "Valiant           18.1 6   225  105 2.76 3.460 20.22 1  0  3    1   "
      ]
     },
     "metadata": {},
     "output_type": "display_data"
    }
   ],
   "source": [
    "head(mtcars)"
   ]
  },
  {
   "cell_type": "code",
   "execution_count": 168,
   "metadata": {},
   "outputs": [
    {
     "data": {
      "text/html": [
       "<table>\n",
       "<thead><tr><th></th><th scope=col>am</th><th scope=col>cyl</th><th scope=col>hp</th><th scope=col>wt</th></tr></thead>\n",
       "<tbody>\n",
       "\t<tr><th scope=row>Mazda RX4</th><td>1    </td><td>6    </td><td>110  </td><td>2.620</td></tr>\n",
       "\t<tr><th scope=row>Mazda RX4 Wag</th><td>1    </td><td>6    </td><td>110  </td><td>2.875</td></tr>\n",
       "\t<tr><th scope=row>Datsun 710</th><td>1    </td><td>4    </td><td> 93  </td><td>2.320</td></tr>\n",
       "\t<tr><th scope=row>Hornet 4 Drive</th><td>0    </td><td>6    </td><td>110  </td><td>3.215</td></tr>\n",
       "\t<tr><th scope=row>Hornet Sportabout</th><td>0    </td><td>8    </td><td>175  </td><td>3.440</td></tr>\n",
       "\t<tr><th scope=row>Valiant</th><td>0    </td><td>6    </td><td>105  </td><td>3.460</td></tr>\n",
       "</tbody>\n",
       "</table>\n"
      ],
      "text/latex": [
       "\\begin{tabular}{r|llll}\n",
       "  & am & cyl & hp & wt\\\\\n",
       "\\hline\n",
       "\tMazda RX4 & 1     & 6     & 110   & 2.620\\\\\n",
       "\tMazda RX4 Wag & 1     & 6     & 110   & 2.875\\\\\n",
       "\tDatsun 710 & 1     & 4     &  93   & 2.320\\\\\n",
       "\tHornet 4 Drive & 0     & 6     & 110   & 3.215\\\\\n",
       "\tHornet Sportabout & 0     & 8     & 175   & 3.440\\\\\n",
       "\tValiant & 0     & 6     & 105   & 3.460\\\\\n",
       "\\end{tabular}\n"
      ],
      "text/markdown": [
       "\n",
       "| <!--/--> | am | cyl | hp | wt |\n",
       "|---|---|---|---|---|\n",
       "| Mazda RX4 | 1     | 6     | 110   | 2.620 |\n",
       "| Mazda RX4 Wag | 1     | 6     | 110   | 2.875 |\n",
       "| Datsun 710 | 1     | 4     |  93   | 2.320 |\n",
       "| Hornet 4 Drive | 0     | 6     | 110   | 3.215 |\n",
       "| Hornet Sportabout | 0     | 8     | 175   | 3.440 |\n",
       "| Valiant | 0     | 6     | 105   | 3.460 |\n",
       "\n"
      ],
      "text/plain": [
       "                  am cyl hp  wt   \n",
       "Mazda RX4         1  6   110 2.620\n",
       "Mazda RX4 Wag     1  6   110 2.875\n",
       "Datsun 710        1  4    93 2.320\n",
       "Hornet 4 Drive    0  6   110 3.215\n",
       "Hornet Sportabout 0  8   175 3.440\n",
       "Valiant           0  6   105 3.460"
      ]
     },
     "metadata": {},
     "output_type": "display_data"
    }
   ],
   "source": [
    "input <- mtcars[, c(\"am\", \"cyl\", \"hp\", \"wt\")]\n",
    "head(input)"
   ]
  },
  {
   "cell_type": "code",
   "execution_count": 169,
   "metadata": {},
   "outputs": [
    {
     "data": {
      "text/plain": [
       "\n",
       "Call:  glm(formula = am ~ cyl + hp + wt, family = \"binomial\", data = input)\n",
       "\n",
       "Coefficients:\n",
       "(Intercept)          cyl           hp           wt  \n",
       "   19.70288      0.48760      0.03259     -9.14947  \n",
       "\n",
       "Degrees of Freedom: 31 Total (i.e. Null);  28 Residual\n",
       "Null Deviance:\t    43.23 \n",
       "Residual Deviance: 9.841 \tAIC: 17.84"
      ]
     },
     "metadata": {},
     "output_type": "display_data"
    }
   ],
   "source": [
    "model <- glm(formula = am ~ cyl + hp + wt, data = input, family = \"binomial\")\n",
    "model"
   ]
  },
  {
   "cell_type": "code",
   "execution_count": 170,
   "metadata": {},
   "outputs": [
    {
     "data": {
      "text/plain": [
       "\n",
       "Call:\n",
       "glm(formula = am ~ cyl + hp + wt, family = \"binomial\", data = input)\n",
       "\n",
       "Deviance Residuals: \n",
       "     Min        1Q    Median        3Q       Max  \n",
       "-2.17272  -0.14907  -0.01464   0.14116   1.27641  \n",
       "\n",
       "Coefficients:\n",
       "            Estimate Std. Error z value Pr(>|z|)  \n",
       "(Intercept) 19.70288    8.11637   2.428   0.0152 *\n",
       "cyl          0.48760    1.07162   0.455   0.6491  \n",
       "hp           0.03259    0.01886   1.728   0.0840 .\n",
       "wt          -9.14947    4.15332  -2.203   0.0276 *\n",
       "---\n",
       "Signif. codes:  0 '***' 0.001 '**' 0.01 '*' 0.05 '.' 0.1 ' ' 1\n",
       "\n",
       "(Dispersion parameter for binomial family taken to be 1)\n",
       "\n",
       "    Null deviance: 43.2297  on 31  degrees of freedom\n",
       "Residual deviance:  9.8415  on 28  degrees of freedom\n",
       "AIC: 17.841\n",
       "\n",
       "Number of Fisher Scoring iterations: 8\n"
      ]
     },
     "metadata": {},
     "output_type": "display_data"
    }
   ],
   "source": [
    "summary(model)"
   ]
  },
  {
   "cell_type": "code",
   "execution_count": 171,
   "metadata": {},
   "outputs": [
    {
     "data": {
      "text/html": [
       "<table>\n",
       "<thead><tr><th></th><th scope=col>am</th><th scope=col>cyl</th><th scope=col>hp</th><th scope=col>wt</th></tr></thead>\n",
       "<tbody>\n",
       "\t<tr><th scope=row>Chrysler Imperial</th><td>0    </td><td>8    </td><td>230  </td><td>5.345</td></tr>\n",
       "</tbody>\n",
       "</table>\n"
      ],
      "text/latex": [
       "\\begin{tabular}{r|llll}\n",
       "  & am & cyl & hp & wt\\\\\n",
       "\\hline\n",
       "\tChrysler Imperial & 0     & 8     & 230   & 5.345\\\\\n",
       "\\end{tabular}\n"
      ],
      "text/markdown": [
       "\n",
       "| <!--/--> | am | cyl | hp | wt |\n",
       "|---|---|---|---|---|\n",
       "| Chrysler Imperial | 0     | 8     | 230   | 5.345 |\n",
       "\n"
      ],
      "text/plain": [
       "                  am cyl hp  wt   \n",
       "Chrysler Imperial 0  8   230 5.345"
      ]
     },
     "metadata": {},
     "output_type": "display_data"
    },
    {
     "data": {
      "text/html": [
       "<strong>Chrysler Imperial:</strong> 0"
      ],
      "text/latex": [
       "\\textbf{Chrysler Imperial:} 0"
      ],
      "text/markdown": [
       "**Chrysler Imperial:** 0"
      ],
      "text/plain": [
       "Chrysler Imperial \n",
       "                0 "
      ]
     },
     "metadata": {},
     "output_type": "display_data"
    }
   ],
   "source": [
    "input[17,]\n",
    "prob <- predict(model, newdata = input[17,-1], type=\"response\")\n",
    "ifelse(prob > 0.5, 1, 0)"
   ]
  },
  {
   "cell_type": "code",
   "execution_count": 172,
   "metadata": {},
   "outputs": [
    {
     "data": {
      "text/html": [
       "<table>\n",
       "<thead><tr><th></th><th scope=col>am</th><th scope=col>cyl</th><th scope=col>hp</th><th scope=col>wt</th></tr></thead>\n",
       "<tbody>\n",
       "\t<tr><th scope=row>Porsche 914-2</th><td>1   </td><td>4   </td><td>91  </td><td>2.14</td></tr>\n",
       "</tbody>\n",
       "</table>\n"
      ],
      "text/latex": [
       "\\begin{tabular}{r|llll}\n",
       "  & am & cyl & hp & wt\\\\\n",
       "\\hline\n",
       "\tPorsche 914-2 & 1    & 4    & 91   & 2.14\\\\\n",
       "\\end{tabular}\n"
      ],
      "text/markdown": [
       "\n",
       "| <!--/--> | am | cyl | hp | wt |\n",
       "|---|---|---|---|---|\n",
       "| Porsche 914-2 | 1    | 4    | 91   | 2.14 |\n",
       "\n"
      ],
      "text/plain": [
       "              am cyl hp wt  \n",
       "Porsche 914-2 1  4   91 2.14"
      ]
     },
     "metadata": {},
     "output_type": "display_data"
    },
    {
     "data": {
      "text/html": [
       "<strong>Porsche 914-2:</strong> 1"
      ],
      "text/latex": [
       "\\textbf{Porsche 914-2:} 1"
      ],
      "text/markdown": [
       "**Porsche 914-2:** 1"
      ],
      "text/plain": [
       "Porsche 914-2 \n",
       "            1 "
      ]
     },
     "metadata": {},
     "output_type": "display_data"
    }
   ],
   "source": [
    "input[27,]\n",
    "prob <- predict(model, newdata = input[27, -1], type=\"response\")\n",
    "ifelse(prob > 0.5, 1, 0)"
   ]
  },
  {
   "cell_type": "code",
   "execution_count": 173,
   "metadata": {},
   "outputs": [
    {
     "data": {
      "text/html": [
       "<strong>1:</strong> 0"
      ],
      "text/latex": [
       "\\textbf{1:} 0"
      ],
      "text/markdown": [
       "**1:** 0"
      ],
      "text/plain": [
       "1 \n",
       "0 "
      ]
     },
     "metadata": {},
     "output_type": "display_data"
    }
   ],
   "source": [
    "d = data.frame(cyl = 9, hp = 300, wt = 7)\n",
    "prob <- predict(model, newdata = d, type=\"response\")\n",
    "ifelse(prob > 0.5, 1, 0)"
   ]
  },
  {
   "cell_type": "markdown",
   "metadata": {},
   "source": [
    "## Practice Dataset"
   ]
  },
  {
   "cell_type": "code",
   "execution_count": 174,
   "metadata": {},
   "outputs": [],
   "source": [
    "data(Seatbelts)"
   ]
  },
  {
   "cell_type": "code",
   "execution_count": 175,
   "metadata": {},
   "outputs": [],
   "source": [
    "seat_belts <- as.data.frame(Seatbelts)"
   ]
  },
  {
   "cell_type": "code",
   "execution_count": 176,
   "metadata": {},
   "outputs": [
    {
     "data": {
      "text/html": [
       "<table>\n",
       "<thead><tr><th scope=col>DriversKilled</th><th scope=col>drivers</th><th scope=col>front</th><th scope=col>rear</th><th scope=col>kms</th><th scope=col>PetrolPrice</th><th scope=col>VanKilled</th><th scope=col>law</th></tr></thead>\n",
       "<tbody>\n",
       "\t<tr><td>107      </td><td>1687     </td><td>867      </td><td>269      </td><td> 9059    </td><td>0.1029718</td><td>12       </td><td>0        </td></tr>\n",
       "\t<tr><td> 97      </td><td>1508     </td><td>825      </td><td>265      </td><td> 7685    </td><td>0.1023630</td><td> 6       </td><td>0        </td></tr>\n",
       "\t<tr><td>102      </td><td>1507     </td><td>806      </td><td>319      </td><td> 9963    </td><td>0.1020625</td><td>12       </td><td>0        </td></tr>\n",
       "\t<tr><td> 87      </td><td>1385     </td><td>814      </td><td>407      </td><td>10955    </td><td>0.1008733</td><td> 8       </td><td>0        </td></tr>\n",
       "\t<tr><td>119      </td><td>1632     </td><td>991      </td><td>454      </td><td>11823    </td><td>0.1010197</td><td>10       </td><td>0        </td></tr>\n",
       "\t<tr><td>106      </td><td>1511     </td><td>945      </td><td>427      </td><td>12391    </td><td>0.1005812</td><td>13       </td><td>0        </td></tr>\n",
       "</tbody>\n",
       "</table>\n"
      ],
      "text/latex": [
       "\\begin{tabular}{r|llllllll}\n",
       " DriversKilled & drivers & front & rear & kms & PetrolPrice & VanKilled & law\\\\\n",
       "\\hline\n",
       "\t 107       & 1687      & 867       & 269       &  9059     & 0.1029718 & 12        & 0        \\\\\n",
       "\t  97       & 1508      & 825       & 265       &  7685     & 0.1023630 &  6        & 0        \\\\\n",
       "\t 102       & 1507      & 806       & 319       &  9963     & 0.1020625 & 12        & 0        \\\\\n",
       "\t  87       & 1385      & 814       & 407       & 10955     & 0.1008733 &  8        & 0        \\\\\n",
       "\t 119       & 1632      & 991       & 454       & 11823     & 0.1010197 & 10        & 0        \\\\\n",
       "\t 106       & 1511      & 945       & 427       & 12391     & 0.1005812 & 13        & 0        \\\\\n",
       "\\end{tabular}\n"
      ],
      "text/markdown": [
       "\n",
       "| DriversKilled | drivers | front | rear | kms | PetrolPrice | VanKilled | law |\n",
       "|---|---|---|---|---|---|---|---|\n",
       "| 107       | 1687      | 867       | 269       |  9059     | 0.1029718 | 12        | 0         |\n",
       "|  97       | 1508      | 825       | 265       |  7685     | 0.1023630 |  6        | 0         |\n",
       "| 102       | 1507      | 806       | 319       |  9963     | 0.1020625 | 12        | 0         |\n",
       "|  87       | 1385      | 814       | 407       | 10955     | 0.1008733 |  8        | 0         |\n",
       "| 119       | 1632      | 991       | 454       | 11823     | 0.1010197 | 10        | 0         |\n",
       "| 106       | 1511      | 945       | 427       | 12391     | 0.1005812 | 13        | 0         |\n",
       "\n"
      ],
      "text/plain": [
       "  DriversKilled drivers front rear kms   PetrolPrice VanKilled law\n",
       "1 107           1687    867   269   9059 0.1029718   12        0  \n",
       "2  97           1508    825   265   7685 0.1023630    6        0  \n",
       "3 102           1507    806   319   9963 0.1020625   12        0  \n",
       "4  87           1385    814   407  10955 0.1008733    8        0  \n",
       "5 119           1632    991   454  11823 0.1010197   10        0  \n",
       "6 106           1511    945   427  12391 0.1005812   13        0  "
      ]
     },
     "metadata": {},
     "output_type": "display_data"
    }
   ],
   "source": [
    "head(seat_belts)"
   ]
  },
  {
   "cell_type": "markdown",
   "metadata": {},
   "source": [
    "# Logistic Regression"
   ]
  },
  {
   "cell_type": "code",
   "execution_count": 3,
   "metadata": {},
   "outputs": [],
   "source": [
    "quality = read.csv(\"./data/quality.csv\")"
   ]
  },
  {
   "cell_type": "code",
   "execution_count": 4,
   "metadata": {},
   "outputs": [
    {
     "data": {
      "text/html": [
       "<table>\n",
       "<thead><tr><th scope=col>MemberID</th><th scope=col>InpatientDays</th><th scope=col>ERVisits</th><th scope=col>OfficeVisits</th><th scope=col>Narcotics</th><th scope=col>DaysSinceLastERVisit</th><th scope=col>Pain</th><th scope=col>TotalVisits</th><th scope=col>ProviderCount</th><th scope=col>MedicalClaims</th><th scope=col>ClaimLines</th><th scope=col>StartedOnCombination</th><th scope=col>AcuteDrugGapSmall</th><th scope=col>PoorCare</th></tr></thead>\n",
       "<tbody>\n",
       "\t<tr><td>1    </td><td>0    </td><td>0    </td><td>18   </td><td>1    </td><td>731  </td><td>10   </td><td>18   </td><td>21   </td><td>93   </td><td>222  </td><td>FALSE</td><td>0    </td><td>0    </td></tr>\n",
       "\t<tr><td>2    </td><td>1    </td><td>1    </td><td> 6   </td><td>1    </td><td>411  </td><td> 0   </td><td> 8   </td><td>27   </td><td>19   </td><td>115  </td><td>FALSE</td><td>1    </td><td>0    </td></tr>\n",
       "\t<tr><td>3    </td><td>0    </td><td>0    </td><td> 5   </td><td>3    </td><td>731  </td><td>10   </td><td> 5   </td><td>16   </td><td>27   </td><td>148  </td><td>FALSE</td><td>5    </td><td>0    </td></tr>\n",
       "\t<tr><td>4    </td><td>0    </td><td>1    </td><td>19   </td><td>0    </td><td>158  </td><td>34   </td><td>20   </td><td>14   </td><td>59   </td><td>242  </td><td>FALSE</td><td>0    </td><td>0    </td></tr>\n",
       "\t<tr><td>5    </td><td>8    </td><td>2    </td><td>19   </td><td>3    </td><td>449  </td><td>10   </td><td>29   </td><td>24   </td><td>51   </td><td>204  </td><td>FALSE</td><td>0    </td><td>0    </td></tr>\n",
       "\t<tr><td>6    </td><td>2    </td><td>0    </td><td> 9   </td><td>2    </td><td>731  </td><td> 6   </td><td>11   </td><td>40   </td><td>53   </td><td>156  </td><td>FALSE</td><td>4    </td><td>1    </td></tr>\n",
       "</tbody>\n",
       "</table>\n"
      ],
      "text/latex": [
       "\\begin{tabular}{r|llllllllllllll}\n",
       " MemberID & InpatientDays & ERVisits & OfficeVisits & Narcotics & DaysSinceLastERVisit & Pain & TotalVisits & ProviderCount & MedicalClaims & ClaimLines & StartedOnCombination & AcuteDrugGapSmall & PoorCare\\\\\n",
       "\\hline\n",
       "\t 1     & 0     & 0     & 18    & 1     & 731   & 10    & 18    & 21    & 93    & 222   & FALSE & 0     & 0    \\\\\n",
       "\t 2     & 1     & 1     &  6    & 1     & 411   &  0    &  8    & 27    & 19    & 115   & FALSE & 1     & 0    \\\\\n",
       "\t 3     & 0     & 0     &  5    & 3     & 731   & 10    &  5    & 16    & 27    & 148   & FALSE & 5     & 0    \\\\\n",
       "\t 4     & 0     & 1     & 19    & 0     & 158   & 34    & 20    & 14    & 59    & 242   & FALSE & 0     & 0    \\\\\n",
       "\t 5     & 8     & 2     & 19    & 3     & 449   & 10    & 29    & 24    & 51    & 204   & FALSE & 0     & 0    \\\\\n",
       "\t 6     & 2     & 0     &  9    & 2     & 731   &  6    & 11    & 40    & 53    & 156   & FALSE & 4     & 1    \\\\\n",
       "\\end{tabular}\n"
      ],
      "text/markdown": [
       "\n",
       "| MemberID | InpatientDays | ERVisits | OfficeVisits | Narcotics | DaysSinceLastERVisit | Pain | TotalVisits | ProviderCount | MedicalClaims | ClaimLines | StartedOnCombination | AcuteDrugGapSmall | PoorCare |\n",
       "|---|---|---|---|---|---|---|---|---|---|---|---|---|---|\n",
       "| 1     | 0     | 0     | 18    | 1     | 731   | 10    | 18    | 21    | 93    | 222   | FALSE | 0     | 0     |\n",
       "| 2     | 1     | 1     |  6    | 1     | 411   |  0    |  8    | 27    | 19    | 115   | FALSE | 1     | 0     |\n",
       "| 3     | 0     | 0     |  5    | 3     | 731   | 10    |  5    | 16    | 27    | 148   | FALSE | 5     | 0     |\n",
       "| 4     | 0     | 1     | 19    | 0     | 158   | 34    | 20    | 14    | 59    | 242   | FALSE | 0     | 0     |\n",
       "| 5     | 8     | 2     | 19    | 3     | 449   | 10    | 29    | 24    | 51    | 204   | FALSE | 0     | 0     |\n",
       "| 6     | 2     | 0     |  9    | 2     | 731   |  6    | 11    | 40    | 53    | 156   | FALSE | 4     | 1     |\n",
       "\n"
      ],
      "text/plain": [
       "  MemberID InpatientDays ERVisits OfficeVisits Narcotics DaysSinceLastERVisit\n",
       "1 1        0             0        18           1         731                 \n",
       "2 2        1             1         6           1         411                 \n",
       "3 3        0             0         5           3         731                 \n",
       "4 4        0             1        19           0         158                 \n",
       "5 5        8             2        19           3         449                 \n",
       "6 6        2             0         9           2         731                 \n",
       "  Pain TotalVisits ProviderCount MedicalClaims ClaimLines StartedOnCombination\n",
       "1 10   18          21            93            222        FALSE               \n",
       "2  0    8          27            19            115        FALSE               \n",
       "3 10    5          16            27            148        FALSE               \n",
       "4 34   20          14            59            242        FALSE               \n",
       "5 10   29          24            51            204        FALSE               \n",
       "6  6   11          40            53            156        FALSE               \n",
       "  AcuteDrugGapSmall PoorCare\n",
       "1 0                 0       \n",
       "2 1                 0       \n",
       "3 5                 0       \n",
       "4 0                 0       \n",
       "5 0                 0       \n",
       "6 4                 1       "
      ]
     },
     "metadata": {},
     "output_type": "display_data"
    }
   ],
   "source": [
    "head(quality)"
   ]
  },
  {
   "cell_type": "code",
   "execution_count": 5,
   "metadata": {},
   "outputs": [
    {
     "name": "stdout",
     "output_type": "stream",
     "text": [
      "'data.frame':\t131 obs. of  14 variables:\n",
      " $ MemberID            : int  1 2 3 4 5 6 7 8 9 10 ...\n",
      " $ InpatientDays       : int  0 1 0 0 8 2 16 2 2 4 ...\n",
      " $ ERVisits            : int  0 1 0 1 2 0 1 0 1 2 ...\n",
      " $ OfficeVisits        : int  18 6 5 19 19 9 8 8 4 0 ...\n",
      " $ Narcotics           : int  1 1 3 0 3 2 1 0 3 2 ...\n",
      " $ DaysSinceLastERVisit: num  731 411 731 158 449 ...\n",
      " $ Pain                : int  10 0 10 34 10 6 4 5 5 2 ...\n",
      " $ TotalVisits         : int  18 8 5 20 29 11 25 10 7 6 ...\n",
      " $ ProviderCount       : int  21 27 16 14 24 40 19 11 28 21 ...\n",
      " $ MedicalClaims       : int  93 19 27 59 51 53 40 28 20 17 ...\n",
      " $ ClaimLines          : int  222 115 148 242 204 156 261 87 98 66 ...\n",
      " $ StartedOnCombination: logi  FALSE FALSE FALSE FALSE FALSE FALSE ...\n",
      " $ AcuteDrugGapSmall   : int  0 1 5 0 0 4 0 0 0 0 ...\n",
      " $ PoorCare            : int  0 0 0 0 0 1 0 0 1 0 ...\n"
     ]
    }
   ],
   "source": [
    "str(quality)"
   ]
  },
  {
   "cell_type": "code",
   "execution_count": 6,
   "metadata": {},
   "outputs": [
    {
     "data": {
      "text/plain": [
       "\n",
       " 0  1 \n",
       "98 33 "
      ]
     },
     "metadata": {},
     "output_type": "display_data"
    }
   ],
   "source": [
    "table(quality$PoorCare)"
   ]
  },
  {
   "cell_type": "code",
   "execution_count": 8,
   "metadata": {},
   "outputs": [
    {
     "data": {
      "text/html": [
       "0.748091603053435"
      ],
      "text/latex": [
       "0.748091603053435"
      ],
      "text/markdown": [
       "0.748091603053435"
      ],
      "text/plain": [
       "[1] 0.7480916"
      ]
     },
     "metadata": {},
     "output_type": "display_data"
    }
   ],
   "source": [
    "98/(98+33)"
   ]
  },
  {
   "cell_type": "code",
   "execution_count": 10,
   "metadata": {},
   "outputs": [
    {
     "name": "stderr",
     "output_type": "stream",
     "text": [
      "also installing the dependency 'bitops'\n",
      "\n"
     ]
    },
    {
     "name": "stdout",
     "output_type": "stream",
     "text": [
      "package 'bitops' successfully unpacked and MD5 sums checked\n",
      "package 'caTools' successfully unpacked and MD5 sums checked\n",
      "\n",
      "The downloaded binary packages are in\n",
      "\tC:\\Users\\satha\\AppData\\Local\\Temp\\Rtmpa6WYA5\\downloaded_packages\n"
     ]
    }
   ],
   "source": [
    "install.packages(\"caTools\")"
   ]
  },
  {
   "cell_type": "code",
   "execution_count": 12,
   "metadata": {},
   "outputs": [],
   "source": [
    "library(caTools)"
   ]
  },
  {
   "cell_type": "code",
   "execution_count": 13,
   "metadata": {},
   "outputs": [],
   "source": [
    "set.seed(16)\n",
    "split <- sample.split(quality$PoorCare, SplitRatio = 0.70)"
   ]
  },
  {
   "cell_type": "code",
   "execution_count": 15,
   "metadata": {},
   "outputs": [],
   "source": [
    "qualityTrain <- subset(quality, split == TRUE)\n",
    "qualityTest <- subset(quality, split == FALSE)"
   ]
  },
  {
   "cell_type": "code",
   "execution_count": 16,
   "metadata": {},
   "outputs": [
    {
     "data": {
      "text/html": [
       "92"
      ],
      "text/latex": [
       "92"
      ],
      "text/markdown": [
       "92"
      ],
      "text/plain": [
       "[1] 92"
      ]
     },
     "metadata": {},
     "output_type": "display_data"
    }
   ],
   "source": [
    "nrow(qualityTrain)"
   ]
  },
  {
   "cell_type": "code",
   "execution_count": 17,
   "metadata": {},
   "outputs": [
    {
     "data": {
      "text/html": [
       "39"
      ],
      "text/latex": [
       "39"
      ],
      "text/markdown": [
       "39"
      ],
      "text/plain": [
       "[1] 39"
      ]
     },
     "metadata": {},
     "output_type": "display_data"
    }
   ],
   "source": [
    "nrow(qualityTest)"
   ]
  },
  {
   "cell_type": "code",
   "execution_count": 18,
   "metadata": {},
   "outputs": [
    {
     "data": {
      "text/html": [
       "131"
      ],
      "text/latex": [
       "131"
      ],
      "text/markdown": [
       "131"
      ],
      "text/plain": [
       "[1] 131"
      ]
     },
     "metadata": {},
     "output_type": "display_data"
    }
   ],
   "source": [
    "nrow(quality)"
   ]
  },
  {
   "cell_type": "code",
   "execution_count": 20,
   "metadata": {},
   "outputs": [],
   "source": [
    "model <- glm(PoorCare ~ OfficeVisits + Narcotics, data = qualityTrain, family = 'binomial')"
   ]
  },
  {
   "cell_type": "code",
   "execution_count": 22,
   "metadata": {},
   "outputs": [],
   "source": [
    "predict <- predict(model, newdata = qualityTest, type = \"response\")"
   ]
  },
  {
   "cell_type": "code",
   "execution_count": 48,
   "metadata": {},
   "outputs": [
    {
     "data": {
      "text/plain": [
       "       \n",
       "predict  0  1\n",
       "      0 28  6\n",
       "      1  1  4"
      ]
     },
     "metadata": {},
     "output_type": "display_data"
    }
   ],
   "source": [
    "predict <- predict(model, newdata = qualityTest, type = \"response\")\n",
    "predict <- ifelse(predict >= 0.5, 1, 0)\n",
    "accuracy <- table(predict, qualityTest$PoorCare)\n",
    "accuracy"
   ]
  },
  {
   "cell_type": "code",
   "execution_count": 37,
   "metadata": {},
   "outputs": [
    {
     "data": {
      "text/html": [
       "0.82051282051282"
      ],
      "text/latex": [
       "0.82051282051282"
      ],
      "text/markdown": [
       "0.82051282051282"
      ],
      "text/plain": [
       "[1] 0.8205128"
      ]
     },
     "metadata": {},
     "output_type": "display_data"
    }
   ],
   "source": [
    "acc <- (28+4)/(28+6+1+4)\n",
    "acc"
   ]
  },
  {
   "cell_type": "code",
   "execution_count": 51,
   "metadata": {},
   "outputs": [
    {
     "data": {
      "text/plain": [
       "       \n",
       "predict  0  1\n",
       "      0 18  4\n",
       "      1 11  6"
      ]
     },
     "metadata": {},
     "output_type": "display_data"
    },
    {
     "data": {
      "text/html": [
       "0.615384615384615"
      ],
      "text/latex": [
       "0.615384615384615"
      ],
      "text/markdown": [
       "0.615384615384615"
      ],
      "text/plain": [
       "[1] 0.6153846"
      ]
     },
     "metadata": {},
     "output_type": "display_data"
    }
   ],
   "source": [
    "predict <- predict(model, newdata = qualityTest, type = \"response\")\n",
    "predict <- ifelse(predict >= 0.2, 1, 0)\n",
    "accuracy <- table(predict, qualityTest$PoorCare)\n",
    "accuracy\n",
    "acc <- (18+6)/(18+4+11+6)\n",
    "acc"
   ]
  },
  {
   "cell_type": "code",
   "execution_count": 52,
   "metadata": {},
   "outputs": [
    {
     "data": {
      "text/plain": [
       "       \n",
       "predict  0  1\n",
       "      0 29  7\n",
       "      1  0  3"
      ]
     },
     "metadata": {},
     "output_type": "display_data"
    },
    {
     "data": {
      "text/html": [
       "0.82051282051282"
      ],
      "text/latex": [
       "0.82051282051282"
      ],
      "text/markdown": [
       "0.82051282051282"
      ],
      "text/plain": [
       "[1] 0.8205128"
      ]
     },
     "metadata": {},
     "output_type": "display_data"
    }
   ],
   "source": [
    "predict <- predict(model, newdata = qualityTest, type = \"response\")\n",
    "predict <- ifelse(predict >= 0.7, 1, 0)\n",
    "accuracy <- table(predict, qualityTest$PoorCare)\n",
    "accuracy\n",
    "acc <- (29+3)/(29+7+0+3)\n",
    "acc"
   ]
  },
  {
   "cell_type": "code",
   "execution_count": 38,
   "metadata": {},
   "outputs": [
    {
     "name": "stderr",
     "output_type": "stream",
     "text": [
      "also installing the dependencies 'gtools', 'gdata', 'gplots'\n",
      "\n"
     ]
    },
    {
     "name": "stdout",
     "output_type": "stream",
     "text": [
      "package 'gtools' successfully unpacked and MD5 sums checked\n",
      "package 'gdata' successfully unpacked and MD5 sums checked\n",
      "package 'gplots' successfully unpacked and MD5 sums checked\n",
      "package 'ROCR' successfully unpacked and MD5 sums checked\n",
      "\n",
      "The downloaded binary packages are in\n",
      "\tC:\\Users\\satha\\AppData\\Local\\Temp\\Rtmpa6WYA5\\downloaded_packages\n"
     ]
    }
   ],
   "source": [
    "install.packages(\"ROCR\")"
   ]
  },
  {
   "cell_type": "code",
   "execution_count": 40,
   "metadata": {},
   "outputs": [],
   "source": [
    "library(\"ROCR\")"
   ]
  },
  {
   "cell_type": "code",
   "execution_count": 44,
   "metadata": {},
   "outputs": [
    {
     "data": {
      "image/png": "[encoded data removed]",
      "text/plain": [
       "plot without title"
      ]
     },
     "metadata": {},
     "output_type": "display_data"
    }
   ],
   "source": [
    "predictTrain <- predict(model, type = \"response\")\n",
    "ROCRpred <- prediction(predictTrain, qualityTrain$PoorCare)\n",
    "ROCRperf <- performance(ROCRpred, \"tpr\", \"fpr\")\n",
    "plot(ROCRperf, colorize = TRUE, print.cutoffs.at = seq(0,1,by=0.1), text.adj = c(-0.2, 1.7))"
   ]
  },
  {
   "cell_type": "code",
   "execution_count": null,
   "metadata": {},
   "outputs": [],
   "source": []
  }
 ],
 "metadata": {
  "kernelspec": {
   "display_name": "R",
   "language": "R",
   "name": "ir"
  },
  "language_info": {
   "codemirror_mode": "r",
   "file_extension": ".r",
   "mimetype": "text/x-r-source",
   "name": "R",
   "pygments_lexer": "r",
   "version": "3.6.1"
  }
 },
 "nbformat": 4,
 "nbformat_minor": 2
}
