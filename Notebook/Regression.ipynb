{
 "cells": [
  {
   "cell_type": "code",
   "execution_count": 118,
   "metadata": {},
   "outputs": [],
   "source": [
    "library(UsingR)"
   ]
  },
  {
   "cell_type": "code",
   "execution_count": 2,
   "metadata": {},
   "outputs": [],
   "source": [
    "data(galton)"
   ]
  },
  {
   "cell_type": "code",
   "execution_count": 9,
   "metadata": {},
   "outputs": [
    {
     "data": {
      "text/html": [
       "<table>\n",
       "<thead><tr><th></th><th scope=col>child</th><th scope=col>parent</th></tr></thead>\n",
       "<tbody>\n",
       "\t<tr><th scope=row>10</th><td>62.2</td><td>66.5</td></tr>\n",
       "\t<tr><th scope=row>11</th><td>62.2</td><td>66.5</td></tr>\n",
       "\t<tr><th scope=row>12</th><td>62.2</td><td>64.5</td></tr>\n",
       "\t<tr><th scope=row>13</th><td>63.2</td><td>70.5</td></tr>\n",
       "\t<tr><th scope=row>14</th><td>63.2</td><td>69.5</td></tr>\n",
       "\t<tr><th scope=row>15</th><td>63.2</td><td>68.5</td></tr>\n",
       "\t<tr><th scope=row>16</th><td>63.2</td><td>68.5</td></tr>\n",
       "\t<tr><th scope=row>17</th><td>63.2</td><td>68.5</td></tr>\n",
       "\t<tr><th scope=row>18</th><td>63.2</td><td>68.5</td></tr>\n",
       "\t<tr><th scope=row>19</th><td>63.2</td><td>68.5</td></tr>\n",
       "\t<tr><th scope=row>20</th><td>63.2</td><td>68.5</td></tr>\n",
       "</tbody>\n",
       "</table>\n"
      ],
      "text/latex": [
       "\\begin{tabular}{r|ll}\n",
       "  & child & parent\\\\\n",
       "\\hline\n",
       "\t10 & 62.2 & 66.5\\\\\n",
       "\t11 & 62.2 & 66.5\\\\\n",
       "\t12 & 62.2 & 64.5\\\\\n",
       "\t13 & 63.2 & 70.5\\\\\n",
       "\t14 & 63.2 & 69.5\\\\\n",
       "\t15 & 63.2 & 68.5\\\\\n",
       "\t16 & 63.2 & 68.5\\\\\n",
       "\t17 & 63.2 & 68.5\\\\\n",
       "\t18 & 63.2 & 68.5\\\\\n",
       "\t19 & 63.2 & 68.5\\\\\n",
       "\t20 & 63.2 & 68.5\\\\\n",
       "\\end{tabular}\n"
      ],
      "text/markdown": [
       "\n",
       "| <!--/--> | child | parent |\n",
       "|---|---|---|\n",
       "| 10 | 62.2 | 66.5 |\n",
       "| 11 | 62.2 | 66.5 |\n",
       "| 12 | 62.2 | 64.5 |\n",
       "| 13 | 63.2 | 70.5 |\n",
       "| 14 | 63.2 | 69.5 |\n",
       "| 15 | 63.2 | 68.5 |\n",
       "| 16 | 63.2 | 68.5 |\n",
       "| 17 | 63.2 | 68.5 |\n",
       "| 18 | 63.2 | 68.5 |\n",
       "| 19 | 63.2 | 68.5 |\n",
       "| 20 | 63.2 | 68.5 |\n",
       "\n"
      ],
      "text/plain": [
       "   child parent\n",
       "10 62.2  66.5  \n",
       "11 62.2  66.5  \n",
       "12 62.2  64.5  \n",
       "13 63.2  70.5  \n",
       "14 63.2  69.5  \n",
       "15 63.2  68.5  \n",
       "16 63.2  68.5  \n",
       "17 63.2  68.5  \n",
       "18 63.2  68.5  \n",
       "19 63.2  68.5  \n",
       "20 63.2  68.5  "
      ]
     },
     "metadata": {},
     "output_type": "display_data"
    }
   ],
   "source": [
    "galton[10:20,]"
   ]
  },
  {
   "cell_type": "code",
   "execution_count": 15,
   "metadata": {},
   "outputs": [
    {
     "data": {
      "text/html": [
       "-1.8669623059867"
      ],
      "text/latex": [
       "-1.8669623059867"
      ],
      "text/markdown": [
       "-1.8669623059867"
      ],
      "text/plain": [
       "[1] -1.866962"
      ]
     },
     "metadata": {},
     "output_type": "display_data"
    }
   ],
   "source": [
    "m = (5*21130-337*316)/(5*22804-337^2)\n",
    "m"
   ]
  },
  {
   "cell_type": "code",
   "execution_count": 16,
   "metadata": {},
   "outputs": [
    {
     "data": {
      "text/html": [
       "189.033259423503"
      ],
      "text/latex": [
       "189.033259423503"
      ],
      "text/markdown": [
       "189.033259423503"
      ],
      "text/plain": [
       "[1] 189.0333"
      ]
     },
     "metadata": {},
     "output_type": "display_data"
    }
   ],
   "source": [
    "b = (316-m*337)/5\n",
    "b"
   ]
  },
  {
   "cell_type": "code",
   "execution_count": 17,
   "metadata": {},
   "outputs": [
    {
     "data": {
      "text/html": [
       "<table>\n",
       "<thead><tr><th></th><th scope=col>child</th><th scope=col>parent</th></tr></thead>\n",
       "<tbody>\n",
       "\t<tr><th scope=row>87</th><td>64.2</td><td>66.5</td></tr>\n",
       "</tbody>\n",
       "</table>\n"
      ],
      "text/latex": [
       "\\begin{tabular}{r|ll}\n",
       "  & child & parent\\\\\n",
       "\\hline\n",
       "\t87 & 64.2 & 66.5\\\\\n",
       "\\end{tabular}\n"
      ],
      "text/markdown": [
       "\n",
       "| <!--/--> | child | parent |\n",
       "|---|---|---|\n",
       "| 87 | 64.2 | 66.5 |\n",
       "\n"
      ],
      "text/plain": [
       "   child parent\n",
       "87 64.2  66.5  "
      ]
     },
     "metadata": {},
     "output_type": "display_data"
    }
   ],
   "source": [
    "galton[87,]"
   ]
  },
  {
   "cell_type": "code",
   "execution_count": 18,
   "metadata": {},
   "outputs": [
    {
     "data": {
      "text/html": [
       "65.31"
      ],
      "text/latex": [
       "65.31"
      ],
      "text/markdown": [
       "65.31"
      ],
      "text/plain": [
       "[1] 65.31"
      ]
     },
     "metadata": {},
     "output_type": "display_data"
    }
   ],
   "source": [
    "-1.86*66.5 + 189"
   ]
  },
  {
   "cell_type": "code",
   "execution_count": 51,
   "metadata": {},
   "outputs": [],
   "source": [
    "?predict.lm"
   ]
  },
  {
   "cell_type": "code",
   "execution_count": 59,
   "metadata": {},
   "outputs": [
    {
     "data": {
      "text/html": [
       "<dl class=dl-horizontal>\n",
       "\t<dt>(Intercept)</dt>\n",
       "\t\t<dd>23.9415301804128</dd>\n",
       "\t<dt>parent</dt>\n",
       "\t\t<dd>0.646290581993641</dd>\n",
       "</dl>\n"
      ],
      "text/latex": [
       "\\begin{description*}\n",
       "\\item[(Intercept)] 23.9415301804128\n",
       "\\item[parent] 0.646290581993641\n",
       "\\end{description*}\n"
      ],
      "text/markdown": [
       "(Intercept)\n",
       ":   23.9415301804128parent\n",
       ":   0.646290581993641\n",
       "\n"
      ],
      "text/plain": [
       "(Intercept)      parent \n",
       " 23.9415302   0.6462906 "
      ]
     },
     "metadata": {},
     "output_type": "display_data"
    }
   ],
   "source": [
    "model <- lm(child~parent, data = galton)"
   ]
  },
  {
   "cell_type": "code",
   "execution_count": 62,
   "metadata": {},
   "outputs": [
    {
     "data": {
      "text/html": [
       "<strong>1:</strong> 69.1818709199677"
      ],
      "text/latex": [
       "\\textbf{1:} 69.1818709199677"
      ],
      "text/markdown": [
       "**1:** 69.1818709199677"
      ],
      "text/plain": [
       "       1 \n",
       "69.18187 "
      ]
     },
     "metadata": {},
     "output_type": "display_data"
    }
   ],
   "source": [
    "predict(model, data.frame(parent = 70))"
   ]
  },
  {
   "cell_type": "code",
   "execution_count": 41,
   "metadata": {},
   "outputs": [
    {
     "data": {
      "text/html": [
       "0.458762368292822"
      ],
      "text/latex": [
       "0.458762368292822"
      ],
      "text/markdown": [
       "0.458762368292822"
      ],
      "text/plain": [
       "[1] 0.4587624"
      ]
     },
     "metadata": {},
     "output_type": "display_data"
    }
   ],
   "source": [
    "cor(galton$parent, galton$child)"
   ]
  },
  {
   "cell_type": "code",
   "execution_count": 105,
   "metadata": {},
   "outputs": [
    {
     "data": {
      "image/png": "[encoded data removed]",
      "text/plain": [
       "plot without title"
      ]
     },
     "metadata": {},
     "output_type": "display_data"
    }
   ],
   "source": [
    "ggplot(galton, aes(x = parent, y = child)) + geom_point() + geom_abline(intercept = 23.9415301804128, slope = 0.646290581, color = \"red\")"
   ]
  },
  {
   "cell_type": "code",
   "execution_count": 106,
   "metadata": {},
   "outputs": [],
   "source": [
    "data(mtcars)"
   ]
  },
  {
   "cell_type": "code",
   "execution_count": 107,
   "metadata": {},
   "outputs": [
    {
     "data": {
      "text/html": [
       "<table>\n",
       "<thead><tr><th></th><th scope=col>mpg</th><th scope=col>cyl</th><th scope=col>disp</th><th scope=col>hp</th><th scope=col>drat</th><th scope=col>wt</th><th scope=col>qsec</th><th scope=col>vs</th><th scope=col>am</th><th scope=col>gear</th><th scope=col>carb</th></tr></thead>\n",
       "<tbody>\n",
       "\t<tr><th scope=row>Mazda RX4</th><td>21.0 </td><td>6    </td><td>160  </td><td>110  </td><td>3.90 </td><td>2.620</td><td>16.46</td><td>0    </td><td>1    </td><td>4    </td><td>4    </td></tr>\n",
       "\t<tr><th scope=row>Mazda RX4 Wag</th><td>21.0 </td><td>6    </td><td>160  </td><td>110  </td><td>3.90 </td><td>2.875</td><td>17.02</td><td>0    </td><td>1    </td><td>4    </td><td>4    </td></tr>\n",
       "\t<tr><th scope=row>Datsun 710</th><td>22.8 </td><td>4    </td><td>108  </td><td> 93  </td><td>3.85 </td><td>2.320</td><td>18.61</td><td>1    </td><td>1    </td><td>4    </td><td>1    </td></tr>\n",
       "\t<tr><th scope=row>Hornet 4 Drive</th><td>21.4 </td><td>6    </td><td>258  </td><td>110  </td><td>3.08 </td><td>3.215</td><td>19.44</td><td>1    </td><td>0    </td><td>3    </td><td>1    </td></tr>\n",
       "\t<tr><th scope=row>Hornet Sportabout</th><td>18.7 </td><td>8    </td><td>360  </td><td>175  </td><td>3.15 </td><td>3.440</td><td>17.02</td><td>0    </td><td>0    </td><td>3    </td><td>2    </td></tr>\n",
       "\t<tr><th scope=row>Valiant</th><td>18.1 </td><td>6    </td><td>225  </td><td>105  </td><td>2.76 </td><td>3.460</td><td>20.22</td><td>1    </td><td>0    </td><td>3    </td><td>1    </td></tr>\n",
       "</tbody>\n",
       "</table>\n"
      ],
      "text/latex": [
       "\\begin{tabular}{r|lllllllllll}\n",
       "  & mpg & cyl & disp & hp & drat & wt & qsec & vs & am & gear & carb\\\\\n",
       "\\hline\n",
       "\tMazda RX4 & 21.0  & 6     & 160   & 110   & 3.90  & 2.620 & 16.46 & 0     & 1     & 4     & 4    \\\\\n",
       "\tMazda RX4 Wag & 21.0  & 6     & 160   & 110   & 3.90  & 2.875 & 17.02 & 0     & 1     & 4     & 4    \\\\\n",
       "\tDatsun 710 & 22.8  & 4     & 108   &  93   & 3.85  & 2.320 & 18.61 & 1     & 1     & 4     & 1    \\\\\n",
       "\tHornet 4 Drive & 21.4  & 6     & 258   & 110   & 3.08  & 3.215 & 19.44 & 1     & 0     & 3     & 1    \\\\\n",
       "\tHornet Sportabout & 18.7  & 8     & 360   & 175   & 3.15  & 3.440 & 17.02 & 0     & 0     & 3     & 2    \\\\\n",
       "\tValiant & 18.1  & 6     & 225   & 105   & 2.76  & 3.460 & 20.22 & 1     & 0     & 3     & 1    \\\\\n",
       "\\end{tabular}\n"
      ],
      "text/markdown": [
       "\n",
       "| <!--/--> | mpg | cyl | disp | hp | drat | wt | qsec | vs | am | gear | carb |\n",
       "|---|---|---|---|---|---|---|---|---|---|---|---|\n",
       "| Mazda RX4 | 21.0  | 6     | 160   | 110   | 3.90  | 2.620 | 16.46 | 0     | 1     | 4     | 4     |\n",
       "| Mazda RX4 Wag | 21.0  | 6     | 160   | 110   | 3.90  | 2.875 | 17.02 | 0     | 1     | 4     | 4     |\n",
       "| Datsun 710 | 22.8  | 4     | 108   |  93   | 3.85  | 2.320 | 18.61 | 1     | 1     | 4     | 1     |\n",
       "| Hornet 4 Drive | 21.4  | 6     | 258   | 110   | 3.08  | 3.215 | 19.44 | 1     | 0     | 3     | 1     |\n",
       "| Hornet Sportabout | 18.7  | 8     | 360   | 175   | 3.15  | 3.440 | 17.02 | 0     | 0     | 3     | 2     |\n",
       "| Valiant | 18.1  | 6     | 225   | 105   | 2.76  | 3.460 | 20.22 | 1     | 0     | 3     | 1     |\n",
       "\n"
      ],
      "text/plain": [
       "                  mpg  cyl disp hp  drat wt    qsec  vs am gear carb\n",
       "Mazda RX4         21.0 6   160  110 3.90 2.620 16.46 0  1  4    4   \n",
       "Mazda RX4 Wag     21.0 6   160  110 3.90 2.875 17.02 0  1  4    4   \n",
       "Datsun 710        22.8 4   108   93 3.85 2.320 18.61 1  1  4    1   \n",
       "Hornet 4 Drive    21.4 6   258  110 3.08 3.215 19.44 1  0  3    1   \n",
       "Hornet Sportabout 18.7 8   360  175 3.15 3.440 17.02 0  0  3    2   \n",
       "Valiant           18.1 6   225  105 2.76 3.460 20.22 1  0  3    1   "
      ]
     },
     "metadata": {},
     "output_type": "display_data"
    }
   ],
   "source": [
    "head(mtcars)"
   ]
  },
  {
   "cell_type": "code",
   "execution_count": 109,
   "metadata": {},
   "outputs": [],
   "source": [
    "model <- lm(mpg~hp, data = mtcars)"
   ]
  },
  {
   "cell_type": "code",
   "execution_count": 110,
   "metadata": {},
   "outputs": [
    {
     "data": {
      "text/plain": [
       "\n",
       "Call:\n",
       "lm(formula = mpg ~ hp, data = mtcars)\n",
       "\n",
       "Coefficients:\n",
       "(Intercept)           hp  \n",
       "   30.09886     -0.06823  \n"
      ]
     },
     "metadata": {},
     "output_type": "display_data"
    }
   ],
   "source": [
    "model"
   ]
  },
  {
   "cell_type": "code",
   "execution_count": 116,
   "metadata": {},
   "outputs": [
    {
     "data": {
      "text/html": [
       "0.602437341423934"
      ],
      "text/latex": [
       "0.602437341423934"
      ],
      "text/markdown": [
       "0.602437341423934"
      ],
      "text/plain": [
       "[1] 0.6024373"
      ]
     },
     "metadata": {},
     "output_type": "display_data"
    }
   ],
   "source": [
    "r2_square = cor(mtcars$mpg, mtcars$hp)^2\n",
    "r2_square"
   ]
  },
  {
   "cell_type": "code",
   "execution_count": 114,
   "metadata": {
    "scrolled": false
   },
   "outputs": [
    {
     "data": {
      "image/png": "[encoded data removed]",
      "text/plain": [
       "plot without title"
      ]
     },
     "metadata": {},
     "output_type": "display_data"
    }
   ],
   "source": [
    "ggplot(mtcars, aes(x = hp, y = mpg)) + geom_point() + geom_abline(intercept = 30.09886, slope = -0.06823, color = \"red\")"
   ]
  },
  {
   "cell_type": "code",
   "execution_count": 117,
   "metadata": {},
   "outputs": [
    {
     "data": {
      "text/html": [
       "<strong>1:</strong> 19.8646188288879"
      ],
      "text/latex": [
       "\\textbf{1:} 19.8646188288879"
      ],
      "text/markdown": [
       "**1:** 19.8646188288879"
      ],
      "text/plain": [
       "       1 \n",
       "19.86462 "
      ]
     },
     "metadata": {},
     "output_type": "display_data"
    }
   ],
   "source": [
    "predict(model, data.frame(hp = 150))"
   ]
  },
  {
   "cell_type": "code",
   "execution_count": null,
   "metadata": {},
   "outputs": [],
   "source": []
  }
 ],
 "metadata": {
  "kernelspec": {
   "display_name": "R",
   "language": "R",
   "name": "ir"
  },
  "language_info": {
   "codemirror_mode": "r",
   "file_extension": ".r",
   "mimetype": "text/x-r-source",
   "name": "R",
   "pygments_lexer": "r",
   "version": "3.6.1"
  }
 },
 "nbformat": 4,
 "nbformat_minor": 2
}
