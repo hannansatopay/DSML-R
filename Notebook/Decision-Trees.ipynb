{
 "cells": [
  {
   "cell_type": "markdown",
   "metadata": {},
   "source": [
    "\n",
    "Hello, and welcome to the Decision Trees in R notebook. In this notebook, we will be going over what Decision Trees are, what they are used for, and how to utilize them in the R environment.\n",
    "\n",
    "---\n",
    "\n",
    "## The Classification Problem\n",
    "Suppose we are lost in a forest, and are very hungry. Unable to go on without eating something first, we take a look around, only to find nothing immediately edible -- just mushrooms.\n",
    "\n",
    "<center>\n",
    "<a title=\"By OliBac from FRANCE [CC BY 2.0 (http://creativecommons.org/licenses/by/2.0)], via Wikimedia Commons\" href=\"https://commons.wikimedia.org/wiki/File%3AChampignons_mushrooms_(950475736).jpg\"><img width=\"400\" alt=\"Champignons mushrooms (950475736)\" src=\"https://upload.wikimedia.org/wikipedia/commons/thumb/6/66/Champignons_mushrooms_%28950475736%29.jpg/512px-Champignons_mushrooms_%28950475736%29.jpg\"/></a>\n",
    "<font size=\"2\">*Many different kinds of mushrooms. Are they all safe to eat?*</font>\n",
    "</center>\n",
    "\n",
    "We're starving, so anything looks great to us, but eating one of those carelessly might result in us getting poisoned. To know if we can or cannot eat a mushroom, we need to **classify it based on our knowledge of its features**, in other words, we have a classification problem on our hands.\n",
    "\n",
    "This sort of problem is not simple to solve effectively -- there are many variables involved in correctly classifying something. There are many different kinds of mathematical models that were created to aid us in classification tasks. One of these models is the **Decision Tree model**.\n",
    "\n",
    "The Decision Tree is a predictive model based on the analysis of a set of data points that describe the type of object we want to classify. In our example, it might be a set of observations of a mushroom's cap type, its color, odor, shape of its stalk, etc. These descriptions of our object are called **features**, and are very important in many different kinds of machine learning algorithms, including Decision Trees. The classification we want out of these features is set aside as a \"result\" of sorts.\n",
    "\n",
    "<center>\n",
    "<img width=\"680\" src=\"https://ibm.box.com/shared/static/ar8rlcoyrs0n0kphj4g4n4rbhe76vpd9.png\"/>\n",
    "<font size=\"2\">*Example of mushroom features and their classification.*</font>\n",
    "</center>\n",
    "\n",
    "From this set of observations, the Decision Tree-creating algorithm infers probabilities -- for example, if many mushrooms that have large caps are poisonous, the algorithm will assume that the probability of large-cap mushrooms being poisonous is high. When the model is complete, we have a tree-like structure composed of what are called **decision nodes**, which ask our data point questions about its features, and **leaf nodes**, which tells us what classification the decision tree thinks our data point is.\n",
    "\n",
    "<center>\n",
    "<img width=\"840\" src=\"https://ibm.box.com/shared/static/urnm2onpitt8qz2296mltzcfdn1p040f.png\"/></a>\n",
    "<font size=\"2\">*Example of a possible Decision Tree describing mushrooms.*</font>\n",
    "</center>\n",
    "\n",
    "So, if we create a good Decision Tree, we can follow this \"workflow\" of sorts to find out what's more probable. Of course, there is no way to be completely certain, but Decision Trees -- when properly created -- are surprisingly effective at what they do.\n",
    "\n",
    "### The process of constructing the tree\n",
    "Now, the question is that __how this probablities are calculated?__\n",
    "\n",
    "let’s quickly review some terminology that can apply to decision trees. If some of these definitions don’t make sense right now, don’t worry, as we’ll be going through some examples that will clarify this.\n",
    "\n",
    "__Node:__. In a node, we have a dataset that gets tested for a certain attribute. The goal of the node is to split the dataset on an attribute.\n",
    "\n",
    "__Leaf node__: It is the terminal node in the tree that predicts the outcome.\n",
    "\n",
    "__Root node__: It appears at the top of tree and contains the entire dataset for that tree.\n",
    "\n",
    "\n",
    "__ How to find the best feature in each node to split \n",
    "\n",
    "__Entropy__: Entropy is calculated for each node. It is the amount of information disorder, or the amount of randomness in the data. The entropy in the node depends on how much random data is in that node. In decision tree we are looking for a trees that have smallest entropy in their nodes. The entropy is used to calculate the homogeneity of the samples in that node. If the samples are completely homogeneous the entropy is zero and if the sample is an equally divided it has entropy of one. It means, if all data in a node are either poisonous or edible, then the entropy is zero, but if the half of data are poisonous and other half are edible, then the entropuy is one. For example, to calculate the Entropy of our target class:  \n",
    "\n",
    "Entropy = - p(edible)*log(p(edible)) - p(poisonous)*log(p(poisonous))\n",
    "\n",
    "__ Information gain__: This is the information collected that can increase the level of certainty in a particular predictor (attributes). We can think of information gain and entropy as opposites. As entropy, or the amount of randomness, decreases, the information gain, or amount of certainty, increases, and vice-versa. So, constructing a decision tree is all about finding prdictors (attributes) that returns the highest information gain.\n",
    "\n",
    "__Algorithm:__\n",
    "\n",
    "1. Calculate entropy of the target field (the class label) for whole dataset.\n",
    "2. For each attribute:\n",
    "    - split the dataset on the attribute\n",
    "    - calculate entropy of the target field on splited dataset, using the attribute values\n",
    "    - calculate the information gain of the attribute\n",
    "3. select the attribute that has the largest informmation gain\n",
    "4. Branch the tree using the selected attribute\n",
    "5. stop, if it is a node with entropy of 0, otherwise jump to step2.\n",
    "\n",
    "we have our dataset at the root node consisting of 4 colors: red, blue, green, and yellow. There are 4 dots for each color, totaling 16 dots.  We’ll be using histograms to look at the chance that an out-of-sample data point would be a certain color (** Click **).\n",
    "\n",
    "\n",
    "\n",
    "## Decision Trees in R\n",
    "Now that we know what Decision Trees are, we can move on to creating them in R. To start, let's load up a data set. For this notebook, we will be using <a href=https://archive.ics.uci.edu/ml/machine-learning-databases/mushroom/>UCI's `Mushroom` dataset</a> to find out if a mushroom is poisonous or edible. Since this dataset is not inbuilt into R, we need to download it and load it into R. To download the dataset, run the code cell below."
   ]
  },
  {
   "cell_type": "code",
   "execution_count": 14,
   "metadata": {},
   "outputs": [],
   "source": [
    "download.file(\"https://ibm.box.com/shared/static/dpdh09s70abyiwxguehqvcq3dn0m7wve.data\", \"mushroom.data\")"
   ]
  },
  {
   "cell_type": "markdown",
   "metadata": {},
   "source": [
    "After you have finished downloading the file, we need to create a data frame to house the observations in the dataset. Since the dataset is structured using comma-separated values, we can use the `read.csv` function."
   ]
  },
  {
   "cell_type": "code",
   "execution_count": 15,
   "metadata": {},
   "outputs": [
    {
     "data": {
      "text/html": [
       "<table>\n",
       "<thead><tr><th scope=col>V1</th><th scope=col>V2</th><th scope=col>V3</th><th scope=col>V4</th><th scope=col>V5</th><th scope=col>V6</th><th scope=col>V7</th><th scope=col>V8</th><th scope=col>V9</th><th scope=col>V10</th><th scope=col>...</th><th scope=col>V14</th><th scope=col>V15</th><th scope=col>V16</th><th scope=col>V17</th><th scope=col>V18</th><th scope=col>V19</th><th scope=col>V20</th><th scope=col>V21</th><th scope=col>V22</th><th scope=col>V23</th></tr></thead>\n",
       "<tbody>\n",
       "\t<tr><td>p  </td><td>x  </td><td>s  </td><td>n  </td><td>t  </td><td>p  </td><td>f  </td><td>c  </td><td>n  </td><td>k  </td><td>...</td><td>s  </td><td>w  </td><td>w  </td><td>p  </td><td>w  </td><td>o  </td><td>p  </td><td>k  </td><td>s  </td><td>u  </td></tr>\n",
       "\t<tr><td>e  </td><td>x  </td><td>s  </td><td>y  </td><td>t  </td><td>a  </td><td>f  </td><td>c  </td><td>b  </td><td>k  </td><td>...</td><td>s  </td><td>w  </td><td>w  </td><td>p  </td><td>w  </td><td>o  </td><td>p  </td><td>n  </td><td>n  </td><td>g  </td></tr>\n",
       "\t<tr><td>e  </td><td>b  </td><td>s  </td><td>w  </td><td>t  </td><td>l  </td><td>f  </td><td>c  </td><td>b  </td><td>n  </td><td>...</td><td>s  </td><td>w  </td><td>w  </td><td>p  </td><td>w  </td><td>o  </td><td>p  </td><td>n  </td><td>n  </td><td>m  </td></tr>\n",
       "\t<tr><td>p  </td><td>x  </td><td>y  </td><td>w  </td><td>t  </td><td>p  </td><td>f  </td><td>c  </td><td>n  </td><td>n  </td><td>...</td><td>s  </td><td>w  </td><td>w  </td><td>p  </td><td>w  </td><td>o  </td><td>p  </td><td>k  </td><td>s  </td><td>u  </td></tr>\n",
       "\t<tr><td>e  </td><td>x  </td><td>s  </td><td>g  </td><td>f  </td><td>n  </td><td>f  </td><td>w  </td><td>b  </td><td>k  </td><td>...</td><td>s  </td><td>w  </td><td>w  </td><td>p  </td><td>w  </td><td>o  </td><td>e  </td><td>n  </td><td>a  </td><td>g  </td></tr>\n",
       "\t<tr><td>e  </td><td>x  </td><td>y  </td><td>y  </td><td>t  </td><td>a  </td><td>f  </td><td>c  </td><td>b  </td><td>n  </td><td>...</td><td>s  </td><td>w  </td><td>w  </td><td>p  </td><td>w  </td><td>o  </td><td>p  </td><td>k  </td><td>n  </td><td>g  </td></tr>\n",
       "</tbody>\n",
       "</table>\n"
      ],
      "text/latex": [
       "\\begin{tabular}{r|lllllllllllllllllllllll}\n",
       " V1 & V2 & V3 & V4 & V5 & V6 & V7 & V8 & V9 & V10 & ... & V14 & V15 & V16 & V17 & V18 & V19 & V20 & V21 & V22 & V23\\\\\n",
       "\\hline\n",
       "\t p   & x   & s   & n   & t   & p   & f   & c   & n   & k   & ... & s   & w   & w   & p   & w   & o   & p   & k   & s   & u  \\\\\n",
       "\t e   & x   & s   & y   & t   & a   & f   & c   & b   & k   & ... & s   & w   & w   & p   & w   & o   & p   & n   & n   & g  \\\\\n",
       "\t e   & b   & s   & w   & t   & l   & f   & c   & b   & n   & ... & s   & w   & w   & p   & w   & o   & p   & n   & n   & m  \\\\\n",
       "\t p   & x   & y   & w   & t   & p   & f   & c   & n   & n   & ... & s   & w   & w   & p   & w   & o   & p   & k   & s   & u  \\\\\n",
       "\t e   & x   & s   & g   & f   & n   & f   & w   & b   & k   & ... & s   & w   & w   & p   & w   & o   & e   & n   & a   & g  \\\\\n",
       "\t e   & x   & y   & y   & t   & a   & f   & c   & b   & n   & ... & s   & w   & w   & p   & w   & o   & p   & k   & n   & g  \\\\\n",
       "\\end{tabular}\n"
      ],
      "text/markdown": [
       "\n",
       "| V1 | V2 | V3 | V4 | V5 | V6 | V7 | V8 | V9 | V10 | ... | V14 | V15 | V16 | V17 | V18 | V19 | V20 | V21 | V22 | V23 |\n",
       "|---|---|---|---|---|---|---|---|---|---|---|---|---|---|---|---|---|---|---|---|---|\n",
       "| p   | x   | s   | n   | t   | p   | f   | c   | n   | k   | ... | s   | w   | w   | p   | w   | o   | p   | k   | s   | u   |\n",
       "| e   | x   | s   | y   | t   | a   | f   | c   | b   | k   | ... | s   | w   | w   | p   | w   | o   | p   | n   | n   | g   |\n",
       "| e   | b   | s   | w   | t   | l   | f   | c   | b   | n   | ... | s   | w   | w   | p   | w   | o   | p   | n   | n   | m   |\n",
       "| p   | x   | y   | w   | t   | p   | f   | c   | n   | n   | ... | s   | w   | w   | p   | w   | o   | p   | k   | s   | u   |\n",
       "| e   | x   | s   | g   | f   | n   | f   | w   | b   | k   | ... | s   | w   | w   | p   | w   | o   | e   | n   | a   | g   |\n",
       "| e   | x   | y   | y   | t   | a   | f   | c   | b   | n   | ... | s   | w   | w   | p   | w   | o   | p   | k   | n   | g   |\n",
       "\n"
      ],
      "text/plain": [
       "  V1 V2 V3 V4 V5 V6 V7 V8 V9 V10 ... V14 V15 V16 V17 V18 V19 V20 V21 V22 V23\n",
       "1 p  x  s  n  t  p  f  c  n  k   ... s   w   w   p   w   o   p   k   s   u  \n",
       "2 e  x  s  y  t  a  f  c  b  k   ... s   w   w   p   w   o   p   n   n   g  \n",
       "3 e  b  s  w  t  l  f  c  b  n   ... s   w   w   p   w   o   p   n   n   m  \n",
       "4 p  x  y  w  t  p  f  c  n  n   ... s   w   w   p   w   o   p   k   s   u  \n",
       "5 e  x  s  g  f  n  f  w  b  k   ... s   w   w   p   w   o   e   n   a   g  \n",
       "6 e  x  y  y  t  a  f  c  b  n   ... s   w   w   p   w   o   p   k   n   g  "
      ]
     },
     "metadata": {},
     "output_type": "display_data"
    }
   ],
   "source": [
    "mushrooms <- read.csv(\"mushroom.data\", header = F)\n",
    "head(mushrooms)"
   ]
  },
  {
   "cell_type": "markdown",
   "metadata": {},
   "source": [
    "Once that's done, we have the data loaded up. However, the way that it is structured isn't the most intuitive. In the code cell below, we are adding the column names to the data frame with the `colnames` function. Additionally, since our data frame is composed of *factors*, we can rename some of these factors to something more easily understood by us using `levels`."
   ]
  },
  {
   "cell_type": "code",
   "execution_count": 16,
   "metadata": {},
   "outputs": [
    {
     "data": {
      "text/html": [
       "<table>\n",
       "<thead><tr><th scope=col>Class</th><th scope=col>cap.shape</th><th scope=col>cap.surface</th><th scope=col>cap.color</th><th scope=col>bruises</th><th scope=col>odor</th><th scope=col>gill.attachment</th><th scope=col>gill.spacing</th><th scope=col>gill.size</th><th scope=col>gill.color</th><th scope=col>...</th><th scope=col>stalk.surface.below.ring</th><th scope=col>stalk.color.above.ring</th><th scope=col>stalk.color.below.ring</th><th scope=col>veil.type</th><th scope=col>veil.color</th><th scope=col>ring.number</th><th scope=col>ring.type</th><th scope=col>print</th><th scope=col>population</th><th scope=col>habitat</th></tr></thead>\n",
       "<tbody>\n",
       "\t<tr><td>p  </td><td>x  </td><td>s  </td><td>n  </td><td>t  </td><td>p  </td><td>f  </td><td>c  </td><td>n  </td><td>k  </td><td>...</td><td>s  </td><td>w  </td><td>w  </td><td>p  </td><td>w  </td><td>o  </td><td>p  </td><td>k  </td><td>s  </td><td>u  </td></tr>\n",
       "\t<tr><td>e  </td><td>x  </td><td>s  </td><td>y  </td><td>t  </td><td>a  </td><td>f  </td><td>c  </td><td>b  </td><td>k  </td><td>...</td><td>s  </td><td>w  </td><td>w  </td><td>p  </td><td>w  </td><td>o  </td><td>p  </td><td>n  </td><td>n  </td><td>g  </td></tr>\n",
       "\t<tr><td>e  </td><td>b  </td><td>s  </td><td>w  </td><td>t  </td><td>l  </td><td>f  </td><td>c  </td><td>b  </td><td>n  </td><td>...</td><td>s  </td><td>w  </td><td>w  </td><td>p  </td><td>w  </td><td>o  </td><td>p  </td><td>n  </td><td>n  </td><td>m  </td></tr>\n",
       "\t<tr><td>p  </td><td>x  </td><td>y  </td><td>w  </td><td>t  </td><td>p  </td><td>f  </td><td>c  </td><td>n  </td><td>n  </td><td>...</td><td>s  </td><td>w  </td><td>w  </td><td>p  </td><td>w  </td><td>o  </td><td>p  </td><td>k  </td><td>s  </td><td>u  </td></tr>\n",
       "\t<tr><td>e  </td><td>x  </td><td>s  </td><td>g  </td><td>f  </td><td>n  </td><td>f  </td><td>w  </td><td>b  </td><td>k  </td><td>...</td><td>s  </td><td>w  </td><td>w  </td><td>p  </td><td>w  </td><td>o  </td><td>e  </td><td>n  </td><td>a  </td><td>g  </td></tr>\n",
       "\t<tr><td>e  </td><td>x  </td><td>y  </td><td>y  </td><td>t  </td><td>a  </td><td>f  </td><td>c  </td><td>b  </td><td>n  </td><td>...</td><td>s  </td><td>w  </td><td>w  </td><td>p  </td><td>w  </td><td>o  </td><td>p  </td><td>k  </td><td>n  </td><td>g  </td></tr>\n",
       "</tbody>\n",
       "</table>\n"
      ],
      "text/latex": [
       "\\begin{tabular}{r|lllllllllllllllllllllll}\n",
       " Class & cap.shape & cap.surface & cap.color & bruises & odor & gill.attachment & gill.spacing & gill.size & gill.color & ... & stalk.surface.below.ring & stalk.color.above.ring & stalk.color.below.ring & veil.type & veil.color & ring.number & ring.type & print & population & habitat\\\\\n",
       "\\hline\n",
       "\t p   & x   & s   & n   & t   & p   & f   & c   & n   & k   & ... & s   & w   & w   & p   & w   & o   & p   & k   & s   & u  \\\\\n",
       "\t e   & x   & s   & y   & t   & a   & f   & c   & b   & k   & ... & s   & w   & w   & p   & w   & o   & p   & n   & n   & g  \\\\\n",
       "\t e   & b   & s   & w   & t   & l   & f   & c   & b   & n   & ... & s   & w   & w   & p   & w   & o   & p   & n   & n   & m  \\\\\n",
       "\t p   & x   & y   & w   & t   & p   & f   & c   & n   & n   & ... & s   & w   & w   & p   & w   & o   & p   & k   & s   & u  \\\\\n",
       "\t e   & x   & s   & g   & f   & n   & f   & w   & b   & k   & ... & s   & w   & w   & p   & w   & o   & e   & n   & a   & g  \\\\\n",
       "\t e   & x   & y   & y   & t   & a   & f   & c   & b   & n   & ... & s   & w   & w   & p   & w   & o   & p   & k   & n   & g  \\\\\n",
       "\\end{tabular}\n"
      ],
      "text/markdown": [
       "\n",
       "| Class | cap.shape | cap.surface | cap.color | bruises | odor | gill.attachment | gill.spacing | gill.size | gill.color | ... | stalk.surface.below.ring | stalk.color.above.ring | stalk.color.below.ring | veil.type | veil.color | ring.number | ring.type | print | population | habitat |\n",
       "|---|---|---|---|---|---|---|---|---|---|---|---|---|---|---|---|---|---|---|---|---|\n",
       "| p   | x   | s   | n   | t   | p   | f   | c   | n   | k   | ... | s   | w   | w   | p   | w   | o   | p   | k   | s   | u   |\n",
       "| e   | x   | s   | y   | t   | a   | f   | c   | b   | k   | ... | s   | w   | w   | p   | w   | o   | p   | n   | n   | g   |\n",
       "| e   | b   | s   | w   | t   | l   | f   | c   | b   | n   | ... | s   | w   | w   | p   | w   | o   | p   | n   | n   | m   |\n",
       "| p   | x   | y   | w   | t   | p   | f   | c   | n   | n   | ... | s   | w   | w   | p   | w   | o   | p   | k   | s   | u   |\n",
       "| e   | x   | s   | g   | f   | n   | f   | w   | b   | k   | ... | s   | w   | w   | p   | w   | o   | e   | n   | a   | g   |\n",
       "| e   | x   | y   | y   | t   | a   | f   | c   | b   | n   | ... | s   | w   | w   | p   | w   | o   | p   | k   | n   | g   |\n",
       "\n"
      ],
      "text/plain": [
       "  Class cap.shape cap.surface cap.color bruises odor gill.attachment\n",
       "1 p     x         s           n         t       p    f              \n",
       "2 e     x         s           y         t       a    f              \n",
       "3 e     b         s           w         t       l    f              \n",
       "4 p     x         y           w         t       p    f              \n",
       "5 e     x         s           g         f       n    f              \n",
       "6 e     x         y           y         t       a    f              \n",
       "  gill.spacing gill.size gill.color ... stalk.surface.below.ring\n",
       "1 c            n         k          ... s                       \n",
       "2 c            b         k          ... s                       \n",
       "3 c            b         n          ... s                       \n",
       "4 c            n         n          ... s                       \n",
       "5 w            b         k          ... s                       \n",
       "6 c            b         n          ... s                       \n",
       "  stalk.color.above.ring stalk.color.below.ring veil.type veil.color\n",
       "1 w                      w                      p         w         \n",
       "2 w                      w                      p         w         \n",
       "3 w                      w                      p         w         \n",
       "4 w                      w                      p         w         \n",
       "5 w                      w                      p         w         \n",
       "6 w                      w                      p         w         \n",
       "  ring.number ring.type print population habitat\n",
       "1 o           p         k     s          u      \n",
       "2 o           p         n     n          g      \n",
       "3 o           p         n     n          m      \n",
       "4 o           p         k     s          u      \n",
       "5 o           e         n     a          g      \n",
       "6 o           p         k     n          g      "
      ]
     },
     "metadata": {},
     "output_type": "display_data"
    }
   ],
   "source": [
    "# Define column names for the mushrooms data frame.\n",
    "colnames(mushrooms) <- c(\"Class\",\"cap.shape\",\"cap.surface\",\"cap.color\",\"bruises\",\"odor\",\"gill.attachment\",\"gill.spacing\",\n",
    "                         \"gill.size\",\"gill.color\",\"stalk.shape\",\"stalk.root\",\"stalk.surface.above.ring\",\n",
    "                         \"stalk.surface.below.ring\",\"stalk.color.above.ring\",\"stalk.color.below.ring\",\"veil.type\",\"veil.color\",\n",
    "                         \"ring.number\",\"ring.type\",\"print\",\"population\",\"habitat\")\n",
    "head(mushrooms)"
   ]
  },
  {
   "cell_type": "code",
   "execution_count": 17,
   "metadata": {},
   "outputs": [],
   "source": [
    "# Define the factor names for \"Class\"\n",
    "levels(mushrooms$Class) <- c(\"Edible\",\"Poisonous\")"
   ]
  },
  {
   "cell_type": "code",
   "execution_count": 18,
   "metadata": {},
   "outputs": [
    {
     "data": {
      "text/html": [
       "<table>\n",
       "<thead><tr><th scope=col>Class</th><th scope=col>cap.shape</th><th scope=col>cap.surface</th><th scope=col>cap.color</th><th scope=col>bruises</th><th scope=col>odor</th><th scope=col>gill.attachment</th><th scope=col>gill.spacing</th><th scope=col>gill.size</th><th scope=col>gill.color</th><th scope=col>...</th><th scope=col>stalk.surface.below.ring</th><th scope=col>stalk.color.above.ring</th><th scope=col>stalk.color.below.ring</th><th scope=col>veil.type</th><th scope=col>veil.color</th><th scope=col>ring.number</th><th scope=col>ring.type</th><th scope=col>print</th><th scope=col>population</th><th scope=col>habitat</th></tr></thead>\n",
       "<tbody>\n",
       "\t<tr><td>Poisonous</td><td>x        </td><td>s        </td><td>n        </td><td>t        </td><td>None     </td><td>f        </td><td>c        </td><td>n        </td><td>k        </td><td>...      </td><td>s        </td><td>w        </td><td>w        </td><td>p        </td><td>w        </td><td>o        </td><td>p        </td><td>Buff     </td><td>s        </td><td>u        </td></tr>\n",
       "\t<tr><td>Edible   </td><td>x        </td><td>s        </td><td>y        </td><td>t        </td><td>Almonds  </td><td>f        </td><td>c        </td><td>b        </td><td>k        </td><td>...      </td><td>s        </td><td>w        </td><td>w        </td><td>p        </td><td>w        </td><td>o        </td><td>p        </td><td>Chocolate</td><td>n        </td><td>g        </td></tr>\n",
       "\t<tr><td>Edible   </td><td>b        </td><td>s        </td><td>w        </td><td>t        </td><td>Fishy    </td><td>f        </td><td>c        </td><td>b        </td><td>n        </td><td>...      </td><td>s        </td><td>w        </td><td>w        </td><td>p        </td><td>w        </td><td>o        </td><td>p        </td><td>Chocolate</td><td>n        </td><td>m        </td></tr>\n",
       "\t<tr><td>Poisonous</td><td>x        </td><td>y        </td><td>w        </td><td>t        </td><td>None     </td><td>f        </td><td>c        </td><td>n        </td><td>n        </td><td>...      </td><td>s        </td><td>w        </td><td>w        </td><td>p        </td><td>w        </td><td>o        </td><td>p        </td><td>Buff     </td><td>s        </td><td>u        </td></tr>\n",
       "\t<tr><td>Edible   </td><td>x        </td><td>s        </td><td>g        </td><td>f        </td><td>Musty    </td><td>f        </td><td>w        </td><td>b        </td><td>k        </td><td>...      </td><td>s        </td><td>w        </td><td>w        </td><td>p        </td><td>w        </td><td>o        </td><td>e        </td><td>Chocolate</td><td>a        </td><td>g        </td></tr>\n",
       "\t<tr><td>Edible   </td><td>x        </td><td>y        </td><td>y        </td><td>t        </td><td>Almonds  </td><td>f        </td><td>c        </td><td>b        </td><td>n        </td><td>...      </td><td>s        </td><td>w        </td><td>w        </td><td>p        </td><td>w        </td><td>o        </td><td>p        </td><td>Buff     </td><td>n        </td><td>g        </td></tr>\n",
       "</tbody>\n",
       "</table>\n"
      ],
      "text/latex": [
       "\\begin{tabular}{r|lllllllllllllllllllllll}\n",
       " Class & cap.shape & cap.surface & cap.color & bruises & odor & gill.attachment & gill.spacing & gill.size & gill.color & ... & stalk.surface.below.ring & stalk.color.above.ring & stalk.color.below.ring & veil.type & veil.color & ring.number & ring.type & print & population & habitat\\\\\n",
       "\\hline\n",
       "\t Poisonous & x         & s         & n         & t         & None      & f         & c         & n         & k         & ...       & s         & w         & w         & p         & w         & o         & p         & Buff      & s         & u        \\\\\n",
       "\t Edible    & x         & s         & y         & t         & Almonds   & f         & c         & b         & k         & ...       & s         & w         & w         & p         & w         & o         & p         & Chocolate & n         & g        \\\\\n",
       "\t Edible    & b         & s         & w         & t         & Fishy     & f         & c         & b         & n         & ...       & s         & w         & w         & p         & w         & o         & p         & Chocolate & n         & m        \\\\\n",
       "\t Poisonous & x         & y         & w         & t         & None      & f         & c         & n         & n         & ...       & s         & w         & w         & p         & w         & o         & p         & Buff      & s         & u        \\\\\n",
       "\t Edible    & x         & s         & g         & f         & Musty     & f         & w         & b         & k         & ...       & s         & w         & w         & p         & w         & o         & e         & Chocolate & a         & g        \\\\\n",
       "\t Edible    & x         & y         & y         & t         & Almonds   & f         & c         & b         & n         & ...       & s         & w         & w         & p         & w         & o         & p         & Buff      & n         & g        \\\\\n",
       "\\end{tabular}\n"
      ],
      "text/markdown": [
       "\n",
       "| Class | cap.shape | cap.surface | cap.color | bruises | odor | gill.attachment | gill.spacing | gill.size | gill.color | ... | stalk.surface.below.ring | stalk.color.above.ring | stalk.color.below.ring | veil.type | veil.color | ring.number | ring.type | print | population | habitat |\n",
       "|---|---|---|---|---|---|---|---|---|---|---|---|---|---|---|---|---|---|---|---|---|\n",
       "| Poisonous | x         | s         | n         | t         | None      | f         | c         | n         | k         | ...       | s         | w         | w         | p         | w         | o         | p         | Buff      | s         | u         |\n",
       "| Edible    | x         | s         | y         | t         | Almonds   | f         | c         | b         | k         | ...       | s         | w         | w         | p         | w         | o         | p         | Chocolate | n         | g         |\n",
       "| Edible    | b         | s         | w         | t         | Fishy     | f         | c         | b         | n         | ...       | s         | w         | w         | p         | w         | o         | p         | Chocolate | n         | m         |\n",
       "| Poisonous | x         | y         | w         | t         | None      | f         | c         | n         | n         | ...       | s         | w         | w         | p         | w         | o         | p         | Buff      | s         | u         |\n",
       "| Edible    | x         | s         | g         | f         | Musty     | f         | w         | b         | k         | ...       | s         | w         | w         | p         | w         | o         | e         | Chocolate | a         | g         |\n",
       "| Edible    | x         | y         | y         | t         | Almonds   | f         | c         | b         | n         | ...       | s         | w         | w         | p         | w         | o         | p         | Buff      | n         | g         |\n",
       "\n"
      ],
      "text/plain": [
       "  Class     cap.shape cap.surface cap.color bruises odor    gill.attachment\n",
       "1 Poisonous x         s           n         t       None    f              \n",
       "2 Edible    x         s           y         t       Almonds f              \n",
       "3 Edible    b         s           w         t       Fishy   f              \n",
       "4 Poisonous x         y           w         t       None    f              \n",
       "5 Edible    x         s           g         f       Musty   f              \n",
       "6 Edible    x         y           y         t       Almonds f              \n",
       "  gill.spacing gill.size gill.color ... stalk.surface.below.ring\n",
       "1 c            n         k          ... s                       \n",
       "2 c            b         k          ... s                       \n",
       "3 c            b         n          ... s                       \n",
       "4 c            n         n          ... s                       \n",
       "5 w            b         k          ... s                       \n",
       "6 c            b         n          ... s                       \n",
       "  stalk.color.above.ring stalk.color.below.ring veil.type veil.color\n",
       "1 w                      w                      p         w         \n",
       "2 w                      w                      p         w         \n",
       "3 w                      w                      p         w         \n",
       "4 w                      w                      p         w         \n",
       "5 w                      w                      p         w         \n",
       "6 w                      w                      p         w         \n",
       "  ring.number ring.type print     population habitat\n",
       "1 o           p         Buff      s          u      \n",
       "2 o           p         Chocolate n          g      \n",
       "3 o           p         Chocolate n          m      \n",
       "4 o           p         Buff      s          u      \n",
       "5 o           e         Chocolate a          g      \n",
       "6 o           p         Buff      n          g      "
      ]
     },
     "metadata": {},
     "output_type": "display_data"
    }
   ],
   "source": [
    "# Define the factor names for \"odor\"\n",
    "levels(mushrooms$odor) <- c(\"Almonds\",\"Anise\",\"Creosote\",\"Fishy\",\"Foul\",\"Musty\",\"None\",\"Pungent\",\"Spicy\")\n",
    "# Define the factor names for \"print\"\n",
    "levels(mushrooms$print) <- c(\"Black\",\"Brown\",\"Buff\",\"Chocolate\",\"Green\",\"Orange\",\"Purple\",\"White\",\"Yellow\")\n",
    "head(mushrooms)"
   ]
  },
  {
   "cell_type": "markdown",
   "metadata": {},
   "source": [
    "Now we can get to building our model proper. For Decision Trees, we are going to utilize two different, but related, libraries: `rpart` to create the decision tree, and `rpart.plot` to visualize our decision tree. To import libraries, we use the `library` function, like so:"
   ]
  },
  {
   "cell_type": "code",
   "execution_count": 19,
   "metadata": {},
   "outputs": [],
   "source": [
    "# Import our required libraries\n",
    "library(rpart)\n",
    "library(rpart.plot)"
   ]
  },
  {
   "cell_type": "markdown",
   "metadata": {},
   "source": [
    "To create our decision tree model, we can use the `rpart` function. `rpart` is simple to use: you provide it a `formula`, show it the dataset it is supposed to use and choose a `method` (either \"class\" for classification or \"anova\" for regression).\n",
    "\n",
    "A great trick to know when handling very large structured datasets (our dataset has over 20 columns we want to use!) is that in `formula` declarations, one can use the `.` operator as a quick way of designating \"all other columns\" to R. You can also `print` the Decision Tree model to retrieve a summary describing it."
   ]
  },
  {
   "cell_type": "code",
   "execution_count": 20,
   "metadata": {},
   "outputs": [
    {
     "name": "stdout",
     "output_type": "stream",
     "text": [
      "n= 8124 \n",
      "\n",
      "node), split, n, loss, yval, (yprob)\n",
      "      * denotes terminal node\n",
      "\n",
      "1) root 8124 3916 Edible (0.51797144 0.48202856)  \n",
      "  2) odor=Almonds,Fishy,Musty 4328  120 Edible (0.97227357 0.02772643)  \n",
      "    4) print=Black,Brown,Buff,Chocolate,Green,Purple,White,Yellow 4256   48 Edible (0.98872180 0.01127820) *\n",
      "    5) print=Orange 72    0 Poisonous (0.00000000 1.00000000) *\n",
      "  3) odor=Anise,Creosote,Foul,None,Pungent,Spicy 3796    0 Poisonous (0.00000000 1.00000000) *\n"
     ]
    }
   ],
   "source": [
    "# Create a classification decision tree using \"Class\" as the variable we want to predict and everything else as its predictors.\n",
    "myDecisionTree <- rpart(Class ~ ., data = mushrooms, method = \"class\")\n",
    "# Print out a summary of our created model.\n",
    "print(myDecisionTree)"
   ]
  },
  {
   "cell_type": "markdown",
   "metadata": {},
   "source": [
    "Now that we have our model, we can draw it to gain a better understanding of how it is classifying the data points. We can use the `rpart.plot` function -- a specialized function for plotting trees -- to render our model. This function takes on some parameters for visualizing the tree in different ways -- try changing the `type` (from 1 to 4) parameter to see what happens!"
   ]
  },
  {
   "cell_type": "code",
   "execution_count": 21,
   "metadata": {},
   "outputs": [
    {
     "data": {
      "image/png": "[encoded data removed]",
      "text/plain": [
       "plot without title"
      ]
     },
     "metadata": {},
     "output_type": "display_data"
    }
   ],
   "source": [
    "rpart.plot(myDecisionTree, type = 3, extra = 2, under = TRUE, faclen=5, cex = .75)"
   ]
  },
  {
   "cell_type": "markdown",
   "metadata": {},
   "source": [
    "As we can see (under the classification results), our decision tree has perfect accuracy when classifying poisonous mushrooms, and almost perfect accuracy when dealing with edible ones!\n",
    "\n"
   ]
  },
  {
   "cell_type": "code",
   "execution_count": 22,
   "metadata": {},
   "outputs": [
    {
     "data": {
      "text/html": [
       "<table>\n",
       "<thead><tr><th></th><th scope=col>cap.shape</th><th scope=col>cap.surface</th><th scope=col>cap.color</th><th scope=col>bruises</th><th scope=col>odor</th><th scope=col>gill.attachment</th><th scope=col>gill.spacing</th><th scope=col>gill.size</th><th scope=col>gill.color</th><th scope=col>stalk.shape</th><th scope=col>...</th><th scope=col>stalk.surface.below.ring</th><th scope=col>stalk.color.above.ring</th><th scope=col>stalk.color.below.ring</th><th scope=col>veil.type</th><th scope=col>veil.color</th><th scope=col>ring.number</th><th scope=col>ring.type</th><th scope=col>print</th><th scope=col>population</th><th scope=col>habitat</th></tr></thead>\n",
       "<tbody>\n",
       "\t<tr><th scope=row>10</th><td>b      </td><td>s      </td><td>y      </td><td>t      </td><td>Almonds</td><td>f      </td><td>c      </td><td>b      </td><td>g      </td><td>e      </td><td>...    </td><td>s      </td><td>w      </td><td>w      </td><td>p      </td><td>w      </td><td>o      </td><td>p      </td><td>Buff   </td><td>s      </td><td>m      </td></tr>\n",
       "</tbody>\n",
       "</table>\n"
      ],
      "text/latex": [
       "\\begin{tabular}{r|llllllllllllllllllllll}\n",
       "  & cap.shape & cap.surface & cap.color & bruises & odor & gill.attachment & gill.spacing & gill.size & gill.color & stalk.shape & ... & stalk.surface.below.ring & stalk.color.above.ring & stalk.color.below.ring & veil.type & veil.color & ring.number & ring.type & print & population & habitat\\\\\n",
       "\\hline\n",
       "\t10 & b       & s       & y       & t       & Almonds & f       & c       & b       & g       & e       & ...     & s       & w       & w       & p       & w       & o       & p       & Buff    & s       & m      \\\\\n",
       "\\end{tabular}\n"
      ],
      "text/markdown": [
       "\n",
       "| <!--/--> | cap.shape | cap.surface | cap.color | bruises | odor | gill.attachment | gill.spacing | gill.size | gill.color | stalk.shape | ... | stalk.surface.below.ring | stalk.color.above.ring | stalk.color.below.ring | veil.type | veil.color | ring.number | ring.type | print | population | habitat |\n",
       "|---|---|---|---|---|---|---|---|---|---|---|---|---|---|---|---|---|---|---|---|---|---|\n",
       "| 10 | b       | s       | y       | t       | Almonds | f       | c       | b       | g       | e       | ...     | s       | w       | w       | p       | w       | o       | p       | Buff    | s       | m       |\n",
       "\n"
      ],
      "text/plain": [
       "   cap.shape cap.surface cap.color bruises odor    gill.attachment gill.spacing\n",
       "10 b         s           y         t       Almonds f               c           \n",
       "   gill.size gill.color stalk.shape ... stalk.surface.below.ring\n",
       "10 b         g          e           ... s                       \n",
       "   stalk.color.above.ring stalk.color.below.ring veil.type veil.color\n",
       "10 w                      w                      p         w         \n",
       "   ring.number ring.type print population habitat\n",
       "10 o           p         Buff  s          m      "
      ]
     },
     "metadata": {},
     "output_type": "display_data"
    }
   ],
   "source": [
    "newCase  <- mushrooms[10,-1]\n",
    "newCase"
   ]
  },
  {
   "cell_type": "code",
   "execution_count": 23,
   "metadata": {},
   "outputs": [
    {
     "data": {
      "text/html": [
       "<strong>10:</strong> Edible\n",
       "<details>\n",
       "\t<summary style=display:list-item;cursor:pointer>\n",
       "\t\t<strong>Levels</strong>:\n",
       "\t</summary>\n",
       "\t<ol class=list-inline>\n",
       "\t\t<li>'Edible'</li>\n",
       "\t\t<li>'Poisonous'</li>\n",
       "\t</ol>\n",
       "</details>"
      ],
      "text/latex": [
       "\\textbf{10:} Edible\n",
       "\\emph{Levels}: \\begin{enumerate*}\n",
       "\\item 'Edible'\n",
       "\\item 'Poisonous'\n",
       "\\end{enumerate*}\n"
      ],
      "text/markdown": [
       "**10:** Edible\n",
       "**Levels**: 1. 'Edible'\n",
       "2. 'Poisonous'\n",
       "\n",
       "\n"
      ],
      "text/plain": [
       "    10 \n",
       "Edible \n",
       "Levels: Edible Poisonous"
      ]
     },
     "metadata": {},
     "output_type": "display_data"
    }
   ],
   "source": [
    "predict(myDecisionTree, newCase, type = \"class\")"
   ]
  },
  {
   "cell_type": "markdown",
   "metadata": {},
   "source": [
    "### How accurate our model is?"
   ]
  },
  {
   "cell_type": "code",
   "execution_count": 25,
   "metadata": {},
   "outputs": [],
   "source": [
    "n = 8124\n",
    "train_ind <- sample(c(1:n), size = 10)"
   ]
  },
  {
   "cell_type": "code",
   "execution_count": 26,
   "metadata": {},
   "outputs": [],
   "source": [
    "## 75% of the sample size\n",
    "n <- nrow(mushrooms)\n",
    "smp_size <- floor(0.75 * n)\n",
    "\n",
    "## set the seed to make your partition reproductible\n",
    "set.seed(123)\n",
    "train_ind <- sample(c(1:n), size = smp_size)\n",
    "\n",
    "mushrooms_train <- mushrooms[train_ind, ]\n",
    "mushrooms_test <- mushrooms[-train_ind, ]"
   ]
  },
  {
   "cell_type": "code",
   "execution_count": 27,
   "metadata": {},
   "outputs": [],
   "source": [
    "newDT <- rpart(Class ~ ., data = mushrooms_train, method = \"class\")"
   ]
  },
  {
   "cell_type": "code",
   "execution_count": 28,
   "metadata": {},
   "outputs": [],
   "source": [
    "result <- predict(newDT, mushrooms_test[,-1], type = \"class\")"
   ]
  },
  {
   "cell_type": "code",
   "execution_count": 29,
   "metadata": {},
   "outputs": [
    {
     "data": {
      "text/html": [
       "<dl class=dl-horizontal>\n",
       "\t<dt>3</dt>\n",
       "\t\t<dd>Edible</dd>\n",
       "\t<dt>4</dt>\n",
       "\t\t<dd>Poisonous</dd>\n",
       "\t<dt>7</dt>\n",
       "\t\t<dd>Edible</dd>\n",
       "\t<dt>8</dt>\n",
       "\t\t<dd>Edible</dd>\n",
       "\t<dt>10</dt>\n",
       "\t\t<dd>Edible</dd>\n",
       "\t<dt>11</dt>\n",
       "\t\t<dd>Edible</dd>\n",
       "</dl>\n",
       "\n",
       "<details>\n",
       "\t<summary style=display:list-item;cursor:pointer>\n",
       "\t\t<strong>Levels</strong>:\n",
       "\t</summary>\n",
       "\t<ol class=list-inline>\n",
       "\t\t<li>'Edible'</li>\n",
       "\t\t<li>'Poisonous'</li>\n",
       "\t</ol>\n",
       "</details>"
      ],
      "text/latex": [
       "\\begin{description*}\n",
       "\\item[3] Edible\n",
       "\\item[4] Poisonous\n",
       "\\item[7] Edible\n",
       "\\item[8] Edible\n",
       "\\item[10] Edible\n",
       "\\item[11] Edible\n",
       "\\end{description*}\n",
       "\n",
       "\\emph{Levels}: \\begin{enumerate*}\n",
       "\\item 'Edible'\n",
       "\\item 'Poisonous'\n",
       "\\end{enumerate*}\n"
      ],
      "text/markdown": [
       "3\n",
       ":   Edible4\n",
       ":   Poisonous7\n",
       ":   Edible8\n",
       ":   Edible10\n",
       ":   Edible11\n",
       ":   Edible\n",
       "\n",
       "\n",
       "**Levels**: 1. 'Edible'\n",
       "2. 'Poisonous'\n",
       "\n",
       "\n"
      ],
      "text/plain": [
       "        3         4         7         8        10        11 \n",
       "   Edible Poisonous    Edible    Edible    Edible    Edible \n",
       "Levels: Edible Poisonous"
      ]
     },
     "metadata": {},
     "output_type": "display_data"
    }
   ],
   "source": [
    "head(result)"
   ]
  },
  {
   "cell_type": "code",
   "execution_count": 30,
   "metadata": {},
   "outputs": [
    {
     "data": {
      "text/html": [
       "<ol class=list-inline>\n",
       "\t<li>Edible</li>\n",
       "\t<li>Poisonous</li>\n",
       "\t<li>Edible</li>\n",
       "\t<li>Edible</li>\n",
       "\t<li>Edible</li>\n",
       "\t<li>Edible</li>\n",
       "</ol>\n",
       "\n",
       "<details>\n",
       "\t<summary style=display:list-item;cursor:pointer>\n",
       "\t\t<strong>Levels</strong>:\n",
       "\t</summary>\n",
       "\t<ol class=list-inline>\n",
       "\t\t<li>'Edible'</li>\n",
       "\t\t<li>'Poisonous'</li>\n",
       "\t</ol>\n",
       "</details>"
      ],
      "text/latex": [
       "\\begin{enumerate*}\n",
       "\\item Edible\n",
       "\\item Poisonous\n",
       "\\item Edible\n",
       "\\item Edible\n",
       "\\item Edible\n",
       "\\item Edible\n",
       "\\end{enumerate*}\n",
       "\n",
       "\\emph{Levels}: \\begin{enumerate*}\n",
       "\\item 'Edible'\n",
       "\\item 'Poisonous'\n",
       "\\end{enumerate*}\n"
      ],
      "text/markdown": [
       "1. Edible\n",
       "2. Poisonous\n",
       "3. Edible\n",
       "4. Edible\n",
       "5. Edible\n",
       "6. Edible\n",
       "\n",
       "\n",
       "\n",
       "**Levels**: 1. 'Edible'\n",
       "2. 'Poisonous'\n",
       "\n",
       "\n"
      ],
      "text/plain": [
       "[1] Edible    Poisonous Edible    Edible    Edible    Edible   \n",
       "Levels: Edible Poisonous"
      ]
     },
     "metadata": {},
     "output_type": "display_data"
    }
   ],
   "source": [
    "head(mushrooms_test$Class)"
   ]
  },
  {
   "cell_type": "code",
   "execution_count": 33,
   "metadata": {},
   "outputs": [
    {
     "data": {
      "text/plain": [
       "           result\n",
       "            Edible Poisonous\n",
       "  Edible      1068         0\n",
       "  Poisonous     15       948"
      ]
     },
     "metadata": {},
     "output_type": "display_data"
    }
   ],
   "source": [
    "conf_mat <- table(mushrooms_test$Class, result)\n",
    "conf_mat"
   ]
  },
  {
   "cell_type": "code",
   "execution_count": 34,
   "metadata": {},
   "outputs": [
    {
     "name": "stdout",
     "output_type": "stream",
     "text": [
      "Test accuracy:  0.9926145"
     ]
    }
   ],
   "source": [
    "cat(\"Test accuracy: \", sum(diag(conf_mat))/sum(conf_mat))"
   ]
  },
  {
   "cell_type": "code",
   "execution_count": null,
   "metadata": {},
   "outputs": [],
   "source": []
  }
 ],
 "metadata": {
  "anaconda-cloud": {},
  "kernelspec": {
   "display_name": "R",
   "language": "R",
   "name": "ir"
  },
  "language_info": {
   "codemirror_mode": "r",
   "file_extension": ".r",
   "mimetype": "text/x-r-source",
   "name": "R",
   "pygments_lexer": "r",
   "version": "3.6.1"
  },
  "widgets": {
   "state": {},
   "version": "1.1.2"
  }
 },
 "nbformat": 4,
 "nbformat_minor": 1
}
